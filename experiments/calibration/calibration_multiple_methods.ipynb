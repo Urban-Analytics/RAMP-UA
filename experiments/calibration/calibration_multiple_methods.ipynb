{
 "cells": [
  {
   "cell_type": "markdown",
   "metadata": {
    "collapsed": true
   },
   "source": [
    "## This notebook is the initial replica of running several models to the calibrations parameters for EcoTwins."
   ]
  },
  {
   "cell_type": "markdown",
   "metadata": {},
   "source": [
    "Importing the requeried libraries"
   ]
  },
  {
   "cell_type": "code",
   "execution_count": 1,
   "metadata": {},
   "outputs": [],
   "source": [
    "import numpy as np\n",
    "import yaml # pyyaml library for reading the parameters.yml file\n",
    "import os\n",
    "import itertools\n",
    "import matplotlib.pyplot as plt\n",
    "\n",
    "from coding.model.opencl.ramp.run import run_headless\n",
    "from coding.model.opencl.ramp.run import run_opencl\n",
    "from coding.model.opencl.ramp.snapshot_convertor import SnapshotConvertor\n",
    "from coding.model.opencl.ramp.snapshot import Snapshot\n",
    "from coding.model.opencl.ramp.params import Params, IndividualHazardMultipliers, LocationHazardMultipliers\n",
    "from coding.initialise.initialisation_cache import InitialisationCache\n",
    "from coding.model.opencl.ramp.simulator import Simulator\n",
    "from coding.model.opencl.ramp.disease_statuses import DiseaseStatus\n",
    "\n",
    "\n",
    "from coding.model.opencl.ramp.run import run_opencl\n",
    "from coding.constants import Constants\n",
    "\n",
    "# Useful for connecting to this kernel\n",
    "#%connect_info"
   ]
  }
 ],
 "metadata": {
  "interpreter": {
   "hash": "53e748a7f8540b19e03b11ce03dceb95fd49fd9aa2cc4f3091bcc0e059cafaf0"
  },
  "kernelspec": {
   "display_name": "Python 3.7.10 64-bit ('ecotwins_Oct21': conda)",
   "name": "python3"
  },
  "language_info": {
   "codemirror_mode": {
    "name": "ipython",
    "version": 3
   },
   "file_extension": ".py",
   "mimetype": "text/x-python",
   "name": "python",
   "nbconvert_exporter": "python",
   "pygments_lexer": "ipython3",
   "version": "3.7.10"
  }
 },
 "nbformat": 4,
 "nbformat_minor": 1
}
