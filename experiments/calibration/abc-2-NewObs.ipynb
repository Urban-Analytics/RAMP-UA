{
 "cells": [
  {
   "cell_type": "markdown",
   "metadata": {},
   "source": [
    "# Multi-parameter calibration of the OpenCL RAMP model using ABC\n",
    "\n",
    "### Parameter definitions\n",
    "The OpenCL RAMP model creates a synthetic population and simulates the movements of individuals between various locations (home, work, school, shops). If an individual is infected then they impart an infection risk on to the locations that they visit. The severity of this infection risk is determined by whether the individual is presymptomatic, asymptomatic or symptomatic (the **individual's hazard rating**). The locations in the model thus come to have an infection risk, based upon how many infected individuals from each infection status have visited. When susceptible individuals without the disease visit these locations their risk of being infected is determined by the location's infection risk, alongside the transmission hazard associated with that kind of location (the location's hazard rating). An additional hazard rating, the current risk beta, is used to control the general transmissability of the disease (?) \n",
    "\n",
    "### Parameter calibration\n",
    "The <ins>location</ins> and <ins>individual</ins> hazards, and the current risk beta rating must be calibrated to find the values which best reproduce real life observations. Here, the parameter values are calibrated once using historical data and Approximate Bayesian Computation (ABC). \n",
    "\n",
    "Prior distributions for each parameter are defined and then ABC approximates the likelihoods of different parameter values by running the model a large number of times. Each time parameter values are drawn randomly from the prior distributions, and the parameter values from the simulations with results closest to the observations are kept. A fitness function is used to assess the similarity of model results to observations. In this case, the Euclidean difference between the observed number of cases per week and the simulated number of cases per week is calculated. \n",
    "\n",
    "In this script, the predictive model is calibrated once. The model is ran using ABC for 105 days, with two populations.  \n",
    "\n",
    "\n",
    "### Parameter priors\n",
    "ABC requires prior distributions to be specified for the parameters.\n",
    "\n",
    "<ins>Location hazards</ins> \n",
    " - `Home` (transmission hazard associated with being with an infected individual at home)\n",
    "     - <i>Fixed at 1.0, so all other multipliers are relative to this. This is almost certaintly the most risky activity (i.e. transmission at home is very likely) so no other priors allow values above 1.0. </i>\n",
    " - `Retail` (transmission hazard associated with being with an infected individual in a shop)\n",
    "     - <i> Uniform between 0 and 1 </i>\n",
    " - `PrimarySchool` (transmission hazard associated with being with an infected individual at primary school)\n",
    "     - <i> Uniform between 0 and 1 </i> \n",
    " - `SecondarySchool` (transmission hazard associated with being with an infected individual at secondary school)\n",
    "     - <i> Uniform between 0 and 1 </i> \n",
    " - `Work` (transmission hazard associated with being with an infected individual at work)\n",
    "     - <i> Uniform between 0 and 1 </i> \n",
    " \n",
    "<ins> Individual hazards</ins> \n",
    " - `asymptomatic` (transmission hazard associated with asymptomatic individuals)  \n",
    "      - <i> This is tricky because we don't know the hazard associated with asymptomatic transmission. James Salter used a prior of: N(0.444, 0.155) which gives the middle 95% as [0.138, 0.75] ([0.138 estimated here](https://www.medrxiv.org/content/10.1101/2020.06.04.20121434v2), [0.58 estimated here](https://jammi.utpjournals.press/doi/abs/10.3138/jammi-2020-0030), [0.75 estimated here (Table 1)](https://www.cdc.gov/coronavirus/2019-ncov/hcp/planning-scenarios.html). </i>\n",
    " - `presymptomatic` (transmission hazard associated with presymptomatic individuals)  \n",
    "    - <i> Same as asymptomatic (but abc-2.iypnb fixes them at 1 ? </i>\n",
    " - `symptomatic` (transmission hazard associated with symptomatic individuals)   \n",
    "    - <i> Same as asymptomatic (but abc-2.iypnb fixes them at 1 ?)</i>       \n",
    "\n",
    "\n",
    "<ins> Other hazards</ins> \n",
    "- `current_risk_beta`  \n",
    "\n",
    "<!-- To adapt an ABM to allow it to be optimised in response to data emerging in real time. This would mean performing dynamic calibration (i.e. re calibrating at every model time step) using ABC. -->\n",
    "\n",
    "<!-- At the moment, however, such predictive ABMs are generally calibrated once, using historical data to adjust their more flexible parameters such that the model predicts present and past conditions well. The models are then allowed to roll forward in time, independent of the world, to make a prediction. As the systems modelled are usually complex, it is likely that over longer time periods such models diverge from realistic estimates. Even over shorter time periods there is little done to check model performance, let alone constrain it. -->\n",
    "\n",
    "\n"
   ]
  },
  {
   "cell_type": "markdown",
   "metadata": {},
   "source": [
    "## Import modules"
   ]
  },
  {
   "cell_type": "code",
   "execution_count": 55,
   "metadata": {},
   "outputs": [],
   "source": [
    "import multiprocessing as mp\n",
    "import numpy as np\n",
    "import yaml # pyyaml library for reading the parameters.yml file\n",
    "import os\n",
    "import itertools\n",
    "import pandas as pd\n",
    "import unittest\n",
    "import pickle\n",
    "import copy\n",
    "import random\n",
    "import matplotlib.pyplot as plt\n",
    "import scipy.stats as stats\n",
    "\n",
    "import pyabc\n",
    "from pygam import LinearGAM  # For graphing posteriors\n",
    "from pyabc.transition.multivariatenormal import MultivariateNormalTransition  # For drawing from the posterior\n",
    "\n",
    "from microsim.opencl.ramp.run import run_headless\n",
    "from microsim.opencl.ramp.snapshot_convertor import SnapshotConvertor\n",
    "from microsim.opencl.ramp.snapshot import Snapshot\n",
    "from microsim.opencl.ramp.params import Params, IndividualHazardMultipliers, LocationHazardMultipliers\n",
    "from microsim.opencl.ramp.simulator import Simulator\n",
    "from microsim.opencl.ramp.disease_statuses import DiseaseStatus\n",
    "\n",
    "# Quieten down the pyopencl info messages (just print errors)\n",
    "import logging\n",
    "logging.getLogger(\"pyopencl\").setLevel(logging.ERROR)\n",
    "\n",
    "import sys\n",
    "sys.path.append('..')\n",
    "#import experiments_functions  # For the ones outside the class\n",
    "from opencl_runner import OpenCLRunner # Some additional notebook-specific functions required (functions.py)\n",
    "\n",
    "# Set this to False to recalculate all results (good on HPC or whatever). \n",
    "# If true then it loads pre-calculated results from pickle files (much quicker)\n",
    "LOAD_PICKLES = True\n",
    "\n",
    "# Useful for connecting to this kernel\n",
    "#%connect_info"
   ]
  },
  {
   "cell_type": "markdown",
   "metadata": {},
   "source": [
    "## Setup"
   ]
  },
  {
   "cell_type": "markdown",
   "metadata": {},
   "source": [
    "Read parameters"
   ]
  },
  {
   "cell_type": "code",
   "execution_count": 56,
   "metadata": {},
   "outputs": [
    {
     "name": "stderr",
     "output_type": "stream",
     "text": [
      "c:\\users\\gy17m2a\\onedrive - university of leeds\\project\\ramp-ua\\microsim\\opencl\\ramp\\params.py:58: UserWarning: Params object is being created using hard-coded default values, not those in the parameters file. This warning will not be displayed again.\n",
      "  warnings.warn(\"Params object is being created using hard-coded default values, \"\n"
     ]
    }
   ],
   "source": [
    "PARAMETERS_FILE = os.path.join(\"../../\",\"model_parameters\", \"default.yml\")\n",
    "PARAMS = OpenCLRunner.create_parameters(parameters_file=PARAMETERS_FILE)"
   ]
  },
  {
   "cell_type": "markdown",
   "metadata": {},
   "source": [
    "Open snapshot (i.e. an already-initialised model)"
   ]
  },
  {
   "cell_type": "code",
   "execution_count": 57,
   "metadata": {},
   "outputs": [],
   "source": [
    "OPENCL_DIR = \"../../microsim/opencl\"\n",
    "SNAPSHOT_FILEPATH = os.path.join(OPENCL_DIR, \"snapshots\", \"cache.npz\")\n",
    "assert os.path.isfile(SNAPSHOT_FILEPATH), f\"Snapshot doesn't exist: {SNAPSHOT_FILEPATH}\""
   ]
  },
  {
   "cell_type": "markdown",
   "metadata": {},
   "source": [
    "#### Read in observation data"
   ]
  },
  {
   "cell_type": "code",
   "execution_count": 58,
   "metadata": {},
   "outputs": [
    {
     "data": {
      "text/html": [
       "<div>\n",
       "<style scoped>\n",
       "    .dataframe tbody tr th:only-of-type {\n",
       "        vertical-align: middle;\n",
       "    }\n",
       "\n",
       "    .dataframe tbody tr th {\n",
       "        vertical-align: top;\n",
       "    }\n",
       "\n",
       "    .dataframe thead th {\n",
       "        text-align: right;\n",
       "    }\n",
       "</style>\n",
       "<table border=\"1\" class=\"dataframe\">\n",
       "  <thead>\n",
       "    <tr style=\"text-align: right;\">\n",
       "      <th></th>\n",
       "      <th>Date</th>\n",
       "      <th>OriginalCases</th>\n",
       "      <th>CumulativeCases</th>\n",
       "    </tr>\n",
       "  </thead>\n",
       "  <tbody>\n",
       "    <tr>\n",
       "      <th>0</th>\n",
       "      <td>2020-03-22</td>\n",
       "      <td>768.188763</td>\n",
       "      <td>768.188763</td>\n",
       "    </tr>\n",
       "    <tr>\n",
       "      <th>1</th>\n",
       "      <td>2020-03-29</td>\n",
       "      <td>1417.566351</td>\n",
       "      <td>2185.755114</td>\n",
       "    </tr>\n",
       "    <tr>\n",
       "      <th>2</th>\n",
       "      <td>2020-04-05</td>\n",
       "      <td>2062.734952</td>\n",
       "      <td>4248.490065</td>\n",
       "    </tr>\n",
       "    <tr>\n",
       "      <th>3</th>\n",
       "      <td>2020-04-12</td>\n",
       "      <td>2467.541220</td>\n",
       "      <td>6716.031286</td>\n",
       "    </tr>\n",
       "    <tr>\n",
       "      <th>4</th>\n",
       "      <td>2020-04-19</td>\n",
       "      <td>2428.151380</td>\n",
       "      <td>9144.182665</td>\n",
       "    </tr>\n",
       "  </tbody>\n",
       "</table>\n",
       "</div>"
      ],
      "text/plain": [
       "         Date  OriginalCases  CumulativeCases\n",
       "0  2020-03-22     768.188763       768.188763\n",
       "1  2020-03-29    1417.566351      2185.755114\n",
       "2  2020-04-05    2062.734952      4248.490065\n",
       "3  2020-04-12    2467.541220      6716.031286\n",
       "4  2020-04-19    2428.151380      9144.182665"
      ]
     },
     "execution_count": 58,
     "metadata": {},
     "output_type": "execute_result"
    }
   ],
   "source": [
    "# # Read in daily devon case data (interpoalted from weekly)\n",
    "cases_devon_daily = pd.read_csv(\"observation_data/daily_cases_devon_shifted_mpld_smoothed_IS.csv\")\n",
    "cases_devon_daily['Date'] =  pd.to_datetime(cases_devon_daily['Date'])\n",
    "\n",
    "# # Create new dataframe with cumulative sums rather than cases per day\n",
    "cases_devon_daily['CumulativeCases'] = cases_devon_daily['OriginalCases'].cumsum()\n",
    "\n",
    "cases_devon_daily.insert(0, 'Day', range(0,len(cases_devon_daily)))\n",
    "cases_devon_daily = cases_devon_daily.rename(columns ={'OriginalCases': 'Cases'})\n",
    "cases_devon_daily = cases_devon_daily.drop(['Date', 'Cases'], axis=1)\n",
    "# cases_devon_daily= cases_devon_daily.rename(columns ={'CumulativeCases': 'Cases'})\n",
    "cases_devon_daily\n",
    "\n",
    "## Get dataframe with totals for whole of Devon\n",
    "cases_devon_weekly = pd.read_csv(\"observation_data/weekly_cases_devon_aggregated_from_daily_IS.csv\")\n",
    "# Create new dataframe with cumulative sums rather than cases per day\n",
    "cases_devon_weekly['CumulativeCases'] = cases_devon_weekly['OriginalCases'].cumsum()\n",
    "cases_devon_weekly.head()"
   ]
  },
  {
   "cell_type": "markdown",
   "metadata": {},
   "source": [
    "### Run default (manually calibrated) model\n",
    "\n",
    "This shows what happens with the 'default' (manually calibrated) model, i.e. using the parameter values specified in the parameters file"
   ]
  },
  {
   "cell_type": "code",
   "execution_count": 59,
   "metadata": {},
   "outputs": [],
   "source": [
    "# ### Run default (manually calibrated) model\n",
    "# This shows what happens with the 'default' (manually calibrated) model\n",
    "ITERATIONS = 105  # Number of iterations to run for (must be multiple of 7)\n",
    "NUM_SEED_DAYS =7   # Number of days to seed the population\n",
    "USE_GPU = True\n",
    "STORE_DETAILED_COUNTS = False\n",
    "REPETITIONS = 5\n",
    "USE_HEALTHIER_POP = True\n",
    "\n",
    "# Think x by 7 because daily data is used in running model?\n",
    "assert ITERATIONS < len(cases_devon_weekly)*7,     f\"Have more iterations ({ITERATIONS}) than observations ({len(cases_devon_weekly)*7}).\"\n",
    "\n",
    "# Initialise the class so that its ready to run the model.\n",
    "# This isn't actually necessary immediately as the `run_opencl_model_multi` function is a static method\n",
    "# so doesn't read any of the class parameters, but the init is necessary\n",
    "# for calibration later when some parameters can't be passed to the run function directly\n",
    "OpenCLRunner.init(\n",
    "    iterations = ITERATIONS,\n",
    "    repetitions = REPETITIONS,\n",
    "    observations = cases_devon_weekly,\n",
    "    use_healthier_pop = USE_HEALTHIER_POP,\n",
    "    use_gpu = USE_GPU,\n",
    "    store_detailed_counts = STORE_DETAILED_COUNTS,\n",
    "    parameters_file = PARAMETERS_FILE,\n",
    "    opencl_dir = OPENCL_DIR,\n",
    "    snapshot_filepath = SNAPSHOT_FILEPATH,\n",
    "    num_seed_days = NUM_SEED_DAYS\n",
    ")"
   ]
  },
  {
   "cell_type": "code",
   "execution_count": 60,
   "metadata": {},
   "outputs": [
    {
     "name": "stderr",
     "output_type": "stream",
     "text": [
      "Running models: 100%|████████████████████████████████████████████████████████████████████| 5/5 [03:09<00:00, 37.80s/it]\n"
     ]
    }
   ],
   "source": [
    "OpenCLRunner.update(repetitions=5)  # Temporarily use more repetitions to give a good baseline\n",
    "OpenCLRunner.update(store_detailed_counts=True)  # Temporarily output age breakdowns\n",
    "(fitness0, sim0, obs0, out_params0, summaries0) = OpenCLRunner.run_model_with_params_abc({}, return_full_details=True)\n",
    "OpenCLRunner.update(repetitions=REPETITIONS)\n",
    "OpenCLRunner.update(store_detailed_counts=STORE_DETAILED_COUNTS)\n",
    "\n",
    "# What does repetitions mean, if only end up with one set of results??"
   ]
  },
  {
   "cell_type": "code",
   "execution_count": 61,
   "metadata": {},
   "outputs": [
    {
     "data": {
      "text/plain": [
       "<matplotlib.legend.Legend at 0x145235cdf48>"
      ]
     },
     "execution_count": 61,
     "metadata": {},
     "output_type": "execute_result"
    },
    {
     "data": {
      "image/png": "[encoded data removed]",
      "text/plain": [
       "<Figure size 432x288 with 1 Axes>"
      ]
     },
     "metadata": {
      "needs_background": "light"
     },
     "output_type": "display_data"
    }
   ],
   "source": [
    "# Check the model returns the observations correctly\n",
    "# i.e. that theyre the same length\n",
    "np.array_equal(obs0, cases_devon_daily.loc[:len(sim0)-1,\"CumulativeCases\"])\n",
    "\n",
    "# Print the fitness and plot the different disease counts\n",
    "# print(f\"fitness: {fitness0}\")\n",
    "# print(pd.DataFrame({\"sim\":sim0, \"real_obs1\":obs0}))\n",
    "\n",
    "fig, ax = plt.subplots(1,1)\n",
    "x = range(len(sim0))\n",
    "ax.plot(x, sim0, label=\"sim\", color=\"orange\")\n",
    "ax.plot(x, obs0, label=\"obs\", color=\"blue\")\n",
    "ax.legend()\n"
   ]
  },
  {
   "cell_type": "markdown",
   "metadata": {},
   "source": [
    "## Approximate Bayesian Computation\n",
    "\n",
    " - Use [pyabc](https://pyabc.readthedocs.io/). Full details in [abc-1.ipynb](abc-1.ipynb)"
   ]
  },
  {
   "cell_type": "markdown",
   "metadata": {},
   "source": [
    "### Fitness\n",
    "\n",
    "Need a `distance` function to calculate error. This one gets the observations and simulation data from a dataframe and calls a function that returns the Euclidean distance (L2 norm) calculate "
   ]
  },
  {
   "cell_type": "code",
   "execution_count": 62,
   "metadata": {},
   "outputs": [],
   "source": [
    "def distance(sim,obs):\n",
    "    fit = OpenCLRunner.fit_l2(sim[\"data\"],obs[\"data\"])\n",
    "    print(fit)\n",
    "    return fit"
   ]
  },
  {
   "cell_type": "markdown",
   "metadata": {},
   "source": [
    "### Priors\n",
    "\n",
    "Define the priors. Can decorate normal distributions later to make sure they are positive. (_For some reason there is an error thrown if they are decorated first_) "
   ]
  },
  {
   "cell_type": "code",
   "execution_count": 65,
   "metadata": {},
   "outputs": [
    {
     "name": "stderr",
     "output_type": "stream",
     "text": [
      "C:\\ProgramData\\Anaconda3\\envs\\newenv\\lib\\site-packages\\ipykernel_launcher.py:42: UserWarning: Matplotlib is currently using module://matplotlib_inline.backend_inline, which is a non-GUI backend, so cannot show the figure.\n"
     ]
    },
    {
     "data": {
      "image/png": "[encoded data removed]",
      "text/plain": [
       "<Figure size 1008x432 with 8 Axes>"
      ]
     },
     "metadata": {
      "needs_background": "light"
     },
     "output_type": "display_data"
    }
   ],
   "source": [
    "# Define the priors. Can decorate normal distributions later to make sure they are positive. (_For some reason there is an error thrown if they are decorated first_)\n",
    "# The following should all be constant (overiding whatever is in the default.yml parameters file)\n",
    "OpenCLRunner.set_constants( {\"home\": 1.0 })\n",
    "\n",
    "# FYI this is how to represent with discrete discributions and one possible value (hack that didn't work):\n",
    "# home_rv, current_risk_beta_rv = ( pyabc.RV('rv_discrete', values=([0.03], [1.0])) for _ in range(2) )\n",
    "current_risk_beta_rv = pyabc.RV(\"norm\", 0.1, 0.155)\n",
    "\n",
    "# Now the random variables:\n",
    "# School and retail are all uniform between 0-1\n",
    "retail_rv, primary_school_rv, secondary_school_rv = ( pyabc.RV(\"uniform\", 0, 1) for _ in range(3)  )\n",
    "# Work needs some dampening because we know that workplaces are too big in the current implementation\n",
    "work_rv = pyabc.RV(\"beta\", 0.1, 2)\n",
    "\n",
    "# Individual multipliers (see justification at the start of this notebook).\n",
    "# Asymptomatic is normal such that the middle 95% is the range [0.138, 0.75]\n",
    "presymptomatic_rv, symptomatic_rv, asymptomatic_rv = (pyabc.RV(\"norm\", 0.444, 0.155) for _ in range(3))\n",
    "\n",
    "# Group all random variables together and give them a string name (this is needed for the distribution later)\n",
    "all_rv = {\n",
    "    \"retail\": retail_rv, \"primary_school\": primary_school_rv, \"secondary_school\": secondary_school_rv, \"work\": work_rv,\n",
    "    \"presymptomatic\": presymptomatic_rv, \"symptomatic\": symptomatic_rv, \"asymptomatic\": asymptomatic_rv, \n",
    "    \"current_risk_beta\":current_risk_beta_rv}\n",
    "\n",
    "\n",
    "fig, axes = plt.subplots(2, 4, figsize=(14, 6), sharex=True, sharey=True)\n",
    "x = np.linspace(-1, 2, 99)  # (specified so that we have some whole numbers)\n",
    "marker = itertools.cycle((',', '+', '.', 'o', '*'))\n",
    "for i, (var_name, variable) in enumerate(all_rv.items()):\n",
    "    # var_name = [ k for k,v in locals().items() if v is variable][0]  # Hack to get the name of the variable\n",
    "    ax = axes.flatten()[i]\n",
    "    # ax.plot(x, pyabc.Distribution(param=variable).pdf({\"param\": x}), label = var_name, marker=next(marker), ms=3)\n",
    "    ax.plot(x, pyabc.Distribution(param=variable).pdf({\"param\": x}))\n",
    "    ax.set_title(var_name)\n",
    "    ax.axvline(x=0.0, ls='--', color=\"grey\", label=\"x=0\")\n",
    "    ax.axvline(x=1.0, ls='--', color=\"grey\", label=\"x=1\")\n",
    "\n",
    "# ax.legend()\n",
    "# fig.tight_layout()\n",
    "fig.suptitle(\"Priors\")\n",
    "fig.show()\n",
    "\n"
   ]
  },
  {
   "cell_type": "code",
   "execution_count": 74,
   "metadata": {},
   "outputs": [],
   "source": [
    "# Most priors can be passed straight to the distribution, except for 'asymptomatic' because it's normal\n",
    "# so needs to be decorated to stay above 0\n",
    "priors = pyabc.Distribution(\n",
    "    #home = home_rv,\n",
    "    retail = retail_rv,\n",
    "    primary_school = primary_school_rv,\n",
    "    secondary_school = secondary_school_rv,\n",
    "    work = work_rv,\n",
    "    presymptomatic = pyabc.LowerBoundDecorator(presymptomatic_rv, 0.0),\n",
    "    symptomatic = pyabc.LowerBoundDecorator(symptomatic_rv, 0.0),\n",
    "    asymptomatic = pyabc.LowerBoundDecorator(asymptomatic_rv, 0.0),\n",
    "    current_risk_beta = pyabc.LowerBoundDecorator(current_risk_beta_rv, 0.0)\n",
    "    )\n"
   ]
  },
  {
   "cell_type": "markdown",
   "metadata": {},
   "source": [
    "### Initialise the ABC algorithm."
   ]
  },
  {
   "cell_type": "code",
   "execution_count": 75,
   "metadata": {},
   "outputs": [],
   "source": [
    "# ### Initialise the ABC algorithm.\n",
    "abc = pyabc.ABCSMC(\n",
    "    models=OpenCLRunner.run_model_with_params_abc, # Model (could be a list)\n",
    "    parameter_priors=priors, # Priors (could be a list)\n",
    "    distance_function=distance,  # Distance function\n",
    "    # distance_function = OpenCLWrapper.distance,\n",
    "    sampler = pyabc.sampler.SingleCoreSampler()  # Single core because the model is parallelised\n",
    "    #transition=transition,  # Define how to transition from one population to the next\n",
    "    )"
   ]
  },
  {
   "cell_type": "markdown",
   "metadata": {},
   "source": [
    "Define observations"
   ]
  },
  {
   "cell_type": "code",
   "execution_count": 77,
   "metadata": {},
   "outputs": [],
   "source": [
    "# 'Real' cumulative cases: \n",
    "y_observed = cases_devon_weekly.loc[:(ITERATIONS/7)-1, \"CumulativeCases\"].values"
   ]
  },
  {
   "cell_type": "markdown",
   "metadata": {},
   "source": [
    "Where to store results\n"
   ]
  },
  {
   "cell_type": "code",
   "execution_count": 78,
   "metadata": {},
   "outputs": [],
   "source": [
    "db_path = (\"sqlite:///\" + os.path.join(\".\", \"abc-2.db\"))"
   ]
  },
  {
   "cell_type": "code",
   "execution_count": 79,
   "metadata": {},
   "outputs": [
    {
     "name": "stderr",
     "output_type": "stream",
     "text": [
      "ABC.History INFO: Start <ABCSMC id=32, start_time=2022-02-16 12:15:41>\n"
     ]
    }
   ],
   "source": [
    "run_id = abc.new(db_path, {\"data\": y_observed})  # (ID only matters if multiple runs stored is same DB)"
   ]
  },
  {
   "cell_type": "markdown",
   "metadata": {},
   "source": [
    "### Run ABC"
   ]
  },
  {
   "cell_type": "code",
   "execution_count": 3,
   "metadata": {},
   "outputs": [],
   "source": [
    "# with open('105days.pkl', 'rb') as f:\n",
    "#     history = pickle.load(f)"
   ]
  },
  {
   "cell_type": "code",
   "execution_count": 71,
   "metadata": {},
   "outputs": [],
   "source": [
    "# sys.path.append('..')\n",
    "# # from ArbitraryDistribution import ArbitraryDistribution\n",
    "# dist_df, dist_w = history.get_distribution(m=0, t=history.max_t)\n",
    "# if 'current_risk_beta' in dist_df.columns:\n",
    "#     dist_df = dist_df.drop(columns = 'current_risk_beta')\n",
    "# priors = ArbitraryDistribution(history)\n",
    "# priors.copy()\n"
   ]
  },
  {
   "cell_type": "code",
   "execution_count": null,
   "metadata": {},
   "outputs": [
    {
     "name": "stderr",
     "output_type": "stream",
     "text": [
      "ABC INFO: Calibration sample t = -1.\n",
      "Running models: 100%|████████████████████████████████████████████████████████████████████| 5/5 [00:38<00:00,  7.62s/it]\n",
      "Running models: 100%|████████████████████████████████████████████████████████████████████| 5/5 [00:38<00:00,  7.68s/it]\n",
      "Running models: 100%|████████████████████████████████████████████████████████████████████| 5/5 [00:40<00:00,  8.17s/it]\n",
      "Running models: 100%|████████████████████████████████████████████████████████████████████| 5/5 [00:40<00:00,  8.05s/it]\n",
      "Running models: 100%|████████████████████████████████████████████████████████████████████| 5/5 [00:45<00:00,  9.11s/it]\n",
      "Running models: 100%|████████████████████████████████████████████████████████████████████| 5/5 [00:52<00:00, 10.45s/it]\n",
      "Running models: 100%|████████████████████████████████████████████████████████████████████| 5/5 [00:51<00:00, 10.38s/it]\n",
      "Running models: 100%|████████████████████████████████████████████████████████████████████| 5/5 [00:46<00:00,  9.30s/it]\n",
      "Running models: 100%|████████████████████████████████████████████████████████████████████| 5/5 [00:48<00:00,  9.75s/it]\n",
      "Running models: 100%|████████████████████████████████████████████████████████████████████| 5/5 [00:50<00:00, 10.07s/it]\n",
      "Running models: 100%|████████████████████████████████████████████████████████████████████| 5/5 [00:59<00:00, 11.99s/it]\n",
      "Running models: 100%|████████████████████████████████████████████████████████████████████| 5/5 [00:51<00:00, 10.26s/it]\n",
      "Running models: 100%|████████████████████████████████████████████████████████████████████| 5/5 [00:47<00:00,  9.49s/it]\n",
      "Running models: 100%|████████████████████████████████████████████████████████████████████| 5/5 [00:46<00:00,  9.39s/it]\n",
      "Running models: 100%|████████████████████████████████████████████████████████████████████| 5/5 [00:50<00:00, 10.13s/it]\n",
      "Running models: 100%|████████████████████████████████████████████████████████████████████| 5/5 [00:50<00:00, 10.15s/it]\n",
      "Running models: 100%|████████████████████████████████████████████████████████████████████| 5/5 [00:47<00:00,  9.43s/it]\n",
      "Running models: 100%|████████████████████████████████████████████████████████████████████| 5/5 [00:48<00:00,  9.60s/it]\n",
      "Running models: 100%|████████████████████████████████████████████████████████████████████| 5/5 [00:51<00:00, 10.32s/it]\n",
      "Running models: 100%|████████████████████████████████████████████████████████████████████| 5/5 [00:50<00:00, 10.10s/it]\n",
      "Running models: 100%|████████████████████████████████████████████████████████████████████| 5/5 [00:46<00:00,  9.33s/it]\n",
      "Running models: 100%|████████████████████████████████████████████████████████████████████| 5/5 [00:46<00:00,  9.36s/it]\n",
      "Running models: 100%|████████████████████████████████████████████████████████████████████| 5/5 [00:50<00:00, 10.10s/it]\n",
      "Running models: 100%|████████████████████████████████████████████████████████████████████| 5/5 [00:53<00:00, 10.61s/it]\n",
      "Running models: 100%|████████████████████████████████████████████████████████████████████| 5/5 [00:47<00:00,  9.57s/it]\n",
      "Running models: 100%|████████████████████████████████████████████████████████████████████| 5/5 [00:44<00:00,  8.83s/it]\n",
      "Running models: 100%|████████████████████████████████████████████████████████████████████| 5/5 [00:43<00:00,  8.72s/it]\n",
      "Running models: 100%|████████████████████████████████████████████████████████████████████| 5/5 [00:44<00:00,  8.93s/it]\n",
      "Running models: 100%|████████████████████████████████████████████████████████████████████| 5/5 [00:47<00:00,  9.58s/it]\n",
      "Running models: 100%|████████████████████████████████████████████████████████████████████| 5/5 [00:44<00:00,  8.89s/it]\n",
      "Running models: 100%|████████████████████████████████████████████████████████████████████| 5/5 [00:43<00:00,  8.75s/it]\n",
      "Running models: 100%|████████████████████████████████████████████████████████████████████| 5/5 [00:44<00:00,  8.92s/it]\n",
      "Running models: 100%|████████████████████████████████████████████████████████████████████| 5/5 [00:48<00:00,  9.66s/it]\n",
      "Running models: 100%|████████████████████████████████████████████████████████████████████| 5/5 [00:48<00:00,  9.60s/it]\n",
      "Running models: 100%|████████████████████████████████████████████████████████████████████| 5/5 [00:43<00:00,  8.74s/it]\n",
      "Running models: 100%|████████████████████████████████████████████████████████████████████| 5/5 [00:43<00:00,  8.77s/it]\n",
      "Running models: 100%|████████████████████████████████████████████████████████████████████| 5/5 [00:43<00:00,  8.73s/it]\n",
      "Running models: 100%|████████████████████████████████████████████████████████████████████| 5/5 [00:47<00:00,  9.43s/it]\n",
      "Running models: 100%|████████████████████████████████████████████████████████████████████| 5/5 [00:47<00:00,  9.45s/it]\n",
      "Running models: 100%|████████████████████████████████████████████████████████████████████| 5/5 [00:44<00:00,  8.91s/it]\n",
      "Running models: 100%|████████████████████████████████████████████████████████████████████| 5/5 [00:44<00:00,  8.92s/it]\n",
      "Running models: 100%|████████████████████████████████████████████████████████████████████| 5/5 [00:45<00:00,  9.01s/it]\n",
      "Running models: 100%|████████████████████████████████████████████████████████████████████| 5/5 [00:46<00:00,  9.40s/it]\n",
      "Running models: 100%|████████████████████████████████████████████████████████████████████| 5/5 [00:46<00:00,  9.27s/it]\n",
      "Running models: 100%|████████████████████████████████████████████████████████████████████| 5/5 [00:43<00:00,  8.71s/it]\n",
      "Running models: 100%|████████████████████████████████████████████████████████████████████| 5/5 [00:44<00:00,  8.93s/it]\n",
      "Running models: 100%|████████████████████████████████████████████████████████████████████| 5/5 [00:43<00:00,  8.71s/it]\n",
      "Running models: 100%|████████████████████████████████████████████████████████████████████| 5/5 [00:45<00:00,  9.13s/it]\n",
      "Running models: 100%|████████████████████████████████████████████████████████████████████| 5/5 [00:47<00:00,  9.57s/it]\n",
      "Running models: 100%|████████████████████████████████████████████████████████████████████| 5/5 [00:45<00:00,  9.01s/it]\n",
      "Running models: 100%|████████████████████████████████████████████████████████████████████| 5/5 [00:47<00:00,  9.58s/it]\n",
      "Running models: 100%|████████████████████████████████████████████████████████████████████| 5/5 [00:45<00:00,  9.05s/it]\n",
      "Running models: 100%|████████████████████████████████████████████████████████████████████| 5/5 [00:47<00:00,  9.42s/it]\n",
      "Running models: 100%|████████████████████████████████████████████████████████████████████| 5/5 [00:44<00:00,  8.91s/it]\n",
      "Running models: 100%|████████████████████████████████████████████████████████████████████| 5/5 [00:44<00:00,  8.90s/it]\n",
      "Running models: 100%|████████████████████████████████████████████████████████████████████| 5/5 [00:44<00:00,  9.00s/it]\n",
      "Running models: 100%|████████████████████████████████████████████████████████████████████| 5/5 [00:47<00:00,  9.48s/it]\n",
      "Running models: 100%|████████████████████████████████████████████████████████████████████| 5/5 [00:47<00:00,  9.54s/it]\n",
      "Running models: 100%|████████████████████████████████████████████████████████████████████| 5/5 [00:46<00:00,  9.37s/it]\n",
      "Running models: 100%|████████████████████████████████████████████████████████████████████| 5/5 [00:59<00:00, 11.99s/it]\n",
      "Running models: 100%|████████████████████████████████████████████████████████████████████| 5/5 [00:57<00:00, 11.43s/it]\n",
      "Running models: 100%|████████████████████████████████████████████████████████████████████| 5/5 [00:51<00:00, 10.30s/it]\n",
      "Running models: 100%|████████████████████████████████████████████████████████████████████| 5/5 [00:52<00:00, 10.42s/it]\n",
      "Running models: 100%|████████████████████████████████████████████████████████████████████| 5/5 [00:58<00:00, 11.77s/it]\n",
      "Running models: 100%|████████████████████████████████████████████████████████████████████| 5/5 [00:55<00:00, 11.14s/it]\n",
      "Running models: 100%|████████████████████████████████████████████████████████████████████| 5/5 [00:53<00:00, 10.80s/it]\n",
      "Running models: 100%|████████████████████████████████████████████████████████████████████| 5/5 [00:49<00:00,  9.90s/it]\n"
     ]
    },
    {
     "name": "stderr",
     "output_type": "stream",
     "text": [
      "Running models: 100%|████████████████████████████████████████████████████████████████████| 5/5 [00:53<00:00, 10.69s/it]\n",
      "Running models: 100%|████████████████████████████████████████████████████████████████████| 5/5 [00:55<00:00, 11.03s/it]\n",
      "Running models: 100%|████████████████████████████████████████████████████████████████████| 5/5 [00:53<00:00, 10.73s/it]\n",
      "Running models: 100%|████████████████████████████████████████████████████████████████████| 5/5 [00:48<00:00,  9.64s/it]\n",
      "Running models: 100%|████████████████████████████████████████████████████████████████████| 5/5 [00:44<00:00,  8.96s/it]\n",
      "Running models: 100%|████████████████████████████████████████████████████████████████████| 5/5 [00:45<00:00,  9.03s/it]\n",
      "Running models: 100%|████████████████████████████████████████████████████████████████████| 5/5 [00:48<00:00,  9.68s/it]\n",
      "Running models: 100%|████████████████████████████████████████████████████████████████████| 5/5 [00:50<00:00, 10.03s/it]\n",
      "Running models: 100%|████████████████████████████████████████████████████████████████████| 5/5 [00:46<00:00,  9.24s/it]\n",
      "Running models: 100%|████████████████████████████████████████████████████████████████████| 5/5 [00:46<00:00,  9.35s/it]\n",
      "Running models: 100%|████████████████████████████████████████████████████████████████████| 5/5 [00:47<00:00,  9.47s/it]\n",
      "Running models: 100%|████████████████████████████████████████████████████████████████████| 5/5 [00:51<00:00, 10.33s/it]\n",
      "Running models: 100%|████████████████████████████████████████████████████████████████████| 5/5 [00:49<00:00,  9.96s/it]\n",
      "Running models: 100%|████████████████████████████████████████████████████████████████████| 5/5 [00:47<00:00,  9.50s/it]\n",
      "Running models: 100%|████████████████████████████████████████████████████████████████████| 5/5 [00:47<00:00,  9.49s/it]\n",
      "Running models: 100%|████████████████████████████████████████████████████████████████████| 5/5 [00:57<00:00, 11.50s/it]\n",
      "Running models: 100%|████████████████████████████████████████████████████████████████████| 5/5 [01:03<00:00, 12.67s/it]\n",
      "Running models: 100%|████████████████████████████████████████████████████████████████████| 5/5 [00:51<00:00, 10.29s/it]\n",
      "Running models: 100%|████████████████████████████████████████████████████████████████████| 5/5 [00:48<00:00,  9.65s/it]\n",
      "Running models: 100%|████████████████████████████████████████████████████████████████████| 5/5 [00:51<00:00, 10.22s/it]\n",
      "Running models: 100%|████████████████████████████████████████████████████████████████████| 5/5 [00:47<00:00,  9.51s/it]\n",
      "Running models: 100%|████████████████████████████████████████████████████████████████████| 5/5 [00:47<00:00,  9.45s/it]\n",
      "Running models: 100%|████████████████████████████████████████████████████████████████████| 5/5 [00:47<00:00,  9.55s/it]\n",
      "Running models: 100%|████████████████████████████████████████████████████████████████████| 5/5 [00:50<00:00, 10.17s/it]\n",
      "Running models: 100%|████████████████████████████████████████████████████████████████████| 5/5 [00:49<00:00,  9.89s/it]\n",
      "Running models: 100%|████████████████████████████████████████████████████████████████████| 5/5 [00:46<00:00,  9.20s/it]\n",
      "Running models: 100%|████████████████████████████████████████████████████████████████████| 5/5 [00:48<00:00,  9.79s/it]\n",
      "Running models: 100%|████████████████████████████████████████████████████████████████████| 5/5 [00:46<00:00,  9.40s/it]\n",
      "Running models: 100%|████████████████████████████████████████████████████████████████████| 5/5 [00:49<00:00,  9.81s/it]\n",
      "Running models: 100%|████████████████████████████████████████████████████████████████████| 5/5 [00:50<00:00, 10.13s/it]\n",
      "Running models: 100%|████████████████████████████████████████████████████████████████████| 5/5 [00:49<00:00,  9.99s/it]\n",
      "Running models: 100%|████████████████████████████████████████████████████████████████████| 5/5 [00:50<00:00, 10.00s/it]\n",
      "Running models: 100%|████████████████████████████████████████████████████████████████████| 5/5 [00:46<00:00,  9.20s/it]\n",
      "ABC INFO: t: 0, eps: 4.86094481e+05.\n"
     ]
    },
    {
     "name": "stdout",
     "output_type": "stream",
     "text": [
      "1260184.5834735439\n",
      "1065111.4092055277\n",
      "631438.420545997\n",
      "364568.34718553646\n",
      "42552.92307176667\n",
      "254274.4055598327\n",
      "1057530.3168836306\n",
      "526575.7212614726\n",
      "877408.9327056648\n",
      "453017.8931080935\n",
      "774428.6902090278\n",
      "160104.96704196098\n",
      "100836.50590719937\n",
      "1469102.1468307707\n",
      "338595.21654251986\n",
      "98121.21394615332\n",
      "97911.63511222355\n",
      "195629.52906697756\n",
      "121586.61818572186\n",
      "599688.3950040911\n",
      "1162610.7930675552\n",
      "1002015.8460332509\n",
      "516548.1388588243\n",
      "381436.18412099965\n",
      "227874.9747792351\n",
      "1376451.9814280588\n",
      "400038.98701939976\n",
      "1200061.5952482892\n",
      "536190.4451401262\n",
      "1223013.2090861457\n",
      "1173546.0390180897\n",
      "476319.83587361843\n",
      "525425.09703012\n",
      "339379.74013771553\n",
      "625826.2904698445\n",
      "82035.68374364935\n",
      "1426812.2232491488\n",
      "99559.52863961128\n",
      "482990.53740807355\n",
      "1124490.4902968083\n",
      "52021.033924251446\n",
      "92068.62917336008\n",
      "51353.56687445718\n",
      "1048320.1218288623\n",
      "1553610.3678517353\n",
      "42499.73505786114\n",
      "746385.5869871213\n",
      "723605.8968243647\n",
      "250303.36860590414\n",
      "813845.8716191184\n",
      "160245.0777538083\n",
      "672648.5798317177\n",
      "751874.6001750065\n",
      "545555.8732321813\n",
      "321568.93311187084\n",
      "197950.6839951226\n",
      "638216.3855983691\n",
      "77030.14697012446\n",
      "49956.8099582037\n",
      "182947.11007315246\n",
      "676213.6457537691\n",
      "457916.65206056746\n",
      "310183.20348018274\n",
      "703182.3627283777\n",
      "22443.935660273713\n",
      "42762.56619129209\n",
      "1326976.3897833603\n",
      "290136.67185739195\n",
      "14524.526843278189\n",
      "1649959.5547837138\n",
      "896542.7937554086\n",
      "306689.22751094267\n",
      "894597.5726341851\n",
      "410510.44465298153\n",
      "732226.4346702121\n",
      "765448.2378907647\n",
      "624096.8791607366\n",
      "206887.75563394008\n",
      "738438.6655053988\n",
      "354370.4329078289\n",
      "14432.697486171186\n",
      "40053.75533014003\n",
      "447711.2633775439\n",
      "310191.403395999\n",
      "994448.4435610941\n",
      "505412.4195226493\n",
      "489198.4249084484\n",
      "1161847.4493820965\n",
      "704525.5696675394\n",
      "863981.5012717862\n",
      "142085.9849634825\n",
      "880899.4690004131\n",
      "662573.6976613397\n",
      "147640.29984596002\n",
      "1198546.4338974848\n",
      "144909.74617608066\n",
      "70641.27806824143\n",
      "324225.0988869133\n",
      "431235.8378626777\n",
      "550383.3811904789\n"
     ]
    },
    {
     "name": "stderr",
     "output_type": "stream",
     "text": [
      "Running models: 100%|████████████████████████████████████████████████████████████████████| 5/5 [00:47<00:00,  9.56s/it]\n"
     ]
    },
    {
     "name": "stdout",
     "output_type": "stream",
     "text": [
      "266541.19345622003\n"
     ]
    },
    {
     "name": "stderr",
     "output_type": "stream",
     "text": [
      "Running models: 100%|████████████████████████████████████████████████████████████████████| 5/5 [00:51<00:00, 10.24s/it]\n"
     ]
    },
    {
     "name": "stdout",
     "output_type": "stream",
     "text": [
      "847335.63769679\n"
     ]
    },
    {
     "name": "stderr",
     "output_type": "stream",
     "text": [
      "Running models: 100%|████████████████████████████████████████████████████████████████████| 5/5 [00:48<00:00,  9.72s/it]\n"
     ]
    },
    {
     "name": "stdout",
     "output_type": "stream",
     "text": [
      "332028.6823377431\n"
     ]
    },
    {
     "name": "stderr",
     "output_type": "stream",
     "text": [
      "Running models: 100%|████████████████████████████████████████████████████████████████████| 5/5 [00:46<00:00,  9.27s/it]\n"
     ]
    },
    {
     "name": "stdout",
     "output_type": "stream",
     "text": [
      "693063.8590307939\n"
     ]
    },
    {
     "name": "stderr",
     "output_type": "stream",
     "text": [
      "Running models: 100%|████████████████████████████████████████████████████████████████████| 5/5 [00:46<00:00,  9.38s/it]\n"
     ]
    },
    {
     "name": "stdout",
     "output_type": "stream",
     "text": [
      "1248661.8289447168\n"
     ]
    },
    {
     "name": "stderr",
     "output_type": "stream",
     "text": [
      "Running models: 100%|████████████████████████████████████████████████████████████████████| 5/5 [00:52<00:00, 10.54s/it]\n"
     ]
    },
    {
     "name": "stdout",
     "output_type": "stream",
     "text": [
      "151097.466242472\n"
     ]
    },
    {
     "name": "stderr",
     "output_type": "stream",
     "text": [
      "Running models: 100%|████████████████████████████████████████████████████████████████████| 5/5 [00:49<00:00, 10.00s/it]\n"
     ]
    },
    {
     "name": "stdout",
     "output_type": "stream",
     "text": [
      "789879.4894775097\n"
     ]
    },
    {
     "name": "stderr",
     "output_type": "stream",
     "text": [
      "Running models: 100%|████████████████████████████████████████████████████████████████████| 5/5 [00:47<00:00,  9.47s/it]\n"
     ]
    },
    {
     "name": "stdout",
     "output_type": "stream",
     "text": [
      "657468.0657162591\n"
     ]
    },
    {
     "name": "stderr",
     "output_type": "stream",
     "text": [
      "Running models: 100%|████████████████████████████████████████████████████████████████████| 5/5 [00:46<00:00,  9.31s/it]\n"
     ]
    },
    {
     "name": "stdout",
     "output_type": "stream",
     "text": [
      "239685.43677136244\n"
     ]
    },
    {
     "name": "stderr",
     "output_type": "stream",
     "text": [
      "Running models: 100%|████████████████████████████████████████████████████████████████████| 5/5 [00:50<00:00, 10.10s/it]\n"
     ]
    },
    {
     "name": "stdout",
     "output_type": "stream",
     "text": [
      "194269.39500626514\n"
     ]
    },
    {
     "name": "stderr",
     "output_type": "stream",
     "text": [
      "Running models: 100%|████████████████████████████████████████████████████████████████████| 5/5 [00:50<00:00, 10.02s/it]\n"
     ]
    },
    {
     "name": "stdout",
     "output_type": "stream",
     "text": [
      "83483.41571519877\n"
     ]
    },
    {
     "name": "stderr",
     "output_type": "stream",
     "text": [
      "Running models: 100%|████████████████████████████████████████████████████████████████████| 5/5 [00:46<00:00,  9.34s/it]\n"
     ]
    },
    {
     "name": "stdout",
     "output_type": "stream",
     "text": [
      "1350242.4539404917\n"
     ]
    },
    {
     "name": "stderr",
     "output_type": "stream",
     "text": [
      "Running models: 100%|████████████████████████████████████████████████████████████████████| 5/5 [00:47<00:00,  9.41s/it]\n"
     ]
    },
    {
     "name": "stdout",
     "output_type": "stream",
     "text": [
      "297650.47908643185\n"
     ]
    },
    {
     "name": "stderr",
     "output_type": "stream",
     "text": [
      "Running models: 100%|████████████████████████████████████████████████████████████████████| 5/5 [00:46<00:00,  9.31s/it]\n"
     ]
    },
    {
     "name": "stdout",
     "output_type": "stream",
     "text": [
      "5737.115458629122\n"
     ]
    },
    {
     "name": "stderr",
     "output_type": "stream",
     "text": [
      "Running models: 100%|████████████████████████████████████████████████████████████████████| 5/5 [00:50<00:00, 10.07s/it]\n"
     ]
    },
    {
     "name": "stdout",
     "output_type": "stream",
     "text": [
      "595638.5223002243\n"
     ]
    },
    {
     "name": "stderr",
     "output_type": "stream",
     "text": [
      "Running models: 100%|████████████████████████████████████████████████████████████████████| 5/5 [00:49<00:00,  9.92s/it]\n"
     ]
    },
    {
     "name": "stdout",
     "output_type": "stream",
     "text": [
      "447197.67346859997\n"
     ]
    },
    {
     "name": "stderr",
     "output_type": "stream",
     "text": [
      "Running models: 100%|████████████████████████████████████████████████████████████████████| 5/5 [00:47<00:00,  9.44s/it]\n"
     ]
    },
    {
     "name": "stdout",
     "output_type": "stream",
     "text": [
      "972245.4719587305\n"
     ]
    },
    {
     "name": "stderr",
     "output_type": "stream",
     "text": [
      "Running models: 100%|████████████████████████████████████████████████████████████████████| 5/5 [00:46<00:00,  9.23s/it]\n"
     ]
    },
    {
     "name": "stdout",
     "output_type": "stream",
     "text": [
      "1277935.2822546016\n"
     ]
    },
    {
     "name": "stderr",
     "output_type": "stream",
     "text": [
      "Running models: 100%|████████████████████████████████████████████████████████████████████| 5/5 [00:49<00:00,  9.93s/it]\n"
     ]
    },
    {
     "name": "stdout",
     "output_type": "stream",
     "text": [
      "1119534.682250025\n"
     ]
    },
    {
     "name": "stderr",
     "output_type": "stream",
     "text": [
      "Running models: 100%|████████████████████████████████████████████████████████████████████| 5/5 [00:50<00:00, 10.13s/it]\n"
     ]
    },
    {
     "name": "stdout",
     "output_type": "stream",
     "text": [
      "557818.3191759737\n"
     ]
    },
    {
     "name": "stderr",
     "output_type": "stream",
     "text": [
      "Running models: 100%|████████████████████████████████████████████████████████████████████| 5/5 [00:53<00:00, 10.70s/it]\n"
     ]
    },
    {
     "name": "stdout",
     "output_type": "stream",
     "text": [
      "169794.8420048855\n"
     ]
    },
    {
     "name": "stderr",
     "output_type": "stream",
     "text": [
      "Running models: 100%|████████████████████████████████████████████████████████████████████| 5/5 [00:50<00:00, 10.03s/it]\n"
     ]
    },
    {
     "name": "stdout",
     "output_type": "stream",
     "text": [
      "1328362.1520684669\n"
     ]
    },
    {
     "name": "stderr",
     "output_type": "stream",
     "text": [
      "Running models: 100%|████████████████████████████████████████████████████████████████████| 5/5 [00:51<00:00, 10.29s/it]\n"
     ]
    },
    {
     "name": "stdout",
     "output_type": "stream",
     "text": [
      "1055149.5867993277\n"
     ]
    },
    {
     "name": "stderr",
     "output_type": "stream",
     "text": [
      "Running models: 100%|████████████████████████████████████████████████████████████████████| 5/5 [00:58<00:00, 11.61s/it]\n"
     ]
    },
    {
     "name": "stdout",
     "output_type": "stream",
     "text": [
      "1329137.0810518574\n"
     ]
    },
    {
     "name": "stderr",
     "output_type": "stream",
     "text": [
      "Running models: 100%|████████████████████████████████████████████████████████████████████| 5/5 [00:47<00:00,  9.47s/it]\n"
     ]
    },
    {
     "name": "stdout",
     "output_type": "stream",
     "text": [
      "871451.8066586265\n"
     ]
    },
    {
     "name": "stderr",
     "output_type": "stream",
     "text": [
      "Running models: 100%|████████████████████████████████████████████████████████████████████| 5/5 [00:46<00:00,  9.33s/it]\n"
     ]
    },
    {
     "name": "stdout",
     "output_type": "stream",
     "text": [
      "36808.21303030058\n"
     ]
    },
    {
     "name": "stderr",
     "output_type": "stream",
     "text": [
      "Running models: 100%|████████████████████████████████████████████████████████████████████| 5/5 [00:48<00:00,  9.68s/it]\n"
     ]
    },
    {
     "name": "stdout",
     "output_type": "stream",
     "text": [
      "105145.69682132099\n"
     ]
    },
    {
     "name": "stderr",
     "output_type": "stream",
     "text": [
      "Running models: 100%|████████████████████████████████████████████████████████████████████| 5/5 [00:50<00:00, 10.19s/it]\n"
     ]
    },
    {
     "name": "stdout",
     "output_type": "stream",
     "text": [
      "98969.69159473717\n"
     ]
    },
    {
     "name": "stderr",
     "output_type": "stream",
     "text": [
      "Running models: 100%|████████████████████████████████████████████████████████████████████| 5/5 [00:56<00:00, 11.33s/it]\n"
     ]
    },
    {
     "name": "stdout",
     "output_type": "stream",
     "text": [
      "198519.65326324955\n"
     ]
    },
    {
     "name": "stderr",
     "output_type": "stream",
     "text": [
      "Running models: 100%|████████████████████████████████████████████████████████████████████| 5/5 [00:52<00:00, 10.44s/it]\n"
     ]
    },
    {
     "name": "stdout",
     "output_type": "stream",
     "text": [
      "298501.7174138134\n"
     ]
    },
    {
     "name": "stderr",
     "output_type": "stream",
     "text": [
      "Running models: 100%|████████████████████████████████████████████████████████████████████| 5/5 [00:50<00:00, 10.02s/it]\n"
     ]
    },
    {
     "name": "stdout",
     "output_type": "stream",
     "text": [
      "26601.97767433382\n"
     ]
    },
    {
     "name": "stderr",
     "output_type": "stream",
     "text": [
      "Running models: 100%|████████████████████████████████████████████████████████████████████| 5/5 [00:52<00:00, 10.46s/it]\n"
     ]
    },
    {
     "name": "stdout",
     "output_type": "stream",
     "text": [
      "236979.99517057362\n"
     ]
    },
    {
     "name": "stderr",
     "output_type": "stream",
     "text": [
      "Running models: 100%|████████████████████████████████████████████████████████████████████| 5/5 [00:51<00:00, 10.28s/it]\n"
     ]
    },
    {
     "name": "stdout",
     "output_type": "stream",
     "text": [
      "941839.9236972525\n"
     ]
    },
    {
     "name": "stderr",
     "output_type": "stream",
     "text": [
      "Running models: 100%|████████████████████████████████████████████████████████████████████| 5/5 [00:48<00:00,  9.73s/it]\n"
     ]
    },
    {
     "name": "stdout",
     "output_type": "stream",
     "text": [
      "31460.520545840558\n"
     ]
    },
    {
     "name": "stderr",
     "output_type": "stream",
     "text": [
      "Running models: 100%|████████████████████████████████████████████████████████████████████| 5/5 [00:51<00:00, 10.22s/it]\n"
     ]
    },
    {
     "name": "stdout",
     "output_type": "stream",
     "text": [
      "270661.3906456743\n"
     ]
    },
    {
     "name": "stderr",
     "output_type": "stream",
     "text": [
      "Running models: 100%|████████████████████████████████████████████████████████████████████| 5/5 [00:51<00:00, 10.25s/it]\n"
     ]
    },
    {
     "name": "stdout",
     "output_type": "stream",
     "text": [
      "854825.7294691288\n"
     ]
    },
    {
     "name": "stderr",
     "output_type": "stream",
     "text": [
      "Running models: 100%|████████████████████████████████████████████████████████████████████| 5/5 [00:49<00:00,  9.98s/it]\n"
     ]
    },
    {
     "name": "stdout",
     "output_type": "stream",
     "text": [
      "564711.7810705184\n"
     ]
    },
    {
     "name": "stderr",
     "output_type": "stream",
     "text": [
      "Running models: 100%|████████████████████████████████████████████████████████████████████| 5/5 [00:46<00:00,  9.38s/it]\n"
     ]
    },
    {
     "name": "stdout",
     "output_type": "stream",
     "text": [
      "814248.9499113233\n"
     ]
    },
    {
     "name": "stderr",
     "output_type": "stream",
     "text": [
      "Running models: 100%|████████████████████████████████████████████████████████████████████| 5/5 [00:47<00:00,  9.47s/it]\n"
     ]
    },
    {
     "name": "stdout",
     "output_type": "stream",
     "text": [
      "404564.58654496586\n"
     ]
    },
    {
     "name": "stderr",
     "output_type": "stream",
     "text": [
      "Running models: 100%|████████████████████████████████████████████████████████████████████| 5/5 [00:50<00:00, 10.05s/it]\n"
     ]
    },
    {
     "name": "stdout",
     "output_type": "stream",
     "text": [
      "131161.02555472267\n"
     ]
    },
    {
     "name": "stderr",
     "output_type": "stream",
     "text": [
      "Running models: 100%|████████████████████████████████████████████████████████████████████| 5/5 [00:50<00:00, 10.10s/it]\n"
     ]
    },
    {
     "name": "stdout",
     "output_type": "stream",
     "text": [
      "1030611.2967810286\n"
     ]
    },
    {
     "name": "stderr",
     "output_type": "stream",
     "text": [
      "Running models: 100%|████████████████████████████████████████████████████████████████████| 5/5 [00:49<00:00,  9.86s/it]\n"
     ]
    },
    {
     "name": "stdout",
     "output_type": "stream",
     "text": [
      "11976.878360931767\n"
     ]
    },
    {
     "name": "stderr",
     "output_type": "stream",
     "text": [
      "Running models: 100%|████████████████████████████████████████████████████████████████████| 5/5 [00:48<00:00,  9.65s/it]\n"
     ]
    },
    {
     "name": "stdout",
     "output_type": "stream",
     "text": [
      "759438.5008481445\n"
     ]
    },
    {
     "name": "stderr",
     "output_type": "stream",
     "text": [
      "Running models: 100%|████████████████████████████████████████████████████████████████████| 5/5 [00:52<00:00, 10.53s/it]\n"
     ]
    },
    {
     "name": "stdout",
     "output_type": "stream",
     "text": [
      "458259.61128581746\n"
     ]
    },
    {
     "name": "stderr",
     "output_type": "stream",
     "text": [
      "Running models: 100%|████████████████████████████████████████████████████████████████████| 5/5 [00:46<00:00,  9.27s/it]\n"
     ]
    },
    {
     "name": "stdout",
     "output_type": "stream",
     "text": [
      "1322095.877381732\n"
     ]
    },
    {
     "name": "stderr",
     "output_type": "stream",
     "text": [
      "Running models: 100%|████████████████████████████████████████████████████████████████████| 5/5 [00:46<00:00,  9.32s/it]\n"
     ]
    },
    {
     "name": "stdout",
     "output_type": "stream",
     "text": [
      "1219521.7978832964\n"
     ]
    },
    {
     "name": "stderr",
     "output_type": "stream",
     "text": [
      "Running models: 100%|████████████████████████████████████████████████████████████████████| 5/5 [00:49<00:00,  9.87s/it]\n"
     ]
    },
    {
     "name": "stdout",
     "output_type": "stream",
     "text": [
      "124844.99802223277\n"
     ]
    },
    {
     "name": "stderr",
     "output_type": "stream",
     "text": [
      "Running models: 100%|████████████████████████████████████████████████████████████████████| 5/5 [00:54<00:00, 10.87s/it]\n"
     ]
    },
    {
     "name": "stdout",
     "output_type": "stream",
     "text": [
      "436537.7860322294\n"
     ]
    },
    {
     "name": "stderr",
     "output_type": "stream",
     "text": [
      "Running models: 100%|████████████████████████████████████████████████████████████████████| 5/5 [00:50<00:00, 10.19s/it]\n"
     ]
    },
    {
     "name": "stdout",
     "output_type": "stream",
     "text": [
      "421111.7417967367\n"
     ]
    },
    {
     "name": "stderr",
     "output_type": "stream",
     "text": [
      "Running models: 100%|████████████████████████████████████████████████████████████████████| 5/5 [00:47<00:00,  9.44s/it]\n"
     ]
    },
    {
     "name": "stdout",
     "output_type": "stream",
     "text": [
      "131217.22740111494\n"
     ]
    },
    {
     "name": "stderr",
     "output_type": "stream",
     "text": [
      "Running models: 100%|████████████████████████████████████████████████████████████████████| 5/5 [00:46<00:00,  9.29s/it]\n"
     ]
    },
    {
     "name": "stdout",
     "output_type": "stream",
     "text": [
      "1125729.6569556694\n"
     ]
    },
    {
     "name": "stderr",
     "output_type": "stream",
     "text": [
      "Running models: 100%|████████████████████████████████████████████████████████████████████| 5/5 [00:50<00:00, 10.10s/it]\n"
     ]
    },
    {
     "name": "stdout",
     "output_type": "stream",
     "text": [
      "1074514.443968419\n"
     ]
    },
    {
     "name": "stderr",
     "output_type": "stream",
     "text": [
      "Running models: 100%|████████████████████████████████████████████████████████████████████| 5/5 [00:53<00:00, 10.76s/it]\n"
     ]
    },
    {
     "name": "stdout",
     "output_type": "stream",
     "text": [
      "568009.4152180495\n"
     ]
    },
    {
     "name": "stderr",
     "output_type": "stream",
     "text": [
      "Running models: 100%|████████████████████████████████████████████████████████████████████| 5/5 [00:49<00:00,  9.81s/it]\n"
     ]
    },
    {
     "name": "stdout",
     "output_type": "stream",
     "text": [
      "1780698.4234703272\n"
     ]
    },
    {
     "name": "stderr",
     "output_type": "stream",
     "text": [
      "Running models: 100%|████████████████████████████████████████████████████████████████████| 5/5 [00:49<00:00,  9.82s/it]\n"
     ]
    },
    {
     "name": "stdout",
     "output_type": "stream",
     "text": [
      "1217301.4464086706\n"
     ]
    },
    {
     "name": "stderr",
     "output_type": "stream",
     "text": [
      "Running models: 100%|████████████████████████████████████████████████████████████████████| 5/5 [00:53<00:00, 10.78s/it]\n"
     ]
    },
    {
     "name": "stdout",
     "output_type": "stream",
     "text": [
      "105291.75049968378\n"
     ]
    },
    {
     "name": "stderr",
     "output_type": "stream",
     "text": [
      "Running models: 100%|████████████████████████████████████████████████████████████████████| 5/5 [00:51<00:00, 10.30s/it]\n"
     ]
    },
    {
     "name": "stdout",
     "output_type": "stream",
     "text": [
      "111501.0495837822\n"
     ]
    },
    {
     "name": "stderr",
     "output_type": "stream",
     "text": [
      "Running models: 100%|████████████████████████████████████████████████████████████████████| 5/5 [00:48<00:00,  9.73s/it]\n"
     ]
    },
    {
     "name": "stdout",
     "output_type": "stream",
     "text": [
      "260709.34530338383\n"
     ]
    },
    {
     "name": "stderr",
     "output_type": "stream",
     "text": [
      "Running models: 100%|████████████████████████████████████████████████████████████████████| 5/5 [00:46<00:00,  9.30s/it]\n"
     ]
    },
    {
     "name": "stdout",
     "output_type": "stream",
     "text": [
      "10391.181590290424\n"
     ]
    },
    {
     "name": "stderr",
     "output_type": "stream",
     "text": [
      "Running models: 100%|████████████████████████████████████████████████████████████████████| 5/5 [00:49<00:00,  9.92s/it]\n"
     ]
    },
    {
     "name": "stdout",
     "output_type": "stream",
     "text": [
      "196950.81164453202\n"
     ]
    },
    {
     "name": "stderr",
     "output_type": "stream",
     "text": [
      "Running models: 100%|████████████████████████████████████████████████████████████████████| 5/5 [00:51<00:00, 10.35s/it]\n"
     ]
    },
    {
     "name": "stdout",
     "output_type": "stream",
     "text": [
      "1721049.1751983091\n"
     ]
    },
    {
     "name": "stderr",
     "output_type": "stream",
     "text": [
      "Running models: 100%|████████████████████████████████████████████████████████████████████| 5/5 [00:47<00:00,  9.56s/it]\n"
     ]
    },
    {
     "name": "stdout",
     "output_type": "stream",
     "text": [
      "176766.83099749958\n"
     ]
    },
    {
     "name": "stderr",
     "output_type": "stream",
     "text": [
      "Running models: 100%|████████████████████████████████████████████████████████████████████| 5/5 [00:47<00:00,  9.45s/it]\n"
     ]
    },
    {
     "name": "stdout",
     "output_type": "stream",
     "text": [
      "485770.49661260354\n"
     ]
    },
    {
     "name": "stderr",
     "output_type": "stream",
     "text": [
      "Running models: 100%|████████████████████████████████████████████████████████████████████| 5/5 [00:48<00:00,  9.76s/it]\n"
     ]
    },
    {
     "name": "stdout",
     "output_type": "stream",
     "text": [
      "1232095.8591430474\n"
     ]
    },
    {
     "name": "stderr",
     "output_type": "stream",
     "text": [
      "Running models: 100%|████████████████████████████████████████████████████████████████████| 5/5 [00:53<00:00, 10.62s/it]\n"
     ]
    },
    {
     "name": "stdout",
     "output_type": "stream",
     "text": [
      "863084.6992346602\n"
     ]
    },
    {
     "name": "stderr",
     "output_type": "stream",
     "text": [
      "Running models: 100%|████████████████████████████████████████████████████████████████████| 5/5 [00:49<00:00,  9.91s/it]\n"
     ]
    },
    {
     "name": "stdout",
     "output_type": "stream",
     "text": [
      "605393.4601132603\n"
     ]
    },
    {
     "name": "stderr",
     "output_type": "stream",
     "text": [
      "Running models: 100%|████████████████████████████████████████████████████████████████████| 5/5 [00:49<00:00,  9.84s/it]\n"
     ]
    },
    {
     "name": "stdout",
     "output_type": "stream",
     "text": [
      "877463.1795140851\n"
     ]
    },
    {
     "name": "stderr",
     "output_type": "stream",
     "text": [
      "Running models: 100%|████████████████████████████████████████████████████████████████████| 5/5 [00:48<00:00,  9.66s/it]\n"
     ]
    },
    {
     "name": "stdout",
     "output_type": "stream",
     "text": [
      "108253.33781404934\n"
     ]
    },
    {
     "name": "stderr",
     "output_type": "stream",
     "text": [
      "Running models: 100%|████████████████████████████████████████████████████████████████████| 5/5 [00:48<00:00,  9.61s/it]\n"
     ]
    },
    {
     "name": "stdout",
     "output_type": "stream",
     "text": [
      "1420219.919695231\n"
     ]
    },
    {
     "name": "stderr",
     "output_type": "stream",
     "text": [
      "Running models: 100%|████████████████████████████████████████████████████████████████████| 5/5 [00:48<00:00,  9.62s/it]\n"
     ]
    },
    {
     "name": "stdout",
     "output_type": "stream",
     "text": [
      "173212.07399988818\n"
     ]
    },
    {
     "name": "stderr",
     "output_type": "stream",
     "text": [
      "Running models: 100%|████████████████████████████████████████████████████████████████████| 5/5 [00:47<00:00,  9.46s/it]\n"
     ]
    },
    {
     "name": "stdout",
     "output_type": "stream",
     "text": [
      "304295.04829377634\n"
     ]
    },
    {
     "name": "stderr",
     "output_type": "stream",
     "text": [
      "Running models: 100%|████████████████████████████████████████████████████████████████████| 5/5 [00:46<00:00,  9.37s/it]\n"
     ]
    },
    {
     "name": "stdout",
     "output_type": "stream",
     "text": [
      "1332839.3883563292\n"
     ]
    },
    {
     "name": "stderr",
     "output_type": "stream",
     "text": [
      "Running models: 100%|████████████████████████████████████████████████████████████████████| 5/5 [00:51<00:00, 10.21s/it]\n"
     ]
    },
    {
     "name": "stdout",
     "output_type": "stream",
     "text": [
      "692311.3779920252\n"
     ]
    },
    {
     "name": "stderr",
     "output_type": "stream",
     "text": [
      "Running models: 100%|████████████████████████████████████████████████████████████████████| 5/5 [00:44<00:00,  8.96s/it]\n"
     ]
    },
    {
     "name": "stdout",
     "output_type": "stream",
     "text": [
      "1374017.2231211357\n"
     ]
    },
    {
     "name": "stderr",
     "output_type": "stream",
     "text": [
      "Running models: 100%|████████████████████████████████████████████████████████████████████| 5/5 [00:45<00:00,  9.16s/it]\n"
     ]
    },
    {
     "name": "stdout",
     "output_type": "stream",
     "text": [
      "230329.65670341064\n"
     ]
    },
    {
     "name": "stderr",
     "output_type": "stream",
     "text": [
      "Running models: 100%|████████████████████████████████████████████████████████████████████| 5/5 [00:49<00:00,  9.88s/it]\n"
     ]
    },
    {
     "name": "stdout",
     "output_type": "stream",
     "text": [
      "59752.06568286116\n"
     ]
    },
    {
     "name": "stderr",
     "output_type": "stream",
     "text": [
      "Running models: 100%|████████████████████████████████████████████████████████████████████| 5/5 [00:49<00:00,  9.96s/it]\n"
     ]
    },
    {
     "name": "stdout",
     "output_type": "stream",
     "text": [
      "120880.37909666881\n"
     ]
    },
    {
     "name": "stderr",
     "output_type": "stream",
     "text": [
      "Running models: 100%|████████████████████████████████████████████████████████████████████| 5/5 [00:47<00:00,  9.60s/it]\n"
     ]
    },
    {
     "name": "stdout",
     "output_type": "stream",
     "text": [
      "909388.159972059\n"
     ]
    },
    {
     "name": "stderr",
     "output_type": "stream",
     "text": [
      "Running models: 100%|████████████████████████████████████████████████████████████████████| 5/5 [00:44<00:00,  8.89s/it]\n"
     ]
    },
    {
     "name": "stdout",
     "output_type": "stream",
     "text": [
      "1129398.6052200058\n"
     ]
    },
    {
     "name": "stderr",
     "output_type": "stream",
     "text": [
      "Running models: 100%|████████████████████████████████████████████████████████████████████| 5/5 [00:49<00:00, 10.00s/it]\n"
     ]
    },
    {
     "name": "stdout",
     "output_type": "stream",
     "text": [
      "601782.7276527392\n"
     ]
    },
    {
     "name": "stderr",
     "output_type": "stream",
     "text": [
      "Running models: 100%|████████████████████████████████████████████████████████████████████| 5/5 [00:49<00:00,  9.93s/it]\n"
     ]
    },
    {
     "name": "stdout",
     "output_type": "stream",
     "text": [
      "236698.54069020107\n"
     ]
    },
    {
     "name": "stderr",
     "output_type": "stream",
     "text": [
      "Running models: 100%|████████████████████████████████████████████████████████████████████| 5/5 [00:44<00:00,  8.80s/it]\n"
     ]
    },
    {
     "name": "stdout",
     "output_type": "stream",
     "text": [
      "1659193.4283951179\n"
     ]
    },
    {
     "name": "stderr",
     "output_type": "stream",
     "text": [
      "Running models: 100%|████████████████████████████████████████████████████████████████████| 5/5 [00:43<00:00,  8.79s/it]\n"
     ]
    },
    {
     "name": "stdout",
     "output_type": "stream",
     "text": [
      "1053946.3876308769\n"
     ]
    },
    {
     "name": "stderr",
     "output_type": "stream",
     "text": [
      "Running models: 100%|████████████████████████████████████████████████████████████████████| 5/5 [00:45<00:00,  9.08s/it]\n"
     ]
    },
    {
     "name": "stdout",
     "output_type": "stream",
     "text": [
      "243184.04557378037\n"
     ]
    },
    {
     "name": "stderr",
     "output_type": "stream",
     "text": [
      "Running models: 100%|████████████████████████████████████████████████████████████████████| 5/5 [00:49<00:00,  9.96s/it]\n"
     ]
    },
    {
     "name": "stdout",
     "output_type": "stream",
     "text": [
      "326592.15900067176\n"
     ]
    },
    {
     "name": "stderr",
     "output_type": "stream",
     "text": [
      "Running models: 100%|████████████████████████████████████████████████████████████████████| 5/5 [00:58<00:00, 11.61s/it]\n"
     ]
    },
    {
     "name": "stdout",
     "output_type": "stream",
     "text": [
      "632063.958250239\n"
     ]
    },
    {
     "name": "stderr",
     "output_type": "stream",
     "text": [
      "Running models: 100%|████████████████████████████████████████████████████████████████████| 5/5 [00:50<00:00, 10.08s/it]\n"
     ]
    },
    {
     "name": "stdout",
     "output_type": "stream",
     "text": [
      "818154.349874546\n"
     ]
    },
    {
     "name": "stderr",
     "output_type": "stream",
     "text": [
      "Running models: 100%|████████████████████████████████████████████████████████████████████| 5/5 [00:46<00:00,  9.39s/it]\n"
     ]
    },
    {
     "name": "stdout",
     "output_type": "stream",
     "text": [
      "1213642.8399463384\n"
     ]
    },
    {
     "name": "stderr",
     "output_type": "stream",
     "text": [
      "Running models: 100%|████████████████████████████████████████████████████████████████████| 5/5 [00:50<00:00, 10.19s/it]\n"
     ]
    },
    {
     "name": "stdout",
     "output_type": "stream",
     "text": [
      "83195.91930625854\n"
     ]
    },
    {
     "name": "stderr",
     "output_type": "stream",
     "text": [
      "Running models: 100%|████████████████████████████████████████████████████████████████████| 5/5 [00:53<00:00, 10.62s/it]\n"
     ]
    },
    {
     "name": "stdout",
     "output_type": "stream",
     "text": [
      "166158.000377656\n"
     ]
    },
    {
     "name": "stderr",
     "output_type": "stream",
     "text": [
      "Running models: 100%|████████████████████████████████████████████████████████████████████| 5/5 [00:50<00:00, 10.00s/it]\n"
     ]
    },
    {
     "name": "stdout",
     "output_type": "stream",
     "text": [
      "190661.92990620068\n"
     ]
    },
    {
     "name": "stderr",
     "output_type": "stream",
     "text": [
      "Running models: 100%|████████████████████████████████████████████████████████████████████| 5/5 [00:44<00:00,  8.86s/it]\n"
     ]
    },
    {
     "name": "stdout",
     "output_type": "stream",
     "text": [
      "38137.09579677675\n"
     ]
    },
    {
     "name": "stderr",
     "output_type": "stream",
     "text": [
      "Running models: 100%|████████████████████████████████████████████████████████████████████| 5/5 [00:42<00:00,  8.41s/it]\n"
     ]
    },
    {
     "name": "stdout",
     "output_type": "stream",
     "text": [
      "134722.91436754182\n"
     ]
    },
    {
     "name": "stderr",
     "output_type": "stream",
     "text": [
      "Running models: 100%|████████████████████████████████████████████████████████████████████| 5/5 [00:39<00:00,  7.94s/it]\n"
     ]
    },
    {
     "name": "stdout",
     "output_type": "stream",
     "text": [
      "718346.6518591552\n"
     ]
    },
    {
     "name": "stderr",
     "output_type": "stream",
     "text": [
      "Running models: 100%|████████████████████████████████████████████████████████████████████| 5/5 [01:01<00:00, 12.27s/it]\n"
     ]
    },
    {
     "name": "stdout",
     "output_type": "stream",
     "text": [
      "362462.0250023979\n"
     ]
    },
    {
     "name": "stderr",
     "output_type": "stream",
     "text": [
      "Running models: 100%|████████████████████████████████████████████████████████████████████| 5/5 [01:09<00:00, 13.87s/it]\n"
     ]
    },
    {
     "name": "stdout",
     "output_type": "stream",
     "text": [
      "42944.0079941436\n"
     ]
    },
    {
     "name": "stderr",
     "output_type": "stream",
     "text": [
      "Running models: 100%|████████████████████████████████████████████████████████████████████| 5/5 [01:08<00:00, 13.66s/it]\n"
     ]
    },
    {
     "name": "stdout",
     "output_type": "stream",
     "text": [
      "1335061.7977780458\n"
     ]
    },
    {
     "name": "stderr",
     "output_type": "stream",
     "text": [
      "Running models: 100%|████████████████████████████████████████████████████████████████████| 5/5 [01:06<00:00, 13.32s/it]\n"
     ]
    },
    {
     "name": "stdout",
     "output_type": "stream",
     "text": [
      "210766.78708519312\n"
     ]
    },
    {
     "name": "stderr",
     "output_type": "stream",
     "text": [
      "Running models: 100%|████████████████████████████████████████████████████████████████████| 5/5 [01:04<00:00, 12.93s/it]\n"
     ]
    },
    {
     "name": "stdout",
     "output_type": "stream",
     "text": [
      "1031731.0720918074\n"
     ]
    },
    {
     "name": "stderr",
     "output_type": "stream",
     "text": [
      "Running models: 100%|████████████████████████████████████████████████████████████████████| 5/5 [01:10<00:00, 14.06s/it]\n"
     ]
    },
    {
     "name": "stdout",
     "output_type": "stream",
     "text": [
      "429054.6385197706\n"
     ]
    },
    {
     "name": "stderr",
     "output_type": "stream",
     "text": [
      "Running models: 100%|████████████████████████████████████████████████████████████████████| 5/5 [01:08<00:00, 13.61s/it]\n"
     ]
    },
    {
     "name": "stdout",
     "output_type": "stream",
     "text": [
      "208778.04366386513\n"
     ]
    },
    {
     "name": "stderr",
     "output_type": "stream",
     "text": [
      "Running models: 100%|████████████████████████████████████████████████████████████████████| 5/5 [01:03<00:00, 12.62s/it]\n"
     ]
    },
    {
     "name": "stdout",
     "output_type": "stream",
     "text": [
      "715769.1983010769\n"
     ]
    },
    {
     "name": "stderr",
     "output_type": "stream",
     "text": [
      "Running models: 100%|████████████████████████████████████████████████████████████████████| 5/5 [01:07<00:00, 13.56s/it]\n"
     ]
    },
    {
     "name": "stdout",
     "output_type": "stream",
     "text": [
      "172238.592382329\n"
     ]
    },
    {
     "name": "stderr",
     "output_type": "stream",
     "text": [
      "Running models: 100%|████████████████████████████████████████████████████████████████████| 5/5 [01:14<00:00, 14.87s/it]\n"
     ]
    },
    {
     "name": "stdout",
     "output_type": "stream",
     "text": [
      "428148.6269945845\n"
     ]
    },
    {
     "name": "stderr",
     "output_type": "stream",
     "text": [
      "Running models: 100%|████████████████████████████████████████████████████████████████████| 5/5 [01:07<00:00, 13.40s/it]\n"
     ]
    },
    {
     "name": "stdout",
     "output_type": "stream",
     "text": [
      "676458.332440089\n"
     ]
    },
    {
     "name": "stderr",
     "output_type": "stream",
     "text": [
      "Running models: 100%|████████████████████████████████████████████████████████████████████| 5/5 [01:06<00:00, 13.39s/it]\n"
     ]
    },
    {
     "name": "stdout",
     "output_type": "stream",
     "text": [
      "378997.80141695694\n"
     ]
    },
    {
     "name": "stderr",
     "output_type": "stream",
     "text": [
      "Running models: 100%|████████████████████████████████████████████████████████████████████| 5/5 [01:12<00:00, 14.40s/it]\n"
     ]
    },
    {
     "name": "stdout",
     "output_type": "stream",
     "text": [
      "215527.05038789663\n"
     ]
    },
    {
     "name": "stderr",
     "output_type": "stream",
     "text": [
      "Running models: 100%|████████████████████████████████████████████████████████████████████| 5/5 [01:12<00:00, 14.48s/it]\n"
     ]
    },
    {
     "name": "stdout",
     "output_type": "stream",
     "text": [
      "1491245.308162841\n"
     ]
    },
    {
     "name": "stderr",
     "output_type": "stream",
     "text": [
      "Running models: 100%|████████████████████████████████████████████████████████████████████| 5/5 [01:24<00:00, 16.87s/it]\n"
     ]
    },
    {
     "name": "stdout",
     "output_type": "stream",
     "text": [
      "717500.8921503564\n"
     ]
    },
    {
     "name": "stderr",
     "output_type": "stream",
     "text": [
      "Running models: 100%|████████████████████████████████████████████████████████████████████| 5/5 [01:17<00:00, 15.44s/it]\n"
     ]
    },
    {
     "name": "stdout",
     "output_type": "stream",
     "text": [
      "1298642.1790414203\n"
     ]
    },
    {
     "name": "stderr",
     "output_type": "stream",
     "text": [
      "Running models: 100%|████████████████████████████████████████████████████████████████████| 5/5 [01:23<00:00, 16.65s/it]\n"
     ]
    },
    {
     "name": "stdout",
     "output_type": "stream",
     "text": [
      "49763.97801948134\n"
     ]
    },
    {
     "name": "stderr",
     "output_type": "stream",
     "text": [
      "Running models: 100%|████████████████████████████████████████████████████████████████████| 5/5 [01:19<00:00, 15.89s/it]\n"
     ]
    },
    {
     "name": "stdout",
     "output_type": "stream",
     "text": [
      "84641.02917896476\n"
     ]
    },
    {
     "name": "stderr",
     "output_type": "stream",
     "text": [
      "Running models: 100%|████████████████████████████████████████████████████████████████████| 5/5 [01:04<00:00, 12.93s/it]\n"
     ]
    },
    {
     "name": "stdout",
     "output_type": "stream",
     "text": [
      "18337.065250329928\n"
     ]
    },
    {
     "name": "stderr",
     "output_type": "stream",
     "text": [
      "Running models: 100%|████████████████████████████████████████████████████████████████████| 5/5 [01:05<00:00, 13.13s/it]\n"
     ]
    },
    {
     "name": "stdout",
     "output_type": "stream",
     "text": [
      "53163.45264036015\n"
     ]
    },
    {
     "name": "stderr",
     "output_type": "stream",
     "text": [
      "Running models: 100%|████████████████████████████████████████████████████████████████████| 5/5 [01:08<00:00, 13.76s/it]\n"
     ]
    },
    {
     "name": "stdout",
     "output_type": "stream",
     "text": [
      "154507.149851895\n"
     ]
    },
    {
     "name": "stderr",
     "output_type": "stream",
     "text": [
      "Running models: 100%|████████████████████████████████████████████████████████████████████| 5/5 [01:04<00:00, 12.93s/it]\n"
     ]
    },
    {
     "name": "stdout",
     "output_type": "stream",
     "text": [
      "1020637.1798198882\n"
     ]
    },
    {
     "name": "stderr",
     "output_type": "stream",
     "text": [
      "Running models: 100%|████████████████████████████████████████████████████████████████████| 5/5 [01:03<00:00, 12.73s/it]\n"
     ]
    },
    {
     "name": "stdout",
     "output_type": "stream",
     "text": [
      "614463.73266654\n"
     ]
    },
    {
     "name": "stderr",
     "output_type": "stream",
     "text": [
      "Running models: 100%|████████████████████████████████████████████████████████████████████| 5/5 [01:07<00:00, 13.59s/it]\n"
     ]
    },
    {
     "name": "stdout",
     "output_type": "stream",
     "text": [
      "607491.1060597972\n"
     ]
    },
    {
     "name": "stderr",
     "output_type": "stream",
     "text": [
      "Running models: 100%|████████████████████████████████████████████████████████████████████| 5/5 [01:09<00:00, 13.91s/it]\n"
     ]
    },
    {
     "name": "stdout",
     "output_type": "stream",
     "text": [
      "390137.534663072\n"
     ]
    },
    {
     "name": "stderr",
     "output_type": "stream",
     "text": [
      "Running models: 100%|████████████████████████████████████████████████████████████████████| 5/5 [01:04<00:00, 12.93s/it]\n"
     ]
    },
    {
     "name": "stdout",
     "output_type": "stream",
     "text": [
      "753130.6738243869\n"
     ]
    },
    {
     "name": "stderr",
     "output_type": "stream",
     "text": [
      "Running models: 100%|████████████████████████████████████████████████████████████████████| 5/5 [01:06<00:00, 13.37s/it]\n"
     ]
    },
    {
     "name": "stdout",
     "output_type": "stream",
     "text": [
      "775733.5873483217\n"
     ]
    },
    {
     "name": "stderr",
     "output_type": "stream",
     "text": [
      "Running models: 100%|████████████████████████████████████████████████████████████████████| 5/5 [01:10<00:00, 14.07s/it]\n"
     ]
    },
    {
     "name": "stdout",
     "output_type": "stream",
     "text": [
      "366248.6823424097\n"
     ]
    },
    {
     "name": "stderr",
     "output_type": "stream",
     "text": [
      "Running models: 100%|████████████████████████████████████████████████████████████████████| 5/5 [01:07<00:00, 13.41s/it]\n"
     ]
    },
    {
     "name": "stdout",
     "output_type": "stream",
     "text": [
      "663719.0708489951\n"
     ]
    },
    {
     "name": "stderr",
     "output_type": "stream",
     "text": [
      "Running models: 100%|████████████████████████████████████████████████████████████████████| 5/5 [00:39<00:00,  7.89s/it]\n"
     ]
    },
    {
     "name": "stdout",
     "output_type": "stream",
     "text": [
      "93370.83457041382\n"
     ]
    },
    {
     "name": "stderr",
     "output_type": "stream",
     "text": [
      "Running models: 100%|████████████████████████████████████████████████████████████████████| 5/5 [00:40<00:00,  8.05s/it]\n"
     ]
    },
    {
     "name": "stdout",
     "output_type": "stream",
     "text": [
      "456076.6305533299\n"
     ]
    },
    {
     "name": "stderr",
     "output_type": "stream",
     "text": [
      "Running models: 100%|████████████████████████████████████████████████████████████████████| 5/5 [00:43<00:00,  8.79s/it]\n"
     ]
    },
    {
     "name": "stdout",
     "output_type": "stream",
     "text": [
      "83035.53598415748\n"
     ]
    },
    {
     "name": "stderr",
     "output_type": "stream",
     "text": [
      "Running models: 100%|████████████████████████████████████████████████████████████████████| 5/5 [00:44<00:00,  8.90s/it]\n"
     ]
    },
    {
     "name": "stdout",
     "output_type": "stream",
     "text": [
      "1210740.6444398968\n"
     ]
    },
    {
     "name": "stderr",
     "output_type": "stream",
     "text": [
      "Running models: 100%|████████████████████████████████████████████████████████████████████| 5/5 [00:42<00:00,  8.49s/it]\n"
     ]
    },
    {
     "name": "stdout",
     "output_type": "stream",
     "text": [
      "627944.1291394489\n"
     ]
    },
    {
     "name": "stderr",
     "output_type": "stream",
     "text": [
      "Running models: 100%|████████████████████████████████████████████████████████████████████| 5/5 [00:43<00:00,  8.80s/it]\n"
     ]
    },
    {
     "name": "stdout",
     "output_type": "stream",
     "text": [
      "1020665.2680074061\n"
     ]
    },
    {
     "name": "stderr",
     "output_type": "stream",
     "text": [
      "Running models: 100%|████████████████████████████████████████████████████████████████████| 5/5 [00:51<00:00, 10.27s/it]\n"
     ]
    },
    {
     "name": "stdout",
     "output_type": "stream",
     "text": [
      "226747.71645577112\n"
     ]
    },
    {
     "name": "stderr",
     "output_type": "stream",
     "text": [
      "Running models:  60%|████████████████████████████████████████▊                           | 3/5 [00:26<00:17,  8.96s/it]"
     ]
    }
   ],
   "source": [
    "history = abc.run(max_nr_populations=2) \n",
    "# history = None\n",
    "# fname = \"./abc-2.pkl\"\n",
    "# # history = abc.run(max_nr_populations=2) \n",
    "# if LOAD_PICKLES and os.path.isfile(fname):\n",
    "#     print(\"loading pickles\")\n",
    "#     with open( fname, \"rb\" ) as f:\n",
    "#         history = pickle.load(f)\n",
    "# else:\n",
    "#     history = abc.run(max_nr_populations=2) \n",
    "#     # The history object only works if it has the associated database too ('abc-1.db')\n",
    "#     with open( fname, \"wb\" ) as f:\n",
    "#         pickle.dump( history, f)"
   ]
  },
  {
   "cell_type": "markdown",
   "metadata": {},
   "source": [
    "### Algorithm diagnostics"
   ]
  },
  {
   "cell_type": "code",
   "execution_count": null,
   "metadata": {},
   "outputs": [],
   "source": [
    "# _, arr_ax = plt.subplots(2, 2)\n",
    "\n",
    "# pyabc.visualization.plot_sample_numbers(history, ax=arr_ax[0][0])\n",
    "# pyabc.visualization.plot_epsilons(history, ax=arr_ax[0][1])\n",
    "# #pyabc.visualization.plot_credible_intervals(\n",
    "# #    history, levels=[0.95, 0.9, 0.5], ts=[0, 1, 2, 3, 4],\n",
    "# #    show_mean=True, show_kde_max_1d=True,\n",
    "# #    refval={'mean': 2.5}, \n",
    "# #    arr_ax=arr_ax[1][0])\n",
    "# pyabc.visualization.plot_effective_sample_sizes(history, ax=arr_ax[1][1])\n",
    "\n",
    "# plt.gcf().set_size_inches((12, 8))\n",
    "# plt.gcf().tight_layout()"
   ]
  },
  {
   "cell_type": "markdown",
   "metadata": {},
   "source": [
    "#### Plot the marginal posteriors  \n",
    "The estimates of the optimal values for each parameter individually"
   ]
  },
  {
   "cell_type": "code",
   "execution_count": 44,
   "metadata": {},
   "outputs": [
    {
     "data": {
      "image/png": "[encoded data removed]",
      "text/plain": [
       "<Figure size 864x720 with 6 Axes>"
      ]
     },
     "metadata": {
      "needs_background": "light"
     },
     "output_type": "display_data"
    }
   ],
   "source": [
    "# fig, axes = plt.subplots(3,int(len(priors)/2), figsize=(12,10))\n",
    "fig, axes = plt.subplots(3,2, figsize=(12,10))\n",
    "#cmap = { 0:'k',1:'b',2:'y',3:'g',4:'r' }  # Do this automatically for len(params)\n",
    "\n",
    "for i, param in enumerate(priors.keys()):\n",
    "    ax = axes.flat[i]\n",
    "    for t in range(history.max_t + 1):\n",
    "        df, w = history.get_distribution(m=0, t=t)\n",
    "        pyabc.visualization.plot_kde_1d(df, w, x=param, ax=ax, \n",
    "            label=f\"{param} PDF t={t}\", \n",
    "            alpha=1.0 if t==0 else float(t)/history.max_t, # Make earlier populations transparent\n",
    "            color= \"black\" if t==history.max_t else None # Make the last one black\n",
    "        ) \n",
    "        if param!=\"work\":\n",
    "            ax.set_xlim(0,1)\n",
    "        ax.legend(fontsize=\"small\")\n",
    "        #ax.axvline(x=posterior_df.loc[1,param], color=\"grey\", linestyle=\"dashed\")\n",
    "        #ax.set_title(f\"{param}: {posterior_df.loc[0,param]}\")\n",
    "        ax.set_title(f\"{param}\")\n",
    "fig.tight_layout()"
   ]
  },
  {
   "cell_type": "code",
   "execution_count": 148,
   "metadata": {},
   "outputs": [],
   "source": [
    "#As above, but this time do a separate plot for each population\n",
    "\n",
    "#fig, axes = plt.subplots(3,int(history.max_t/2), figsize=(10,8))\n",
    "#for t in range(history.max_t + 1):\n",
    "#    ax = axes.flat[t]\n",
    "#    for i, param in enumerate(priors.keys()):\n",
    "#        df, w = history.get_distribution(m=0, t=t)\n",
    "#        pyabc.visualization.plot_kde_1d(df, w, x=param, ax=ax, \n",
    "#            label=f\"{param}\")\n",
    "#    ax.legend()\n",
    "#    ax.set_title(f\"t={t}\")\n",
    "# fig.tight_layout()\n"
   ]
  },
  {
   "cell_type": "markdown",
   "metadata": {},
   "source": [
    "Now look at the 2D correlations (_I'm not sure how to read this_)"
   ]
  },
  {
   "cell_type": "markdown",
   "metadata": {},
   "source": [
    "### Analyse the posterior\n",
    "\n",
    "Have a look at the posterior distribution for the final population. This is made up of the posterior estimates for each particle in the popualtion and the associated weight.\n",
    "\n",
    "_Note about the distrubtion returned by `get_distribution`_: With each iteration, the algorithm decreases epsilon. So in the end all particles should be within some small distance, epsilon, of the observations. However, within this range, the particles will be randomly distributed. The weight of the particle is a function of the prior and of the number of other particles that are close by, so we wouldn't necessarily expect that particles with high weight should have better fitness than those of low weight. It's just looking at the wrong thing."
   ]
  },
  {
   "cell_type": "code",
   "execution_count": 46,
   "metadata": {},
   "outputs": [
    {
     "data": {
      "text/html": [
       "<div>\n",
       "<style scoped>\n",
       "    .dataframe tbody tr th:only-of-type {\n",
       "        vertical-align: middle;\n",
       "    }\n",
       "\n",
       "    .dataframe tbody tr th {\n",
       "        vertical-align: top;\n",
       "    }\n",
       "\n",
       "    .dataframe thead th {\n",
       "        text-align: right;\n",
       "    }\n",
       "</style>\n",
       "<table border=\"1\" class=\"dataframe\">\n",
       "  <thead>\n",
       "    <tr style=\"text-align: right;\">\n",
       "      <th>name</th>\n",
       "      <th>id</th>\n",
       "      <th>asymptomatic</th>\n",
       "      <th>current_risk_beta</th>\n",
       "      <th>primary_school</th>\n",
       "      <th>retail</th>\n",
       "      <th>secondary_school</th>\n",
       "      <th>work</th>\n",
       "      <th>weight</th>\n",
       "    </tr>\n",
       "  </thead>\n",
       "  <tbody>\n",
       "    <tr>\n",
       "      <th>0</th>\n",
       "      <td>385</td>\n",
       "      <td>0.357709</td>\n",
       "      <td>0.050188</td>\n",
       "      <td>0.396544</td>\n",
       "      <td>0.058017</td>\n",
       "      <td>0.451099</td>\n",
       "      <td>0.001305</td>\n",
       "      <td>0.113187</td>\n",
       "    </tr>\n",
       "    <tr>\n",
       "      <th>1</th>\n",
       "      <td>426</td>\n",
       "      <td>0.466915</td>\n",
       "      <td>0.008228</td>\n",
       "      <td>0.750158</td>\n",
       "      <td>0.744050</td>\n",
       "      <td>0.060936</td>\n",
       "      <td>0.004178</td>\n",
       "      <td>0.090340</td>\n",
       "    </tr>\n",
       "    <tr>\n",
       "      <th>2</th>\n",
       "      <td>368</td>\n",
       "      <td>0.591302</td>\n",
       "      <td>0.021926</td>\n",
       "      <td>0.641883</td>\n",
       "      <td>0.923727</td>\n",
       "      <td>0.277831</td>\n",
       "      <td>0.005954</td>\n",
       "      <td>0.079905</td>\n",
       "    </tr>\n",
       "    <tr>\n",
       "      <th>3</th>\n",
       "      <td>378</td>\n",
       "      <td>0.226114</td>\n",
       "      <td>0.008281</td>\n",
       "      <td>0.901598</td>\n",
       "      <td>0.620915</td>\n",
       "      <td>0.974587</td>\n",
       "      <td>0.007095</td>\n",
       "      <td>0.070833</td>\n",
       "    </tr>\n",
       "    <tr>\n",
       "      <th>4</th>\n",
       "      <td>396</td>\n",
       "      <td>0.227214</td>\n",
       "      <td>0.048787</td>\n",
       "      <td>0.361715</td>\n",
       "      <td>0.817526</td>\n",
       "      <td>0.254377</td>\n",
       "      <td>0.001360</td>\n",
       "      <td>0.048354</td>\n",
       "    </tr>\n",
       "    <tr>\n",
       "      <th>...</th>\n",
       "      <td>...</td>\n",
       "      <td>...</td>\n",
       "      <td>...</td>\n",
       "      <td>...</td>\n",
       "      <td>...</td>\n",
       "      <td>...</td>\n",
       "      <td>...</td>\n",
       "      <td>...</td>\n",
       "    </tr>\n",
       "    <tr>\n",
       "      <th>95</th>\n",
       "      <td>362</td>\n",
       "      <td>0.003296</td>\n",
       "      <td>0.112668</td>\n",
       "      <td>0.581966</td>\n",
       "      <td>0.759055</td>\n",
       "      <td>0.230467</td>\n",
       "      <td>0.029092</td>\n",
       "      <td>0.000967</td>\n",
       "    </tr>\n",
       "    <tr>\n",
       "      <th>96</th>\n",
       "      <td>401</td>\n",
       "      <td>0.110204</td>\n",
       "      <td>0.045629</td>\n",
       "      <td>0.297847</td>\n",
       "      <td>0.644962</td>\n",
       "      <td>0.237152</td>\n",
       "      <td>0.042018</td>\n",
       "      <td>0.000752</td>\n",
       "    </tr>\n",
       "    <tr>\n",
       "      <th>97</th>\n",
       "      <td>390</td>\n",
       "      <td>0.037137</td>\n",
       "      <td>0.068838</td>\n",
       "      <td>0.722717</td>\n",
       "      <td>0.091646</td>\n",
       "      <td>0.081382</td>\n",
       "      <td>0.061242</td>\n",
       "      <td>0.000731</td>\n",
       "    </tr>\n",
       "    <tr>\n",
       "      <th>98</th>\n",
       "      <td>366</td>\n",
       "      <td>0.151454</td>\n",
       "      <td>0.015742</td>\n",
       "      <td>0.118239</td>\n",
       "      <td>0.509856</td>\n",
       "      <td>0.848102</td>\n",
       "      <td>0.058886</td>\n",
       "      <td>0.000568</td>\n",
       "    </tr>\n",
       "    <tr>\n",
       "      <th>99</th>\n",
       "      <td>402</td>\n",
       "      <td>0.120862</td>\n",
       "      <td>0.092513</td>\n",
       "      <td>0.183983</td>\n",
       "      <td>0.897756</td>\n",
       "      <td>0.540243</td>\n",
       "      <td>0.058015</td>\n",
       "      <td>0.000495</td>\n",
       "    </tr>\n",
       "  </tbody>\n",
       "</table>\n",
       "<p>100 rows × 8 columns</p>\n",
       "</div>"
      ],
      "text/plain": [
       "name   id  asymptomatic  current_risk_beta  primary_school    retail  \\\n",
       "0     385      0.357709           0.050188        0.396544  0.058017   \n",
       "1     426      0.466915           0.008228        0.750158  0.744050   \n",
       "2     368      0.591302           0.021926        0.641883  0.923727   \n",
       "3     378      0.226114           0.008281        0.901598  0.620915   \n",
       "4     396      0.227214           0.048787        0.361715  0.817526   \n",
       "..    ...           ...                ...             ...       ...   \n",
       "95    362      0.003296           0.112668        0.581966  0.759055   \n",
       "96    401      0.110204           0.045629        0.297847  0.644962   \n",
       "97    390      0.037137           0.068838        0.722717  0.091646   \n",
       "98    366      0.151454           0.015742        0.118239  0.509856   \n",
       "99    402      0.120862           0.092513        0.183983  0.897756   \n",
       "\n",
       "name  secondary_school      work    weight  \n",
       "0             0.451099  0.001305  0.113187  \n",
       "1             0.060936  0.004178  0.090340  \n",
       "2             0.277831  0.005954  0.079905  \n",
       "3             0.974587  0.007095  0.070833  \n",
       "4             0.254377  0.001360  0.048354  \n",
       "..                 ...       ...       ...  \n",
       "95            0.230467  0.029092  0.000967  \n",
       "96            0.237152  0.042018  0.000752  \n",
       "97            0.081382  0.061242  0.000731  \n",
       "98            0.848102  0.058886  0.000568  \n",
       "99            0.540243  0.058015  0.000495  \n",
       "\n",
       "[100 rows x 8 columns]"
      ]
     },
     "execution_count": 46,
     "metadata": {},
     "output_type": "execute_result"
    }
   ],
   "source": [
    "_df, _w = history.get_distribution(m=0, t=history.max_t)\n",
    "# Merge dataframe and weights and sort by weight (highest weight at the top)\n",
    "_df['weight'] = _w\n",
    "posterior_df = _df.sort_values('weight', ascending=False).reset_index()\n",
    "posterior_df"
   ]
  },
  {
   "cell_type": "markdown",
   "metadata": {},
   "source": [
    "This code shows how to calculate the fitness associated with each particle (not the correct way to draw from the posterior so not especially useful)."
   ]
  },
  {
   "cell_type": "raw",
   "metadata": {},
   "source": [
    "df_fitnesses = []\n",
    "for i, row in posterior_df.iterrows():\n",
    "    param_values = { param:row[str(param)] for param in priors}\n",
    "    (_fitness, _sim, _obs, _out_params, _summaries) = \\\n",
    "          OpenCLRunner.run_model_with_params_abc(param_values, return_full_details=True)\n",
    "    df_fitnesses.append(_fitness)\n",
    "    print(f\"{i}, Fitness: {_fitness}\")\n",
    "posterior_df['fitness'] = df_fitnesses\n"
   ]
  },
  {
   "cell_type": "raw",
   "metadata": {},
   "source": [
    "plt.plot(range(len(posterior_df)), posterior_df['fitness'])\n",
    "plt.xlabel(\"Particle number\")\n",
    "plt.ylabel(\"Fitness\")\n"
   ]
  },
  {
   "cell_type": "raw",
   "metadata": {},
   "source": [
    "plt.plot(range(len(posterior_df)), posterior_df['weight'])\n",
    "plt.xlabel(\"Particle number\")\n",
    "plt.ylabel(\"Weight\")\n"
   ]
  },
  {
   "cell_type": "markdown",
   "metadata": {},
   "source": [
    "Now we have a posterior over the parameters. There are two ways to find the 'optimal' model:\n",
    "\n",
    " - Find the posterior mode (i.e. the set of parameters that gave the result that was the most likely to have generated the observations). This is useful because then the 'optimal' parameters can be reported and these can be set as the default for future model runs (i.e. a traditional calibration).\n",
    " \n",
    " - Sample from the posterior distribution N times (N=100?) to generate a posterior over the model outputs. This better captures the uncertainty in the parameter values and in the associated model outputs.\n"
   ]
  },
  {
   "cell_type": "markdown",
   "metadata": {},
   "source": [
    "#### ABC Posterior (A) - Sample\n",
    "\n",
    "Sample from the distribution of parameter posteriors to generate a distribution over the mode likely model results. Use kernel density approximation to randomly draw some equally weighted samples.\n",
    "\n",
    "(This is kind of pointless as we already know what the parameter posteriors are, but we could use this mechanism to make predictions from the model)."
   ]
  },
  {
   "cell_type": "code",
   "execution_count": 73,
   "metadata": {},
   "outputs": [
    {
     "name": "stdout",
     "output_type": "stream",
     "text": [
      "Found negatives. Resampling\n"
     ]
    },
    {
     "name": "stderr",
     "output_type": "stream",
     "text": [
      "Running models: 100%|████████████████████████████████████████████████████████████████████| 5/5 [00:39<00:00,  7.93s/it]\n"
     ]
    },
    {
     "name": "stdout",
     "output_type": "stream",
     "text": [
      "Fitness: 134840.89675797077.\n"
     ]
    },
    {
     "name": "stderr",
     "output_type": "stream",
     "text": [
      "Running models: 100%|████████████████████████████████████████████████████████████████████| 5/5 [00:39<00:00,  7.87s/it]\n"
     ]
    },
    {
     "name": "stdout",
     "output_type": "stream",
     "text": [
      "Fitness: 43385.20884039032.\n",
      "Found negatives. Resampling\n"
     ]
    },
    {
     "name": "stderr",
     "output_type": "stream",
     "text": [
      "Running models: 100%|████████████████████████████████████████████████████████████████████| 5/5 [00:42<00:00,  8.54s/it]\n"
     ]
    },
    {
     "name": "stdout",
     "output_type": "stream",
     "text": [
      "Fitness: 455318.63972130365.\n",
      "Found negatives. Resampling\n",
      "Found negatives. Resampling\n",
      "Found negatives. Resampling\n"
     ]
    },
    {
     "name": "stderr",
     "output_type": "stream",
     "text": [
      "Running models: 100%|████████████████████████████████████████████████████████████████████| 5/5 [00:43<00:00,  8.79s/it]\n"
     ]
    },
    {
     "name": "stdout",
     "output_type": "stream",
     "text": [
      "Fitness: 281507.44334171625.\n"
     ]
    },
    {
     "name": "stderr",
     "output_type": "stream",
     "text": [
      "Running models: 100%|████████████████████████████████████████████████████████████████████| 5/5 [00:41<00:00,  8.31s/it]\n"
     ]
    },
    {
     "name": "stdout",
     "output_type": "stream",
     "text": [
      "Fitness: 32683.316803657373.\n"
     ]
    },
    {
     "name": "stderr",
     "output_type": "stream",
     "text": [
      "Running models: 100%|████████████████████████████████████████████████████████████████████| 5/5 [00:40<00:00,  8.12s/it]\n"
     ]
    },
    {
     "name": "stdout",
     "output_type": "stream",
     "text": [
      "Fitness: 136461.44901092703.\n",
      "Found negatives. Resampling\n",
      "Found negatives. Resampling\n"
     ]
    },
    {
     "name": "stderr",
     "output_type": "stream",
     "text": [
      "Running models: 100%|████████████████████████████████████████████████████████████████████| 5/5 [00:45<00:00,  9.13s/it]\n"
     ]
    },
    {
     "name": "stdout",
     "output_type": "stream",
     "text": [
      "Fitness: 52839.212890166775.\n",
      "Found negatives. Resampling\n",
      "Found negatives. Resampling\n",
      "Found negatives. Resampling\n"
     ]
    },
    {
     "name": "stderr",
     "output_type": "stream",
     "text": [
      "Running models: 100%|████████████████████████████████████████████████████████████████████| 5/5 [00:45<00:00,  9.01s/it]\n"
     ]
    },
    {
     "name": "stdout",
     "output_type": "stream",
     "text": [
      "Fitness: 212000.13238659198.\n"
     ]
    },
    {
     "name": "stderr",
     "output_type": "stream",
     "text": [
      "Running models: 100%|████████████████████████████████████████████████████████████████████| 5/5 [00:40<00:00,  8.03s/it]\n"
     ]
    },
    {
     "name": "stdout",
     "output_type": "stream",
     "text": [
      "Fitness: 38607.94806840568.\n",
      "Found negatives. Resampling\n",
      "Found negatives. Resampling\n",
      "Found negatives. Resampling\n"
     ]
    },
    {
     "name": "stderr",
     "output_type": "stream",
     "text": [
      "Running models: 100%|████████████████████████████████████████████████████████████████████| 5/5 [00:40<00:00,  8.05s/it]\n"
     ]
    },
    {
     "name": "stdout",
     "output_type": "stream",
     "text": [
      "Fitness: 27829.139459327398.\n",
      "Found negatives. Resampling\n"
     ]
    },
    {
     "name": "stderr",
     "output_type": "stream",
     "text": [
      "Running models: 100%|████████████████████████████████████████████████████████████████████| 5/5 [00:39<00:00,  7.90s/it]\n"
     ]
    },
    {
     "name": "stdout",
     "output_type": "stream",
     "text": [
      "Fitness: 776403.2626059805.\n",
      "Found negatives. Resampling\n"
     ]
    },
    {
     "name": "stderr",
     "output_type": "stream",
     "text": [
      "Running models: 100%|████████████████████████████████████████████████████████████████████| 5/5 [00:40<00:00,  8.09s/it]\n"
     ]
    },
    {
     "name": "stdout",
     "output_type": "stream",
     "text": [
      "Fitness: 92415.7232602063.\n",
      "Found negatives. Resampling\n"
     ]
    },
    {
     "name": "stderr",
     "output_type": "stream",
     "text": [
      "Running models: 100%|████████████████████████████████████████████████████████████████████| 5/5 [00:40<00:00,  8.14s/it]\n"
     ]
    },
    {
     "name": "stdout",
     "output_type": "stream",
     "text": [
      "Fitness: 107890.49790925998.\n",
      "Found negatives. Resampling\n"
     ]
    },
    {
     "name": "stderr",
     "output_type": "stream",
     "text": [
      "Running models: 100%|████████████████████████████████████████████████████████████████████| 5/5 [00:40<00:00,  8.13s/it]\n"
     ]
    },
    {
     "name": "stdout",
     "output_type": "stream",
     "text": [
      "Fitness: 362156.93617689866.\n",
      "Found negatives. Resampling\n"
     ]
    },
    {
     "name": "stderr",
     "output_type": "stream",
     "text": [
      "Running models: 100%|████████████████████████████████████████████████████████████████████| 5/5 [00:39<00:00,  7.91s/it]\n"
     ]
    },
    {
     "name": "stdout",
     "output_type": "stream",
     "text": [
      "Fitness: 44015.089996664545.\n"
     ]
    },
    {
     "name": "stderr",
     "output_type": "stream",
     "text": [
      "Running models: 100%|████████████████████████████████████████████████████████████████████| 5/5 [00:40<00:00,  8.04s/it]\n"
     ]
    },
    {
     "name": "stdout",
     "output_type": "stream",
     "text": [
      "Fitness: 105016.14846831931.\n",
      "Found negatives. Resampling\n"
     ]
    },
    {
     "name": "stderr",
     "output_type": "stream",
     "text": [
      "Running models: 100%|████████████████████████████████████████████████████████████████████| 5/5 [00:39<00:00,  7.84s/it]\n"
     ]
    },
    {
     "name": "stdout",
     "output_type": "stream",
     "text": [
      "Fitness: 487372.83758751716.\n"
     ]
    },
    {
     "name": "stderr",
     "output_type": "stream",
     "text": [
      "Running models: 100%|████████████████████████████████████████████████████████████████████| 5/5 [00:39<00:00,  7.96s/it]\n"
     ]
    },
    {
     "name": "stdout",
     "output_type": "stream",
     "text": [
      "Fitness: 221118.67119766408.\n",
      "Found negatives. Resampling\n",
      "Found negatives. Resampling\n"
     ]
    },
    {
     "name": "stderr",
     "output_type": "stream",
     "text": [
      "Running models: 100%|████████████████████████████████████████████████████████████████████| 5/5 [00:42<00:00,  8.49s/it]\n"
     ]
    },
    {
     "name": "stdout",
     "output_type": "stream",
     "text": [
      "Fitness: 349963.6479729006.\n",
      "Found negatives. Resampling\n"
     ]
    },
    {
     "name": "stderr",
     "output_type": "stream",
     "text": [
      "Running models: 100%|████████████████████████████████████████████████████████████████████| 5/5 [00:46<00:00,  9.37s/it]\n"
     ]
    },
    {
     "name": "stdout",
     "output_type": "stream",
     "text": [
      "Fitness: 28049.19425667845.\n",
      "Found negatives. Resampling\n",
      "Found negatives. Resampling\n",
      "Found negatives. Resampling\n"
     ]
    },
    {
     "name": "stderr",
     "output_type": "stream",
     "text": [
      "Running models: 100%|████████████████████████████████████████████████████████████████████| 5/5 [00:41<00:00,  8.33s/it]\n"
     ]
    },
    {
     "name": "stdout",
     "output_type": "stream",
     "text": [
      "Fitness: 10497.060090988169.\n",
      "Found negatives. Resampling\n"
     ]
    },
    {
     "name": "stderr",
     "output_type": "stream",
     "text": [
      "Running models: 100%|████████████████████████████████████████████████████████████████████| 5/5 [00:41<00:00,  8.35s/it]\n"
     ]
    },
    {
     "name": "stdout",
     "output_type": "stream",
     "text": [
      "Fitness: 132994.82563103864.\n"
     ]
    },
    {
     "name": "stderr",
     "output_type": "stream",
     "text": [
      "Running models: 100%|████████████████████████████████████████████████████████████████████| 5/5 [00:42<00:00,  8.43s/it]\n"
     ]
    },
    {
     "name": "stdout",
     "output_type": "stream",
     "text": [
      "Fitness: 24968.33827183913.\n"
     ]
    },
    {
     "name": "stderr",
     "output_type": "stream",
     "text": [
      "Running models: 100%|████████████████████████████████████████████████████████████████████| 5/5 [00:40<00:00,  8.09s/it]\n"
     ]
    },
    {
     "name": "stdout",
     "output_type": "stream",
     "text": [
      "Fitness: 34685.41302482559.\n",
      "Found negatives. Resampling\n",
      "Found negatives. Resampling\n",
      "Found negatives. Resampling\n"
     ]
    },
    {
     "name": "stderr",
     "output_type": "stream",
     "text": [
      "Running models: 100%|████████████████████████████████████████████████████████████████████| 5/5 [00:41<00:00,  8.36s/it]\n"
     ]
    },
    {
     "name": "stdout",
     "output_type": "stream",
     "text": [
      "Fitness: 182730.78889021513.\n"
     ]
    },
    {
     "name": "stderr",
     "output_type": "stream",
     "text": [
      "Running models: 100%|████████████████████████████████████████████████████████████████████| 5/5 [00:39<00:00,  7.86s/it]\n"
     ]
    },
    {
     "name": "stdout",
     "output_type": "stream",
     "text": [
      "Fitness: 21488.419128756083.\n"
     ]
    },
    {
     "name": "stderr",
     "output_type": "stream",
     "text": [
      "Running models: 100%|████████████████████████████████████████████████████████████████████| 5/5 [00:39<00:00,  7.88s/it]\n"
     ]
    },
    {
     "name": "stdout",
     "output_type": "stream",
     "text": [
      "Fitness: 31301.161785487846.\n"
     ]
    },
    {
     "name": "stderr",
     "output_type": "stream",
     "text": [
      "Running models: 100%|████████████████████████████████████████████████████████████████████| 5/5 [00:38<00:00,  7.74s/it]\n"
     ]
    },
    {
     "name": "stdout",
     "output_type": "stream",
     "text": [
      "Fitness: 16093.740934478925.\n",
      "Found negatives. Resampling\n"
     ]
    },
    {
     "name": "stderr",
     "output_type": "stream",
     "text": [
      "Running models: 100%|████████████████████████████████████████████████████████████████████| 5/5 [00:38<00:00,  7.75s/it]\n"
     ]
    },
    {
     "name": "stdout",
     "output_type": "stream",
     "text": [
      "Fitness: 30478.232263501162.\n",
      "Found negatives. Resampling\n",
      "Found negatives. Resampling\n"
     ]
    },
    {
     "name": "stderr",
     "output_type": "stream",
     "text": [
      "Running models: 100%|████████████████████████████████████████████████████████████████████| 5/5 [00:38<00:00,  7.69s/it]\n"
     ]
    },
    {
     "name": "stdout",
     "output_type": "stream",
     "text": [
      "Fitness: 44256.21885258285.\n"
     ]
    },
    {
     "name": "stderr",
     "output_type": "stream",
     "text": [
      "Running models: 100%|████████████████████████████████████████████████████████████████████| 5/5 [00:40<00:00,  8.06s/it]\n"
     ]
    },
    {
     "name": "stdout",
     "output_type": "stream",
     "text": [
      "Fitness: 301830.62367799575.\n",
      "Found negatives. Resampling\n",
      "Found negatives. Resampling\n",
      "Found negatives. Resampling\n",
      "Found negatives. Resampling\n"
     ]
    },
    {
     "name": "stderr",
     "output_type": "stream",
     "text": [
      "Running models: 100%|████████████████████████████████████████████████████████████████████| 5/5 [00:41<00:00,  8.27s/it]\n"
     ]
    },
    {
     "name": "stdout",
     "output_type": "stream",
     "text": [
      "Fitness: 31435.403702180647.\n",
      "Found negatives. Resampling\n"
     ]
    },
    {
     "name": "stderr",
     "output_type": "stream",
     "text": [
      "Running models: 100%|████████████████████████████████████████████████████████████████████| 5/5 [00:40<00:00,  8.10s/it]\n"
     ]
    },
    {
     "name": "stdout",
     "output_type": "stream",
     "text": [
      "Fitness: 533509.3362314958.\n",
      "Found negatives. Resampling\n"
     ]
    },
    {
     "name": "stderr",
     "output_type": "stream",
     "text": [
      "Running models: 100%|████████████████████████████████████████████████████████████████████| 5/5 [00:40<00:00,  8.20s/it]\n"
     ]
    },
    {
     "name": "stdout",
     "output_type": "stream",
     "text": [
      "Fitness: 40066.336342740724.\n",
      "Found negatives. Resampling\n"
     ]
    },
    {
     "name": "stderr",
     "output_type": "stream",
     "text": [
      "Running models: 100%|████████████████████████████████████████████████████████████████████| 5/5 [00:40<00:00,  8.13s/it]\n"
     ]
    },
    {
     "name": "stdout",
     "output_type": "stream",
     "text": [
      "Fitness: 283846.19757391233.\n",
      "Found negatives. Resampling\n",
      "Found negatives. Resampling\n",
      "Found negatives. Resampling\n"
     ]
    },
    {
     "name": "stderr",
     "output_type": "stream",
     "text": [
      "Running models: 100%|████████████████████████████████████████████████████████████████████| 5/5 [00:43<00:00,  8.64s/it]\n"
     ]
    },
    {
     "name": "stdout",
     "output_type": "stream",
     "text": [
      "Fitness: 8009.177772775338.\n",
      "Found negatives. Resampling\n",
      "Found negatives. Resampling\n"
     ]
    },
    {
     "name": "stderr",
     "output_type": "stream",
     "text": [
      "Running models: 100%|████████████████████████████████████████████████████████████████████| 5/5 [00:42<00:00,  8.58s/it]\n"
     ]
    },
    {
     "name": "stdout",
     "output_type": "stream",
     "text": [
      "Fitness: 43441.20130241242.\n",
      "Found negatives. Resampling\n",
      "Found negatives. Resampling\n",
      "Found negatives. Resampling\n",
      "Found negatives. Resampling\n"
     ]
    },
    {
     "name": "stderr",
     "output_type": "stream",
     "text": [
      "Running models: 100%|████████████████████████████████████████████████████████████████████| 5/5 [00:40<00:00,  8.17s/it]\n"
     ]
    },
    {
     "name": "stdout",
     "output_type": "stream",
     "text": [
      "Fitness: 243118.97268518014.\n"
     ]
    },
    {
     "name": "stderr",
     "output_type": "stream",
     "text": [
      "Running models: 100%|████████████████████████████████████████████████████████████████████| 5/5 [00:40<00:00,  8.17s/it]\n"
     ]
    },
    {
     "name": "stdout",
     "output_type": "stream",
     "text": [
      "Fitness: 216031.85772898208.\n"
     ]
    },
    {
     "name": "stderr",
     "output_type": "stream",
     "text": [
      "Running models: 100%|████████████████████████████████████████████████████████████████████| 5/5 [00:45<00:00,  9.18s/it]\n"
     ]
    },
    {
     "name": "stdout",
     "output_type": "stream",
     "text": [
      "Fitness: 131169.97058005884.\n"
     ]
    },
    {
     "name": "stderr",
     "output_type": "stream",
     "text": [
      "Running models: 100%|████████████████████████████████████████████████████████████████████| 5/5 [00:47<00:00,  9.42s/it]\n"
     ]
    },
    {
     "name": "stdout",
     "output_type": "stream",
     "text": [
      "Fitness: 54623.275570532394.\n",
      "Found negatives. Resampling\n"
     ]
    },
    {
     "name": "stderr",
     "output_type": "stream",
     "text": [
      "Running models: 100%|████████████████████████████████████████████████████████████████████| 5/5 [00:40<00:00,  8.08s/it]\n"
     ]
    },
    {
     "name": "stdout",
     "output_type": "stream",
     "text": [
      "Fitness: 76809.93052695082.\n"
     ]
    },
    {
     "name": "stderr",
     "output_type": "stream",
     "text": [
      "Running models: 100%|████████████████████████████████████████████████████████████████████| 5/5 [00:41<00:00,  8.38s/it]\n"
     ]
    },
    {
     "name": "stdout",
     "output_type": "stream",
     "text": [
      "Fitness: 173529.40782272743.\n",
      "Found negatives. Resampling\n"
     ]
    },
    {
     "name": "stderr",
     "output_type": "stream",
     "text": [
      "Running models: 100%|████████████████████████████████████████████████████████████████████| 5/5 [00:44<00:00,  8.85s/it]\n"
     ]
    },
    {
     "name": "stdout",
     "output_type": "stream",
     "text": [
      "Fitness: 34777.929358096546.\n"
     ]
    },
    {
     "name": "stderr",
     "output_type": "stream",
     "text": [
      "Running models: 100%|████████████████████████████████████████████████████████████████████| 5/5 [00:43<00:00,  8.65s/it]\n"
     ]
    },
    {
     "name": "stdout",
     "output_type": "stream",
     "text": [
      "Fitness: 13758.881679461509.\n"
     ]
    },
    {
     "name": "stderr",
     "output_type": "stream",
     "text": [
      "Running models: 100%|████████████████████████████████████████████████████████████████████| 5/5 [00:44<00:00,  8.85s/it]\n"
     ]
    },
    {
     "name": "stdout",
     "output_type": "stream",
     "text": [
      "Fitness: 5929.8723944261355.\n",
      "Found negatives. Resampling\n"
     ]
    },
    {
     "name": "stderr",
     "output_type": "stream",
     "text": [
      "Running models: 100%|████████████████████████████████████████████████████████████████████| 5/5 [00:42<00:00,  8.59s/it]\n"
     ]
    },
    {
     "name": "stdout",
     "output_type": "stream",
     "text": [
      "Fitness: 229746.59234398286.\n"
     ]
    },
    {
     "name": "stderr",
     "output_type": "stream",
     "text": [
      "Running models: 100%|████████████████████████████████████████████████████████████████████| 5/5 [00:44<00:00,  8.86s/it]\n"
     ]
    },
    {
     "name": "stdout",
     "output_type": "stream",
     "text": [
      "Fitness: 24416.215989298842.\n",
      "Found negatives. Resampling\n"
     ]
    },
    {
     "name": "stderr",
     "output_type": "stream",
     "text": [
      "Running models: 100%|████████████████████████████████████████████████████████████████████| 5/5 [00:42<00:00,  8.53s/it]\n"
     ]
    },
    {
     "name": "stdout",
     "output_type": "stream",
     "text": [
      "Fitness: 457919.4521095874.\n",
      "Found negatives. Resampling\n"
     ]
    },
    {
     "name": "stderr",
     "output_type": "stream",
     "text": [
      "Running models: 100%|████████████████████████████████████████████████████████████████████| 5/5 [00:50<00:00, 10.01s/it]"
     ]
    },
    {
     "name": "stdout",
     "output_type": "stream",
     "text": [
      "Fitness: 29058.336783537212.\n",
      "Finished sampling. Ignored 53 negative samples.\n"
     ]
    },
    {
     "name": "stderr",
     "output_type": "stream",
     "text": [
      "\n"
     ]
    }
   ],
   "source": [
    "N_samples = 50\n",
    "df, w = history.get_distribution(m=0, t=history.max_t)\n",
    "\n",
    "# Sample from the dataframe of posteriors using KDE\n",
    "kde = MultivariateNormalTransition(scaling=1)\n",
    "kde.fit(df, w)\n",
    "samples = kde.rvs(N_samples)\n",
    "\n",
    "## Instead sample just using the weights (this isn't the best way to do it though, should use KDE)\n",
    "#df = df.reset_index()  # So that the row index is 0-N (currently it's something else)\n",
    "#sample_idx = np.random.choice(\n",
    "#            a=range(history.get_nr_particles_per_population().values[-1]),\n",
    "#            size=N_samples, replace=True, p=w)\n",
    "#samples = df.iloc[sample_idx] \n",
    "\n",
    "# Now run N models and store the results of each one\n",
    "fitness_l = []  # Fitness values for each sample (model)\n",
    "sim_l = []  # The full simulation results\n",
    "obs_l = []  # Observations (should be the same for each sample)\n",
    "out_params_l = []  # The parameters objects used in each sample (all parameters in the model)\n",
    "out_calibrated_params_l = []  # The values of the specific calibrated parameters for the sample\n",
    "summaries_l = []  # The summaries objects\n",
    "\n",
    "negative_count = 0  # Count the number of negatives returned in the KDE posterior\n",
    "for i, sample in samples.iterrows():\n",
    "    # Check for negatives. If needed, resample\n",
    "    while (sample < 0).values.any():\n",
    "        # while (any(value < 0 for value in sample.values())):\n",
    "        print(\"Found negatives. Resampling\")\n",
    "        negative_count += 1\n",
    "        sample = kde.rvs()\n",
    "        # Added in this line as the sample was in the wrong format for the while loop\n",
    "        sample = pd.Series(sample)\n",
    "\n",
    "    # Create a dictionary with the parameters and their values for this sample\n",
    "    param_values = {param: sample[str(param)] for param in priors}\n",
    "\n",
    "    # Run the model\n",
    "    # _fitness = fitness (comparison between sim and obs)\n",
    "    # _sim =  model_weekly_cumulative_infections\n",
    "    # _obs = obs_weekly_cumulative_infections\n",
    "    # _out_params = \n",
    "    # _summaries = \n",
    "    (_fitness, _sim, _obs, _out_params, _summaries) = \\\n",
    "        OpenCLRunner.run_model_with_params_abc(param_values, return_full_details=True)\n",
    "    print(f\"Fitness: {_fitness}.\")\n",
    "    # print(f\"Fitness: {_fitness}. Sample: {sample}\")\n",
    "\n",
    "    fitness_l.append(_fitness)\n",
    "    sim_l.append(_sim)\n",
    "    obs_l.append(_obs)\n",
    "    out_params_l.append(_out_params)\n",
    "    out_calibrated_params_l.append(param_values)\n",
    "    summaries_l.append(_summaries)\n",
    "\n",
    "print(f\"Finished sampling. Ignored {negative_count} negative samples.\")\n",
    "    \n",
    "# Sanity check\n",
    "for i in range(len(obs_l)-1):\n",
    "    assert np.array_equal(obs_l[0], obs_l[i])\n",
    "\n",
    "    \n",
    "# Save these because it took ages to sample\n",
    "def pickle_samples(mode, *arrays):\n",
    "    if mode==\"save\":\n",
    "        with open(\"abc-2-samples.pkl\", \"wb\") as f:\n",
    "            for x in arrays:\n",
    "                pickle.dump(x, f)\n",
    "        return\n",
    "    elif mode==\"load\":\n",
    "        with open(\"abc-2-samples.pkl\", \"rb\") as f:\n",
    "            fitness_l = pickle.load(f)\n",
    "            sim_l = pickle.load(f)\n",
    "            obs_l = pickle.load(f)\n",
    "            out_params_l = pickle.load(f)\n",
    "            out_calibrated_params_l = pickle.load(f)\n",
    "            summaries_l = pickle.load(f)\n",
    "        return( fitness_l, sim_l, obs_l, out_params_l, out_calibrated_params_l, summaries_l)\n",
    "    else:\n",
    "        raise Exception(f\"Unkonwn mode: {mode}\")\n",
    "pickle_samples('save', fitness_l, sim_l, obs_l, out_params_l, out_calibrated_params_l, summaries_l)"
   ]
  },
  {
   "cell_type": "markdown",
   "metadata": {},
   "source": [
    "Plot the individual results for each sample"
   ]
  },
  {
   "cell_type": "code",
   "execution_count": 78,
   "metadata": {},
   "outputs": [
    {
     "data": {
      "image/png": "[encoded data removed]",
      "text/plain": [
       "<Figure size 864x576 with 1 Axes>"
      ]
     },
     "metadata": {
      "needs_background": "light"
     },
     "output_type": "display_data"
    },
    {
     "data": {
      "image/png": "[encoded data removed]",
      "text/plain": [
       "<Figure size 864x576 with 1 Axes>"
      ]
     },
     "metadata": {
      "needs_background": "light"
     },
     "output_type": "display_data"
    }
   ],
   "source": [
    "# Normalise fitness to 0-1 to calculate transparency\n",
    "_fitness = np.array(fitness_l)  # Easier to do maths on np.array\n",
    "fitness_norm = (_fitness - min(_fitness)) / (max(_fitness) - min(_fitness))\n",
    "\n",
    "############## PLOT WEEKLY DATA\n",
    "fig, ax = plt.subplots(1, 1, figsize=(12, 8))\n",
    "x = range(len(sim_l[0]))\n",
    "for i in range(len(summaries_l)):\n",
    "    ax.plot(x, sim_l[i],\n",
    "            # label=f\"Particle {df.index[sample_idx[i]]}\",\n",
    "            color=\"black\", alpha=1 - fitness_norm[i]  # (1-x because high fitness is bad)\n",
    "            )\n",
    "    # ax.text(x=len(sim_l[i]), y=sim_l[i][-1], s=f\"Fitness {round(fitness_l[i])}\", fontsize=8)\n",
    "    # ax.text(x=len(sim_l[i]), y=sim_l[i][-1], s=f\"P{df.index[sample_idx[i]]}, F{round(fitness_l[i])}\", fontsize=8)\n",
    "# Plot observations\n",
    "ax.plot(x, obs_l[0], label=\"Observations\", color=\"darkblue\")\n",
    "# Plot result from manually calibrated model\n",
    "ax.plot(x, sim0, label=\"Initial sim\", color=\"orange\")\n",
    "ax.legend(fontsize=15)\n",
    "# plot_summaries(summaries=summaries_l[0], plot_type=\"error_bars\", observations=OBSERVATIONS)\n",
    "ax.tick_params(axis='both', which='major', labelsize=15)\n",
    "plt.xlabel(\"Day\", size=15)\n",
    "plt.ylabel(\"Cases\",size=15)\n",
    "plt.show()\n",
    "\n",
    "############## PLOT DAILY DATA \n",
    "fig, ax = plt.subplots(1, 1, figsize=(12, 8))\n",
    "x = range(len(OpenCLRunner.get_cumulative_new_infections(summaries_l[1])))\n",
    "for i in range(len(summaries_l)):\n",
    "    ax.plot(x, OpenCLRunner.get_cumulative_new_infections(summaries_l[i]),\n",
    "            # label=f\"Particle {df.index[sample_idx[i]]}\",\n",
    "            color=\"black\", alpha=1 - fitness_norm[i]  # (1-x because high fitness is bad)\n",
    "            )\n",
    "    # ax.text(x=len(sim_l[i]), y=sim_l[i][-1], s=f\"Fitness {round(fitness_l[i])}\", fontsize=8)\n",
    "    # ax.text(x=len(sim_l[i]), y=sim_l[i][-1], s=f\"P{df.index[sample_idx[i]]}, F{round(fitness_l[i])}\", fontsize=8)\n",
    "# Plot observations\n",
    "ax.plot(x, cases_devon_daily['CumulativeCases'][0:105], label=\"Observations\", color=\"blue\")\n",
    "# # Plot result from manually calibrated model\n",
    "ax.plot(x, OpenCLRunner.get_cumulative_new_infections(summaries0), label=\"Initial sim\", color=\"orange\")\n",
    "ax.legend(fontsize=15)\n",
    "# plot_summaries(summaries=summaries_l[0], plot_type=\"error_bars\", observations=OBSERVATIONS)\n",
    "ax.tick_params(axis='both', which='major', labelsize=15)\n",
    "plt.xlabel(\"Day\", size=15)\n",
    "plt.ylabel(\"Cases\",size=15)\n",
    "plt.show()\n",
    "\n",
    "del _fitness, fitness_norm\n"
   ]
  },
  {
   "cell_type": "markdown",
   "metadata": {},
   "source": [
    "Plot the kde of the sample results (a bit like the posterior?). See the [pygam documentation](https://pygam.readthedocs.io/en/latest/notebooks/tour_of_pygam.html) for the GAM code to do this.\n",
    "\n",
    "_The prediction intervals clearly aren't working_"
   ]
  },
  {
   "cell_type": "code",
   "execution_count": 80,
   "metadata": {},
   "outputs": [
    {
     "name": "stderr",
     "output_type": "stream",
     "text": [
      "100% (11 of 11) |########################| Elapsed Time: 0:00:01 Time:  0:00:01\n",
      "100% (11 of 11) |########################| Elapsed Time: 0:00:04 Time:  0:00:04\n"
     ]
    },
    {
     "data": {
      "image/png": "[encoded data removed]",
      "text/plain": [
       "<Figure size 864x576 with 1 Axes>"
      ]
     },
     "metadata": {
      "needs_background": "light"
     },
     "output_type": "display_data"
    },
    {
     "data": {
      "image/png": "[encoded data removed]",
      "text/plain": [
       "<Figure size 864x576 with 1 Axes>"
      ]
     },
     "metadata": {
      "needs_background": "light"
     },
     "output_type": "display_data"
    }
   ],
   "source": [
    "# Weekly\n",
    "\n",
    "#best_paramswo long arrays with every result from every particle\n",
    "x = list(range(len(sim_l[0])))  # List of iteration numbers (i.e week numbers)\n",
    "X = []\n",
    "for _iter in x * len(summaries_l):  # One sequence of iterations (0-14) for each particle (here there are 10 particles)\n",
    "    X.append([_iter]) # (The x list is odd because every element in the list needs to be a 1-element list)\n",
    "X = np.array(X)\n",
    "y = []\n",
    "for i in range(len(summaries_l)):\n",
    "    y += list(sim_l[i])\n",
    "y = np.array(y)\n",
    "\n",
    "# Generate the GAM\n",
    "gam = LinearGAM( n_splines=250)\n",
    "#gam = LinearGAM( s(0, n_splines=250) )  # Linear GAM with a spline function on feature 0\n",
    "gam.gridsearch(X, y)\n",
    "#XX = gam.generate_X_grid(term=0, n=len(X))\n",
    "XX = gam.generate_X_grid(term=0)\n",
    "\n",
    "# Plot\n",
    "fig, ax = plt.subplots(1,1, figsize=(12,8))\n",
    "\n",
    "ax.plot(XX, gam.predict(XX), 'r--', label=\"Prediction\")\n",
    "ax.plot(XX, gam.prediction_intervals(XX, width=.95), color='b', ls='--', label=\"Prediction Intervals\")\n",
    "\n",
    "#pdep, confi = gam.partial_dependence(term=0, width=.95)\n",
    "#ax.plot(XX, pdep)\n",
    "#ax.plot(XX, confi, c='r', ls='--')\n",
    "\n",
    "ax.plot(x, obs_l[0], label=\"Observations\", color=\"blue\")\n",
    "ax.plot(x, sim0, label=\"Initial sim\", color=\"orange\")\n",
    "#plt.scatter(X, y, facecolor='gray', edgecolors='none')\n",
    "ax.legend()\n",
    "#plt.scatter(X, y, facecolor='gray', edgecolors='none')\n",
    "ax.set_title('95% prediction interval');\n",
    "\n",
    "\n",
    "# ## Daily??\n",
    "\n",
    "# #best_paramswo long arrays with every result from every particle\n",
    "# x = list(range(len(sim_l[0])*7))  # List of iteration numbers (i.e week numbers)\n",
    "# X = []\n",
    "# for _iter in x * len(summaries_l):  # One sequence of iterations (0-14) for each particle (here there are 10 particles)\n",
    "#     X.append([_iter]) # (The x list is odd because every element in the list needs to be a 1-element list)\n",
    "# X = np.array(X)\n",
    "# y = []\n",
    "# for i in range(len(summaries_l)):\n",
    "#     y +=  list(OpenCLRunner.get_cumulative_new_infections(summaries_l[i]))\n",
    "# y = np.array(y)\n",
    "\n",
    "# # Generate the GAM\n",
    "# gam = LinearGAM( n_splines=250)\n",
    "# #gam = LinearGAM( s(0, n_splines=250) )  # Linear GAM with a spline function on feature 0\n",
    "# gam.gridsearch(X, y)\n",
    "# #XX = gam.generate_X_grid(term=0, n=len(X))\n",
    "# XX = gam.generate_X_grid(term=0)\n",
    "\n",
    "\n",
    "# # Plot\n",
    "# fig, ax = plt.subplots(1,1, figsize=(12,8))\n",
    "\n",
    "# ax.plot(XX, gam.predict(XX), 'r--', label=\"Prediction\")\n",
    "# ax.plot(XX, gam.prediction_intervals(XX, width=.95), color='b', ls='--', label=\"Prediction Intervals\")\n",
    "\n",
    "# #pdep, confi = gam.partial_dependence(term=0, width=.95)\n",
    "# #ax.plot(XX, pdep)\n",
    "# #ax.plot(XX, confi, c='r', ls='--')\n",
    "\n",
    "# ax.plot(x, cases_devon_daily['CumulativeCases'][0:105], label=\"Observations\", color=\"blue\")\n",
    "# ax.plot(x, OpenCLRunner.get_cumulative_new_infections(summaries0), label=\"Initial sim\", color=\"orange\")\n",
    "# #plt.scatter(X, y, facecolor='gray', edgecolors='none')\n",
    "# ax.legend()\n",
    "# #plt.scatter(X, y, facecolor='gray', edgecolors='none')\n",
    "# ax.set_title('95% prediction interval');\n",
    "\n"
   ]
  },
  {
   "cell_type": "markdown",
   "metadata": {},
   "source": [
    "Do a KDE plot with a logarithmic colour scale."
   ]
  },
  {
   "cell_type": "code",
   "execution_count": 85,
   "metadata": {},
   "outputs": [
    {
     "data": {
      "image/png": "[encoded data removed]",
      "text/plain": [
       "<Figure size 720x504 with 2 Axes>"
      ]
     },
     "metadata": {
      "needs_background": "light"
     },
     "output_type": "display_data"
    }
   ],
   "source": [
    "# # Do a KDE plot with a logarithmic colour scale.\n",
    "# from matplotlib.colors import LogNorm\n",
    "# fig, ax = plt.subplots(1,1, figsize=(10,7))\n",
    "# h = ax.hist2d(x=[x[0] for x in X], y=y, bins=int(len(x)/5), norm=LogNorm())\n",
    "# ax.set_xlabel(\"Iteration\")\n",
    "# ax.set_ylabel(\"Cumulative cases\")\n",
    "\n",
    "# ax.plot(x, obs_l[0], label=\"Observations\", color=\"blue\")\n",
    "# ax.plot(x, sim0, label=\"Initial sim\", color=\"orange\")\n",
    "# #plt.scatter(X, y, facecolor='gray', edgecolors='none')\n",
    "# ax.legend()\n",
    "# fig.colorbar(h[3], ax=ax)\n",
    "# #plt.scatter(X, y, facecolor='gray', edgecolors='none')\n",
    "# ax.set_title('Density plot of results posterior');\n",
    "\n",
    "\n",
    "#Do a KDE plot with a logarithmic colour scale.\n",
    "from matplotlib.colors import LogNorm\n",
    "fig, ax = plt.subplots(1,1, figsize=(10,7))\n",
    "h = ax.hist2d(x=[x[0] for x in X], y=y, bins=int(len(x)/5), norm=LogNorm())\n",
    "ax.set_xlabel(\"Iteration\")\n",
    "ax.set_ylabel(\"Cumulative cases\")\n",
    "\n",
    "ax.plot(x, cases_devon_daily['CumulativeCases'][0:105], label=\"Observations\", color=\"blue\")\n",
    "ax.plot(x, OpenCLRunner.get_cumulative_new_infections(summaries0), label=\"Initial sim\", color=\"orange\")\n",
    "#plt.scatter(X, y, facecolor='gray', edgecolors='none')\n",
    "ax.legend()\n",
    "fig.colorbar(h[3], ax=ax)\n",
    "#plt.scatter(X, y, facecolor='gray', edgecolors='none')\n",
    "ax.set_title('Density plot of results posterior');"
   ]
  },
  {
   "cell_type": "markdown",
   "metadata": {},
   "source": [
    "#### ABC Posterior (B) - Find the Mode(s)\n",
    "\n",
    "_I can't work out how to find the modes (basically I think I need the largest value of the `kde`?) so instead just choose the parameter values from the best sample_"
   ]
  },
  {
   "cell_type": "markdown",
   "metadata": {},
   "source": [
    "Find the 'optimal' parameters"
   ]
  },
  {
   "cell_type": "code",
   "execution_count": 86,
   "metadata": {},
   "outputs": [
    {
     "data": {
      "text/plain": [
       "{'retail': 0.8911786782254544,\n",
       " 'primary_school': 0.39622402999428064,\n",
       " 'secondary_school': 0.4183087375464526,\n",
       " 'work': 0.03149353460063731,\n",
       " 'asymptomatic': 0.22174410669290492,\n",
       " 'current_risk_beta': 0.025239665550846085}"
      ]
     },
     "execution_count": 86,
     "metadata": {},
     "output_type": "execute_result"
    }
   ],
   "source": [
    "####### Find the best parameters\n",
    "best_model_idx = np.argmin(fitness_l)\n",
    "best_params = out_calibrated_params_l[best_model_idx]\n",
    "# Sanity check, the calibrated param should be the same as the one in the params object\n",
    "assert np.isclose(out_calibrated_params_l[best_model_idx]['asymptomatic'],\n",
    "                  out_params_l[best_model_idx].individual_hazard_multipliers[1])\n",
    "best_params\n"
   ]
  },
  {
   "cell_type": "markdown",
   "metadata": {},
   "source": [
    "See how those parameters relate to the marginal posteriors"
   ]
  },
  {
   "cell_type": "code",
   "execution_count": 87,
   "metadata": {},
   "outputs": [
    {
     "data": {
      "image/png": "[encoded data removed]",
      "text/plain": [
       "<Figure size 864x576 with 6 Axes>"
      ]
     },
     "metadata": {
      "needs_background": "light"
     },
     "output_type": "display_data"
    }
   ],
   "source": [
    "######## See how those parameters relate to the marginal posteriors\n",
    "# fig, axes = plt.subplots(3,int(len(priors)/2), figsize=(12,8))\n",
    "fig, axes = plt.subplots(3,2, figsize=(12,8))\n",
    "\n",
    "for i, param in enumerate(priors.keys()):\n",
    "    ax = axes.flat[i]\n",
    "    df, w = history.get_distribution(m=0, t=history.max_t)\n",
    "    pyabc.visualization.plot_kde_1d(df, w, x=param, ax=ax,\n",
    "            label=f\"{param} PDF t={t}\",\n",
    "            alpha=1.0 if t==0 else float(t)/history.max_t, # Make earlier populations transparent\n",
    "            color= \"black\" if t==history.max_t else None # Make the last one black\n",
    "        )\n",
    "    ax.legend()\n",
    "    ax.axvline(x=best_params[param], color=\"grey\", linestyle=\"dashed\")\n",
    "    ax.text(x=best_params[param], y=0.9*ax.get_ylim()[1], s=str(round(best_params[param],3)), fontsize=12)\n",
    "    ax.set_title(f\"{param}\")\n",
    "fig.suptitle(\"Optimal parameter values\")\n",
    "fig.tight_layout()"
   ]
  },
  {
   "cell_type": "markdown",
   "metadata": {},
   "source": [
    "Run the model with those parameters"
   ]
  },
  {
   "cell_type": "code",
   "execution_count": 88,
   "metadata": {},
   "outputs": [
    {
     "name": "stderr",
     "output_type": "stream",
     "text": [
      "Running models: 100%|████████████████████████████████████████████████████████████████████| 5/5 [01:49<00:00, 21.89s/it]"
     ]
    },
    {
     "name": "stdout",
     "output_type": "stream",
     "text": [
      "Fitness: 5718.275663147832\n"
     ]
    },
    {
     "name": "stderr",
     "output_type": "stream",
     "text": [
      "\n"
     ]
    },
    {
     "data": {
      "image/png": "[encoded data removed]",
      "text/plain": [
       "<Figure size 432x288 with 1 Axes>"
      ]
     },
     "metadata": {
      "needs_background": "light"
     },
     "output_type": "display_data"
    }
   ],
   "source": [
    "OpenCLRunner.update(store_detailed_counts=True)  # Temporarily output age breakdowns\n",
    "(fitness1, sim1, obs1, out_params1, summaries1) = OpenCLRunner.run_model_with_params_abc(\n",
    "    best_params, return_full_details=True)\n",
    "OpenCLRunner.update(store_detailed_counts=STORE_DETAILED_COUNTS)\n",
    "\n",
    "# Check the model returns the observations correctly (should be same as initial, default model)\n",
    "np.array_equal(obs0, obs1)\n",
    "\n",
    "fig, ax = plt.subplots(1,1)\n",
    "x = range(len(sim1))\n",
    "ax.plot(x, sim0, label=\"sim0\", color=\"orange\")\n",
    "ax.plot(x, sim1, label=\"sim1\", color=\"red\")\n",
    "# Add fitness text\n",
    "for a, b in [(summaries0,fitness0), (summaries1, fitness1)]:\n",
    "    ax.text(x=len(x), y=max(OpenCLRunner.get_cumulative_new_infections(a)), s=f\"Fit: {round(b)}\", fontsize=10)\n",
    "ax.plot(x, obs1, label=\"obs\", color=\"blue\")\n",
    "ax.legend()\n",
    "print(f\"Fitness: {fitness1}\")"
   ]
  },
  {
   "cell_type": "markdown",
   "metadata": {},
   "source": [
    "Run the model with arbitray parameters (to experiment)"
   ]
  },
  {
   "cell_type": "code",
   "execution_count": 89,
   "metadata": {},
   "outputs": [
    {
     "data": {
      "text/plain": [
       "{'retail': 0.8911786782254544,\n",
       " 'primary_school': 0.39622402999428064,\n",
       " 'secondary_school': 0.4183087375464526,\n",
       " 'work': 0.03149353460063731,\n",
       " 'asymptomatic': 0.22174410669290492,\n",
       " 'current_risk_beta': 0.025239665550846085}"
      ]
     },
     "execution_count": 89,
     "metadata": {},
     "output_type": "execute_result"
    }
   ],
   "source": [
    "best_params"
   ]
  },
  {
   "cell_type": "code",
   "execution_count": 91,
   "metadata": {},
   "outputs": [
    {
     "name": "stderr",
     "output_type": "stream",
     "text": [
      "Running models: 100%|████████████████████████████████████████████████████████████████████| 5/5 [00:39<00:00,  7.83s/it]\n"
     ]
    },
    {
     "name": "stdout",
     "output_type": "stream",
     "text": [
      "Fitness: 5718.275663147832\n"
     ]
    },
    {
     "data": {
      "image/png": "[encoded data removed]",
      "text/plain": [
       "<Figure size 432x288 with 1 Axes>"
      ]
     },
     "metadata": {
      "needs_background": "light"
     },
     "output_type": "display_data"
    }
   ],
   "source": [
    "#OpenCLRunner.update(store_detailed_counts=True)  # Temporarily output age breakdowns\n",
    "(fitness2, sim2, obs2, out_params2, summaries2) = OpenCLRunner.run_model_with_params_abc(\n",
    "    {'retail': 0.9,\n",
    "     'primary_school': 0.9,\n",
    "     'secondary_school': 0.9,\n",
    "     'work': 0.00001,\n",
    "     'asymptomatic': 0.124},\n",
    "    return_full_details=True)\n",
    "#OpenCLRunner.update(store_detailed_counts=STORE_DETAILED_COUNTS)\n",
    "\n",
    "fig, ax = plt.subplots(1,1)\n",
    "x = range(len(sim1))\n",
    "ax.plot(x, sim0, label=\"sim0 (initial)\", color=\"orange\")\n",
    "ax.plot(x, sim1, label=\"sim1 (optimised)\", color=\"red\")\n",
    "ax.plot(x, sim2, label=\"sim2 (new)\", color=\"black\")\n",
    "# Add fitness text\n",
    "for a, b in [(summaries0,fitness0), (summaries1, fitness1), (summaries2, fitness2) ]:\n",
    "    ax.text(x=len(x), y=max(OpenCLRunner.get_cumulative_new_infections(a)), s=f\"Fit: {round(b)}\", fontsize=10)\n",
    "ax.plot(x, obs1, label=\"obs\", color=\"blue\")\n",
    "ax.legend()\n",
    "print(f\"Fitness: {fitness1}\")\n"
   ]
  },
  {
   "cell_type": "markdown",
   "metadata": {},
   "source": [
    "## Spatial analysis of the posterior\n",
    "\n",
    "We've seen how the aggregate, cumulative disease count varies, but how do the results vary over space?\n",
    "\n"
   ]
  },
  {
   "cell_type": "markdown",
   "metadata": {},
   "source": [
    "Look at the distribtion of explosed people in the optimal model"
   ]
  },
  {
   "cell_type": "code",
   "execution_count": 96,
   "metadata": {},
   "outputs": [
    {
     "data": {
      "image/png": "[encoded data removed]",
      "text/plain": [
       "<Figure size 864x576 with 11 Axes>"
      ]
     },
     "metadata": {
      "needs_background": "light"
     },
     "output_type": "display_data"
    }
   ],
   "source": [
    "# Function to plot disease status by MSOA for a given timestep and status\n",
    "def plot_msoa_choropleth(msoa_shapes, summary, disease_status, timestep, ax=None):\n",
    "    \"\"\"\n",
    "    \"\"\"\n",
    "    # Summary can be a single summary, or a list of a few summaries (will need an average)\n",
    "    # get dataframes for all statuses\n",
    "    msoa_data = summary.get_area_dataframes()\n",
    "    \n",
    "    msoa_data_for_status = msoa_data[disease_status]\n",
    "\n",
    "    # add \"Code\" column so dataframes can be merged\n",
    "    msoa_data_for_status[\"Code\"] = msoa_data_for_status.index\n",
    "    msoa_shapes = pd.merge(msoa_shapes, msoa_data_for_status, on=\"Code\")\n",
    "\n",
    "    msoa_shapes.plot(column=f\"Day{timestep}\", legend=True, ax=ax)\n",
    "\n",
    "## Load required data\n",
    "from microsim.load_msoa_locations import load_osm_shapefile, load_msoa_shapes\n",
    "gis_data_dir = (\"../../devon_data\")\n",
    "osm_buildings = load_osm_shapefile(gis_data_dir)\n",
    "devon_msoa_shapes = load_msoa_shapes(gis_data_dir, visualize=False)    \n",
    "    \n",
    "\n",
    "N=len(summaries1)\n",
    "disease_status = \"exposed\"\n",
    "\n",
    "fig, axes = plt.subplots(nrows=2, ncols=int(N/2) if (N % 2) == 0 else int(N/2)+1,\n",
    "                    figsize=(12,8))\n",
    "\n",
    "for i in range(N):\n",
    "    #idx = indices[i]\n",
    "    ax = axes.flat[i]\n",
    "    plot_msoa_choropleth(devon_msoa_shapes, summaries1[i], disease_status, 99, ax=ax)\n",
    "    ax.set_title(f\"Run {i}\")"
   ]
  },
  {
   "cell_type": "markdown",
   "metadata": {},
   "source": [
    "XXXX HERE there is too much spatial variation? Might need to reduce impact of workplace interactions. Or maybe this is interesting. "
   ]
  },
  {
   "cell_type": "code",
   "execution_count": null,
   "metadata": {},
   "outputs": [],
   "source": []
  },
  {
   "cell_type": "code",
   "execution_count": null,
   "metadata": {},
   "outputs": [],
   "source": []
  },
  {
   "cell_type": "code",
   "execution_count": null,
   "metadata": {},
   "outputs": [],
   "source": []
  }
 ],
 "metadata": {
  "kernelspec": {
   "display_name": "Python 3 (ipykernel)",
   "language": "python",
   "name": "python3"
  },
  "language_info": {
   "codemirror_mode": {
    "name": "ipython",
    "version": 3
   },
   "file_extension": ".py",
   "mimetype": "text/x-python",
   "name": "python",
   "nbconvert_exporter": "python",
   "pygments_lexer": "ipython3",
   "version": "3.7.12"
  }
 },
 "nbformat": 4,
 "nbformat_minor": 4
}
