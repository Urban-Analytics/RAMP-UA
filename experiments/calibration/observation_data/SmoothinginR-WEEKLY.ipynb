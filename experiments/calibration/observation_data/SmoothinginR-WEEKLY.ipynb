{
 "cells": [
  {
   "cell_type": "markdown",
   "id": "b147be00",
   "metadata": {},
   "source": [
    "#  Smoothing covid test data for Devon\n",
    "\n",
    "In a seperate notebook https://github.com/Urban-Analytics/RAMP-UA/blob/Mollys_DA/experiments/calibration/observation_data/CreatingObservations.ipynb using Python:  \n",
    "* Covid test data for Devon is downloaded and processed into the correct format\n",
    "* Data is then shifted in time and multipliers applied to attempt to correct positive case results into a truer estimate of Covid infections\n",
    "\n",
    "There is considerable noise (/outliers) in the recorded case data. To remove this, and to make patterns in the data more clear, the data can be smoothed using an algorithm. In this case, smoothing is achieved by fitting a generalised additive model (GAM) to the data. This is most easily implemented in R. \n",
    "\n",
    "Therefore, the corrected daily case data from the Python notebook is saved to a csv file and smoothing is then carried out in this R notebook. The smoothed data is saved to a csv file to then be re-uploaded into the Python notebook."
   ]
  },
  {
   "cell_type": "code",
   "execution_count": 1,
   "id": "d124d23f",
   "metadata": {},
   "outputs": [
    {
     "name": "stderr",
     "output_type": "stream",
     "text": [
      "Loading required package: nlme\n",
      "\n",
      "This is mgcv 1.8-31. For overview type 'help(\"mgcv-package\")'.\n",
      "\n",
      "Warning message:\n",
      "\"package 'tibble' was built under R version 4.0.5\"\n"
     ]
    }
   ],
   "source": [
    "# Download required library\n",
    "library(mgcv)\n",
    "library(tibble)"
   ]
  },
  {
   "cell_type": "code",
   "execution_count": 3,
   "id": "4e9d0e85",
   "metadata": {},
   "outputs": [],
   "source": [
    "# Create an empty matrix to store the results for each MSOA in Devon\n",
    "devon_gam_cases <- data.frame(matrix(NA, nrow = 405, ncol = 0))"
   ]
  },
  {
   "cell_type": "markdown",
   "id": "ec477242",
   "metadata": {},
   "source": [
    "### Smoothing each MSOA seperately"
   ]
  },
  {
   "cell_type": "markdown",
   "id": "f1417918",
   "metadata": {},
   "source": [
    "#### Read in daily cases data for  each individual MSOA, created in the Python notebook"
   ]
  },
  {
   "cell_type": "code",
   "execution_count": 3,
   "id": "585d540f",
   "metadata": {},
   "outputs": [],
   "source": [
    "# devon_cases_msoa <- read.csv(\"weekly_cases_devon_corrected\")\n",
    "\n",
    "# # Convert format of date column (think this is needed for gam function to work)\n",
    "# devon_cases_msoa$numericdate <-as.numeric(as.Date(devon_cases_msoa$Date, format =  \"%Y-%m-%d\"))"
   ]
  },
  {
   "cell_type": "markdown",
   "id": "2a45364b",
   "metadata": {},
   "source": [
    "#### Smooth data"
   ]
  },
  {
   "cell_type": "code",
   "execution_count": 4,
   "id": "68cfcbf7",
   "metadata": {
    "scrolled": false
   },
   "outputs": [],
   "source": [
    "# # Create a dataframe with the dates, to add data too\n",
    "# devon_gam_cases_msoa <- data.frame('Date'=devon_cases_msoa$Date)\n",
    "\n",
    "# # MSOA codes - removing date and numeric date\n",
    "# msoa_codes = colnames(devon_cases_msoa)[-1]\n",
    "# msoa_codes = msoa_codes[-length(msoa_codes)]\n",
    "\n",
    "# # For each MSOA, create a dataframe containing the cases on each day for that MSOA\n",
    "# for (msoa_code in msoa_codes){\n",
    "#     # select just one MSOA\n",
    "#     one_msoa <- devon_cases_msoa[c(\"numericdate\", msoa_code)]\n",
    "#     # rename column from MSOA name to cases\n",
    "#     colnames(one_msoa)[2] <- \"PosCases\"\n",
    "#     # Fit \n",
    "#     gam_Devon <- mgcv::gam(PosCases ~ s(numericdate, bs = \"cr\"), data = one_msoa, family = nb())\n",
    "#     # Plot\n",
    "#     #plot(one_msoa$PosCases,  ylab=\"Cases\", xlab = \"Date\")\n",
    "#     #points(round(fitted.values(gam_Devon)), col = \"red\")\n",
    "#     #abline(v = 38, lty = \"dashed\")\n",
    "#     #gam_cases <- round(fitted.values(gam_Devon))\n",
    "   \n",
    "#     ## Join to dataframe\n",
    "#     devon_gam_cases_msoa$msoa_code <- gam_cases\n",
    "#     # set the actual msoa_code as the column name\n",
    "#     colnames(devon_gam_cases_msoa)[ncol(devon_gam_cases_msoa)] <- msoa_code   }"
   ]
  },
  {
   "cell_type": "markdown",
   "id": "1cc97a3e",
   "metadata": {},
   "source": [
    "#### Save to csv"
   ]
  },
  {
   "cell_type": "code",
   "execution_count": 123,
   "id": "6458e96f",
   "metadata": {},
   "outputs": [],
   "source": [
    "# # Save to csv\n",
    "# write.csv(devon_gam_cases_msoa, \"gam_daily_cases_devon_msoas_corrected.csv\", row.names = FALSE)"
   ]
  },
  {
   "cell_type": "markdown",
   "id": "f4e16b79",
   "metadata": {},
   "source": [
    "### Smoothing data for whole of Devon\n",
    "#### Read in daily cases data for  whole of Devon combined, created in the Python notebook"
   ]
  },
  {
   "cell_type": "code",
   "execution_count": 39,
   "id": "eaed96ae",
   "metadata": {},
   "outputs": [],
   "source": [
    "# Read in case data for all MSOAs in Devon\n",
    "weekly_cases_devon_corrected <- read.csv(\"weekly_cases_devon_corrected.csv\")\n",
    "# devon_cases[5:20]\n",
    "\n",
    "# Convert format of date column (think this is needed for gam function to work)\n",
    "weekly_cases_devon_corrected$numericdate <-as.numeric(as.Date(daily_cases_devon_corrected$Date, format =  \"%Y-%m-%d\"))\n"
   ]
  },
  {
   "cell_type": "markdown",
   "id": "a5072193",
   "metadata": {},
   "source": [
    "#### Smooth data"
   ]
  },
  {
   "cell_type": "code",
   "execution_count": 67,
   "id": "6043f6ac",
   "metadata": {},
   "outputs": [
    {
     "data": {
      "image/png": "[encoded data removed]",
      "text/plain": [
       "plot without title"
      ]
     },
     "metadata": {
      "image/png": {
       "height": 420,
       "width": 420
      }
     },
     "output_type": "display_data"
    }
   ],
   "source": [
    "# Fit \n",
    "gam_weekly_cases_devon_corrected <- mgcv::gam(ShiftedInfections ~ s(numericdate, bs = \"cr\"), data = weekly_cases_devon_corrected, family = tw())\n",
    "\n",
    "# Plot\n",
    "plot(weekly_cases_devon_corrected$ShiftedInfections,  ylab=\"Cases\", xlab = \"Day\")\n",
    "points(round(fitted.values(gam_weekly_cases_devon_corrected)), col = \"red\")\n",
    "# abline creating error and don't even know what it's for\n",
    "# abline(v = 38, lty = \"dashfed\")"
   ]
  },
  {
   "cell_type": "code",
   "execution_count": 72,
   "id": "ba68d96f",
   "metadata": {},
   "outputs": [
    {
     "ename": "ERROR",
     "evalue": "Error in zip(): argument \"files\" is missing, with no default\n",
     "output_type": "error",
     "traceback": [
      "Error in zip(): argument \"files\" is missing, with no default\nTraceback:\n",
      "1. mgcv::gam(ShiftedInfections ~ s(numericdate, bs = \"cr\"), data = weekly_cases_devon_corrected, \n .     family = zip())",
      "2. zip()"
     ]
    }
   ],
   "source": [
    "# Fit \n",
    "gam_weekly_cases_devon_corrected <- mgcv::gam(ShiftedInfections ~ s(numericdate, bs = \"cr\"), data = weekly_cases_devon_corrected, family = zip())\n",
    "\n",
    "# Plot\n",
    "plot(weekly_cases_devon_corrected$ShiftedInfections,  ylab=\"Cases\", xlab = \"Day\")\n",
    "points(round(fitted.values(gam_weekly_cases_devon_corrected)), col = \"red\")\n",
    "# abline creating error and don't even know what it's for\n",
    "# abline(v = 38, lty = \"dashfed\")"
   ]
  },
  {
   "cell_type": "markdown",
   "id": "496b4d0b",
   "metadata": {},
   "source": [
    "#### Add smoothed data to dataframe, and save as csv"
   ]
  },
  {
   "cell_type": "code",
   "execution_count": 38,
   "id": "29909ea1",
   "metadata": {},
   "outputs": [],
   "source": [
    "gam_cases <- round(fitted.values(gam_weekly_cases_devon_corrected))\n",
    "# ## Join back to Devon daily data\n",
    "weekly_cases_devon_corrected$SmoothedShiftedInfections <- gam_cases\n",
    "# Remove numeric date columns\n",
    "weekly_cases_devon_corrected = subset(weekly_cases_devon_corrected, select = -c(numericdate) )\n",
    "# Save to csv\n",
    "write.csv(weekly_cases_devon_corrected, \"gam_weekly_cases_devon_corrected.csv\", row.names = FALSE)"
   ]
  },
  {
   "cell_type": "markdown",
   "id": "1b3791cc",
   "metadata": {},
   "source": [
    "#### Cumulative cases"
   ]
  },
  {
   "cell_type": "code",
   "execution_count": 14,
   "id": "181aa9ba",
   "metadata": {},
   "outputs": [],
   "source": [
    "# # Read in case data for all MSOAs in Devon\n",
    "# cumulative_devon_cases <- read.csv(\"daily_cumcases_devon_corrected.csv\")\n",
    "# head(cumulative_devon_cases)"
   ]
  },
  {
   "cell_type": "code",
   "execution_count": 54,
   "id": "ee777eab",
   "metadata": {},
   "outputs": [],
   "source": [
    "# # Convert format of date column\n",
    "# cumulative_devon_cases$numericdate <-as.numeric(as.Date(cumulative_devon_cases$Date, format =  \"%Y-%m-%d\"))\n",
    "\n",
    "# # Fit \n",
    "# gam_Devon <- mgcv::gam(ShiftedInfections ~ s(numericdate, bs = \"cr\"), data = cumulative_devon_cases, family = nb())\n",
    "# # Plot\n",
    "# plot(cumulative_devon_cases$ShiftedInfections,  ylab=\"Cases\", xlab = \"Day\")\n",
    "# points(round(fitted.values(gam_Devon)), col = \"red\")\n",
    "# abline(v = 38, lty = \"dashed\")\n",
    "# gam_cases <- round(fitted.values(gam_Devon))\n",
    "\n",
    "# # ## Join back to one_msoa\n",
    "# # one_msoa$gam_cases <- gam_cases\n",
    "# # #\n",
    "# # devon_gam_cases_msoa$col <-gam_cases\n",
    "\n",
    "# # # rename\n",
    "# # colnames(devon_gam_cases_msoa)[iter_i] <- col"
   ]
  }
 ],
 "metadata": {
  "kernelspec": {
   "display_name": "R",
   "language": "R",
   "name": "ir"
  },
  "language_info": {
   "codemirror_mode": "r",
   "file_extension": ".r",
   "mimetype": "text/x-r-source",
   "name": "R",
   "pygments_lexer": "r",
   "version": "4.0.2"
  }
 },
 "nbformat": 4,
 "nbformat_minor": 5
}
