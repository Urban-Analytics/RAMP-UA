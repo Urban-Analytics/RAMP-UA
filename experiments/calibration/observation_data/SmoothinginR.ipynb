{
 "cells": [
  {
   "cell_type": "code",
   "execution_count": 1,
   "id": "d124d23f",
   "metadata": {},
   "outputs": [
    {
     "name": "stdout",
     "output_type": "stream",
     "text": [
      "package 'mgcv' successfully unpacked and MD5 sums checked\n"
     ]
    },
    {
     "name": "stderr",
     "output_type": "stream",
     "text": [
      "Warning message:\n",
      "\"cannot remove prior installation of package 'mgcv'\"\n",
      "Warning message in file.copy(savedcopy, lib, recursive = TRUE):\n",
      "\"problem copying C:\\Users\\gy17m2a\\Documents\\R\\R-4.0.2\\library\\00LOCK\\mgcv\\libs\\x64\\mgcv.dll to C:\\Users\\gy17m2a\\Documents\\R\\R-4.0.2\\library\\mgcv\\libs\\x64\\mgcv.dll: Permission denied\"\n",
      "Warning message:\n",
      "\"restored 'mgcv'\"\n"
     ]
    },
    {
     "name": "stdout",
     "output_type": "stream",
     "text": [
      "\n",
      "The downloaded binary packages are in\n",
      "\tC:\\Users\\gy17m2a\\AppData\\Local\\Temp\\RtmpA5mlkd\\downloaded_packages\n"
     ]
    },
    {
     "name": "stderr",
     "output_type": "stream",
     "text": [
      "Loading required package: nlme\n",
      "\n",
      "This is mgcv 1.8-31. For overview type 'help(\"mgcv-package\")'.\n",
      "\n"
     ]
    }
   ],
   "source": [
    "install.packages(\"mgcv\")\n",
    "library(mgcv)"
   ]
  },
  {
   "cell_type": "code",
   "execution_count": 2,
   "id": "02073da6",
   "metadata": {},
   "outputs": [],
   "source": [
    "# Set working directory and import R file for downloading UK covid data\n",
    "setwd(\"C://Users/gy17m2a/OneDrive - University of Leeds/Project/RAMP-UA/experiments/calibration/observation_data\")\n",
    "#source(\"getUKCovidTimeSeries.R\")"
   ]
  },
  {
   "cell_type": "code",
   "execution_count": 7,
   "id": "4e9d0e85",
   "metadata": {},
   "outputs": [
    {
     "name": "stderr",
     "output_type": "stream",
     "text": [
      "Warning message in rbind(parts$upper, ellip_v, parts$lower, deparse.level = 0L):\n",
      "\"number of columns of result is not a multiple of vector length (arg 2)\"\n"
     ]
    },
    {
     "data": {
      "text/html": [],
      "text/latex": [],
      "text/markdown": [],
      "text/plain": [
       "   \n",
       "1  \n",
       "2  \n",
       "3  \n",
       "4  \n",
       "5  \n",
       "6  \n",
       "7  \n",
       "8  \n",
       "9  \n",
       "10 \n",
       "11 \n",
       "12 \n",
       "13 \n",
       "14 \n",
       "15 \n",
       "16 \n",
       "17 \n",
       "18 \n",
       "19 \n",
       "20 \n",
       "21 \n",
       "22 \n",
       "23 \n",
       "24 \n",
       "25 \n",
       "26 \n",
       "27 \n",
       "28 \n",
       "29 \n",
       "30 \n",
       "...\n",
       "376\n",
       "377\n",
       "378\n",
       "379\n",
       "380\n",
       "381\n",
       "382\n",
       "383\n",
       "384\n",
       "385\n",
       "386\n",
       "387\n",
       "388\n",
       "389\n",
       "390\n",
       "391\n",
       "392\n",
       "393\n",
       "394\n",
       "395\n",
       "396\n",
       "397\n",
       "398\n",
       "399\n",
       "400\n",
       "401\n",
       "402\n",
       "403\n",
       "404\n",
       "405"
      ]
     },
     "metadata": {},
     "output_type": "display_data"
    }
   ],
   "source": [
    "# Create an empty matrix to store the results for each MSOA in Devon\n",
    "devon_gam_cases <- data.frame(matrix(NA, nrow = 405, ncol = 0))"
   ]
  },
  {
   "cell_type": "code",
   "execution_count": 7,
   "id": "b73ecda4",
   "metadata": {},
   "outputs": [],
   "source": [
    "# devon_cases_msoa <- read.csv(\"observations_df_t.csv\")\n",
    "# devon_cases_msoa"
   ]
  },
  {
   "cell_type": "markdown",
   "id": "f80536a5",
   "metadata": {},
   "source": [
    "### Smoothing each MSOA seperately"
   ]
  },
  {
   "cell_type": "code",
   "execution_count": 22,
   "id": "585d540f",
   "metadata": {},
   "outputs": [],
   "source": [
    "# devon_cases_msoa <- read.csv(\"observations_df_t.csv\")\n",
    "\n",
    "# # Create an empty matrix to store the results for each MSOA in Devon\n",
    "# devon_gam_cases_msoa <- data.frame(matrix(NA, nrow = 405, ncol = 0))\n",
    "\n",
    "\n",
    "# # Create iterator \n",
    "# iter_i = 1\n",
    "\n",
    "# # For each MSOA, create a dataframe containing the cases on each day for that MSOA\n",
    "# for (msoa_code in colnames(devon_cases_msoa)[1:length(colnames(devon_cases_msoa))-1]){\n",
    "#   print(msoa_code)\n",
    "#   # select just one MSOA\n",
    "#   one_msoa <- devon_cases_msoa[c(\"Day\",msoa_code)]\n",
    "#   # rename column from MSOA name to cases\n",
    "#   colnames(one_msoa)[2] <- \"PosCases\"\n",
    "#   # Fit \n",
    "#   gam_Devon <- mgcv::gam(PosCases ~ s(Day, bs = \"cr\"), data = one_msoa, family = nb())\n",
    "#   # Plot\n",
    "#   plot(one_msoa$PosCases,  ylab=\"Cases\", xlab = \"Day\")\n",
    "#   points(round(fitted.values(gam_Devon)), col = \"red\")\n",
    "#   abline(v = 38, lty = \"dashed\")\n",
    "#   gam_cases <- round(fitted.values(gam_Devon))\n",
    "  \n",
    "#   ## Join back to one_msoa\n",
    "#   one_msoa$gam_cases <- gam_cases\n",
    "#   #\n",
    "#   devon_gam_cases_msoa$col <-gam_cases\n",
    "  \n",
    "#   # rename\n",
    "#   colnames(devon_gam_cases_msoa)[iter_i] <- col\n",
    "  \n",
    "#   # Increase the iterator\n",
    "#   iter_i = iter_i+1\n",
    "#   }\n"
   ]
  },
  {
   "cell_type": "markdown",
   "id": "80ff3e2d",
   "metadata": {},
   "source": [
    "### Smoothing data for whole of Devon"
   ]
  },
  {
   "cell_type": "markdown",
   "id": "abc6fb95",
   "metadata": {},
   "source": [
    "#### New cases\n",
    "Data on"
   ]
  },
  {
   "cell_type": "code",
   "execution_count": 57,
   "id": "d89b9298",
   "metadata": {},
   "outputs": [
    {
     "data": {
      "text/html": [
       "<table class=\"dataframe\">\n",
       "<caption>A data.frame: 16 × 5</caption>\n",
       "<thead>\n",
       "\t<tr><th></th><th scope=col>Date</th><th scope=col>OriginalCases</th><th scope=col>ShiftedCases</th><th scope=col>ShiftedInfections</th><th scope=col>numericdate</th></tr>\n",
       "\t<tr><th></th><th scope=col>&lt;chr&gt;</th><th scope=col>&lt;int&gt;</th><th scope=col>&lt;int&gt;</th><th scope=col>&lt;dbl&gt;</th><th scope=col>&lt;dbl&gt;</th></tr>\n",
       "</thead>\n",
       "<tbody>\n",
       "\t<tr><th scope=row>5</th><td>2020-04-05</td><td>  0</td><td>  0</td><td>   0</td><td>18357</td></tr>\n",
       "\t<tr><th scope=row>6</th><td>2020-04-06</td><td>  0</td><td>  0</td><td>   0</td><td>18358</td></tr>\n",
       "\t<tr><th scope=row>7</th><td>2020-04-07</td><td>  0</td><td> 11</td><td> 275</td><td>18359</td></tr>\n",
       "\t<tr><th scope=row>8</th><td>2020-04-08</td><td> 11</td><td> 14</td><td> 350</td><td>18360</td></tr>\n",
       "\t<tr><th scope=row>9</th><td>2020-04-09</td><td> 14</td><td> 16</td><td> 400</td><td>18361</td></tr>\n",
       "\t<tr><th scope=row>10</th><td>2020-04-10</td><td> 16</td><td> 19</td><td> 475</td><td>18362</td></tr>\n",
       "\t<tr><th scope=row>11</th><td>2020-04-11</td><td> 19</td><td> 34</td><td> 850</td><td>18363</td></tr>\n",
       "\t<tr><th scope=row>12</th><td>2020-04-12</td><td> 34</td><td> 49</td><td>1225</td><td>18364</td></tr>\n",
       "\t<tr><th scope=row>13</th><td>2020-04-13</td><td> 49</td><td> 65</td><td>1625</td><td>18365</td></tr>\n",
       "\t<tr><th scope=row>14</th><td>2020-04-14</td><td> 65</td><td> 44</td><td>1100</td><td>18366</td></tr>\n",
       "\t<tr><th scope=row>15</th><td>2020-04-15</td><td> 44</td><td> 52</td><td>1300</td><td>18367</td></tr>\n",
       "\t<tr><th scope=row>16</th><td>2020-04-16</td><td> 52</td><td> 59</td><td>1475</td><td>18368</td></tr>\n",
       "\t<tr><th scope=row>17</th><td>2020-04-17</td><td> 59</td><td> 69</td><td>1725</td><td>18369</td></tr>\n",
       "\t<tr><th scope=row>18</th><td>2020-04-18</td><td> 69</td><td> 87</td><td>2175</td><td>18370</td></tr>\n",
       "\t<tr><th scope=row>19</th><td>2020-04-19</td><td> 87</td><td>103</td><td>2575</td><td>18371</td></tr>\n",
       "\t<tr><th scope=row>20</th><td>2020-04-20</td><td>103</td><td>121</td><td>3025</td><td>18372</td></tr>\n",
       "</tbody>\n",
       "</table>\n"
      ],
      "text/latex": [
       "A data.frame: 16 × 5\n",
       "\\begin{tabular}{r|lllll}\n",
       "  & Date & OriginalCases & ShiftedCases & ShiftedInfections & numericdate\\\\\n",
       "  & <chr> & <int> & <int> & <dbl> & <dbl>\\\\\n",
       "\\hline\n",
       "\t5 & 2020-04-05 &   0 &   0 &    0 & 18357\\\\\n",
       "\t6 & 2020-04-06 &   0 &   0 &    0 & 18358\\\\\n",
       "\t7 & 2020-04-07 &   0 &  11 &  275 & 18359\\\\\n",
       "\t8 & 2020-04-08 &  11 &  14 &  350 & 18360\\\\\n",
       "\t9 & 2020-04-09 &  14 &  16 &  400 & 18361\\\\\n",
       "\t10 & 2020-04-10 &  16 &  19 &  475 & 18362\\\\\n",
       "\t11 & 2020-04-11 &  19 &  34 &  850 & 18363\\\\\n",
       "\t12 & 2020-04-12 &  34 &  49 & 1225 & 18364\\\\\n",
       "\t13 & 2020-04-13 &  49 &  65 & 1625 & 18365\\\\\n",
       "\t14 & 2020-04-14 &  65 &  44 & 1100 & 18366\\\\\n",
       "\t15 & 2020-04-15 &  44 &  52 & 1300 & 18367\\\\\n",
       "\t16 & 2020-04-16 &  52 &  59 & 1475 & 18368\\\\\n",
       "\t17 & 2020-04-17 &  59 &  69 & 1725 & 18369\\\\\n",
       "\t18 & 2020-04-18 &  69 &  87 & 2175 & 18370\\\\\n",
       "\t19 & 2020-04-19 &  87 & 103 & 2575 & 18371\\\\\n",
       "\t20 & 2020-04-20 & 103 & 121 & 3025 & 18372\\\\\n",
       "\\end{tabular}\n"
      ],
      "text/markdown": [
       "\n",
       "A data.frame: 16 × 5\n",
       "\n",
       "| <!--/--> | Date &lt;chr&gt; | OriginalCases &lt;int&gt; | ShiftedCases &lt;int&gt; | ShiftedInfections &lt;dbl&gt; | numericdate &lt;dbl&gt; |\n",
       "|---|---|---|---|---|---|\n",
       "| 5 | 2020-04-05 |   0 |   0 |    0 | 18357 |\n",
       "| 6 | 2020-04-06 |   0 |   0 |    0 | 18358 |\n",
       "| 7 | 2020-04-07 |   0 |  11 |  275 | 18359 |\n",
       "| 8 | 2020-04-08 |  11 |  14 |  350 | 18360 |\n",
       "| 9 | 2020-04-09 |  14 |  16 |  400 | 18361 |\n",
       "| 10 | 2020-04-10 |  16 |  19 |  475 | 18362 |\n",
       "| 11 | 2020-04-11 |  19 |  34 |  850 | 18363 |\n",
       "| 12 | 2020-04-12 |  34 |  49 | 1225 | 18364 |\n",
       "| 13 | 2020-04-13 |  49 |  65 | 1625 | 18365 |\n",
       "| 14 | 2020-04-14 |  65 |  44 | 1100 | 18366 |\n",
       "| 15 | 2020-04-15 |  44 |  52 | 1300 | 18367 |\n",
       "| 16 | 2020-04-16 |  52 |  59 | 1475 | 18368 |\n",
       "| 17 | 2020-04-17 |  59 |  69 | 1725 | 18369 |\n",
       "| 18 | 2020-04-18 |  69 |  87 | 2175 | 18370 |\n",
       "| 19 | 2020-04-19 |  87 | 103 | 2575 | 18371 |\n",
       "| 20 | 2020-04-20 | 103 | 121 | 3025 | 18372 |\n",
       "\n"
      ],
      "text/plain": [
       "   Date       OriginalCases ShiftedCases ShiftedInfections numericdate\n",
       "5  2020-04-05   0             0             0              18357      \n",
       "6  2020-04-06   0             0             0              18358      \n",
       "7  2020-04-07   0            11           275              18359      \n",
       "8  2020-04-08  11            14           350              18360      \n",
       "9  2020-04-09  14            16           400              18361      \n",
       "10 2020-04-10  16            19           475              18362      \n",
       "11 2020-04-11  19            34           850              18363      \n",
       "12 2020-04-12  34            49          1225              18364      \n",
       "13 2020-04-13  49            65          1625              18365      \n",
       "14 2020-04-14  65            44          1100              18366      \n",
       "15 2020-04-15  44            52          1300              18367      \n",
       "16 2020-04-16  52            59          1475              18368      \n",
       "17 2020-04-17  59            69          1725              18369      \n",
       "18 2020-04-18  69            87          2175              18370      \n",
       "19 2020-04-19  87           103          2575              18371      \n",
       "20 2020-04-20 103           121          3025              18372      "
      ]
     },
     "metadata": {},
     "output_type": "display_data"
    }
   ],
   "source": [
    "# Read in case data for all MSOAs in Devon\n",
    "daily_cases_devon_corrected <- read.csv(\"daily_cases_devon_corrected.csv\")\n",
    "# devon_cases[5:20]\n",
    "\n",
    "# Convert format of date column\n",
    "daily_cases_devon_corrected$numericdate <-as.numeric(as.Date(daily_cases_devon_corrected$Date, format =  \"%Y-%m-%d\"))\n",
    "\n",
    "daily_cases_devon_corrected[5:20,]"
   ]
  },
  {
   "cell_type": "code",
   "execution_count": 61,
   "id": "6043f6ac",
   "metadata": {},
   "outputs": [
    {
     "data": {
      "image/png": "[encoded data removed]",
      "text/plain": [
       "plot without title"
      ]
     },
     "metadata": {
      "image/png": {
       "height": 420,
       "width": 420
      }
     },
     "output_type": "display_data"
    }
   ],
   "source": [
    "# Fit \n",
    "gam_daily_cases_devon_corrected <- mgcv::gam(ShiftedInfections ~ s(numericdate, bs = \"cr\"), data = daily_cases_devon_corrected, family = nb())\n",
    "\n",
    "# Plot\n",
    "plot(daily_cases_devon_corrected$ShiftedInfections,  ylab=\"Cases\", xlab = \"Day\")\n",
    "points(round(fitted.values(gam_daily_cases_devon_corrected)), col = \"red\")\n",
    "abline(v = 38, lty = \"dashed\")"
   ]
  },
  {
   "cell_type": "markdown",
   "id": "1c7850b1",
   "metadata": {},
   "source": [
    "#### Add smoothed data to dataframe"
   ]
  },
  {
   "cell_type": "code",
   "execution_count": 63,
   "id": "eb622ddd",
   "metadata": {},
   "outputs": [
    {
     "data": {
      "text/plain": [
       "\n",
       "Family: Negative Binomial(0.492) \n",
       "Link function: log \n",
       "\n",
       "Formula:\n",
       "ShiftedInfections ~ s(numericdate, bs = \"cr\")\n",
       "\n",
       "Estimated degrees of freedom:\n",
       "8.76  total = 9.76 \n",
       "\n",
       "REML score: 3663.036     "
      ]
     },
     "metadata": {},
     "output_type": "display_data"
    }
   ],
   "source": [
    "gam_cases <- round(fitted.values(gam_daily_cases_devon_corrected))\n",
    "# ## Join back to Devon daily data\n",
    "gam_daily_cases_devon_corrected$SmoothedShiftedInfections <- gam_cases\n",
    "gam_daily_cases_devon_corrected\n",
    "\n",
    "# Save to csv\n",
    "write.csv(daily_cases_devon_corrected, \"gam_daily_cases_devon_corrected.csv\", row.names = FALSE)"
   ]
  },
  {
   "cell_type": "markdown",
   "id": "69fb7312",
   "metadata": {},
   "source": [
    "#### Cumulative cases"
   ]
  },
  {
   "cell_type": "code",
   "execution_count": 55,
   "id": "03b2ccaf",
   "metadata": {},
   "outputs": [],
   "source": [
    "# # Read in case data for all MSOAs in Devon\n",
    "# cumulative_devon_cases <- read.csv(\"daily_cumcases_devon_corrected.csv\")\n",
    "# head(cumulative_devon_cases)"
   ]
  },
  {
   "cell_type": "code",
   "execution_count": 54,
   "id": "95257d9d",
   "metadata": {},
   "outputs": [],
   "source": [
    "# # Convert format of date column\n",
    "# cumulative_devon_cases$numericdate <-as.numeric(as.Date(cumulative_devon_cases$Date, format =  \"%Y-%m-%d\"))\n",
    "\n",
    "# # Fit \n",
    "# gam_Devon <- mgcv::gam(ShiftedInfections ~ s(numericdate, bs = \"cr\"), data = cumulative_devon_cases, family = nb())\n",
    "# # Plot\n",
    "# plot(cumulative_devon_cases$ShiftedInfections,  ylab=\"Cases\", xlab = \"Day\")\n",
    "# points(round(fitted.values(gam_Devon)), col = \"red\")\n",
    "# abline(v = 38, lty = \"dashed\")\n",
    "# gam_cases <- round(fitted.values(gam_Devon))\n",
    "\n",
    "# # ## Join back to one_msoa\n",
    "# # one_msoa$gam_cases <- gam_cases\n",
    "# # #\n",
    "# # devon_gam_cases_msoa$col <-gam_cases\n",
    "\n",
    "# # # rename\n",
    "# # colnames(devon_gam_cases_msoa)[iter_i] <- col"
   ]
  }
 ],
 "metadata": {
  "kernelspec": {
   "display_name": "R",
   "language": "R",
   "name": "ir"
  },
  "language_info": {
   "codemirror_mode": "r",
   "file_extension": ".r",
   "mimetype": "text/x-r-source",
   "name": "R",
   "pygments_lexer": "r",
   "version": "4.0.2"
  }
 },
 "nbformat": 4,
 "nbformat_minor": 5
}
