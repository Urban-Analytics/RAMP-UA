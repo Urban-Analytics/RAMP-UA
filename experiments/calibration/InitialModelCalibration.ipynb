{
 "cells": [
  {
   "cell_type": "markdown",
   "id": "9b0cd769",
   "metadata": {},
   "source": [
    "# Multi-parameter calibration of the OpenCL RAMP model using ABC\n",
    "\n",
    "### Parameter definitions\n",
    "The OpenCL RAMP model creates a synthetic population and simulates the movements of individuals between various locations (home, work, school, shops). If an individual is infected then they impart an infection risk on to the locations that they visit. The severity of this infection risk is determined by whether the individual is presymptomatic, asymptomatic or symptomatic (the **individual's hazard rating**). The locations in the model thus come to have an infection risk, based upon how many infected individuals from each infection status have visited. When susceptible individuals without the disease visit these locations their risk of being infected is determined by the location's infection risk, alongside the transmission hazard associated with that kind of location (the **location's hazard rating**). An additional hazard rating, the current risk beta, is used to control the general transmissability of the disease. \n",
    "\n",
    "### Parameter calibration\n",
    "The <ins>location</ins> and <ins>individual</ins> hazards, and the current risk beta rating must be calibrated to find the values which best reproduce real life observations. Here, the parameter values are calibrated once using historical data and Approximate Bayesian Computation (ABC). \n",
    "\n",
    "Prior distributions for each parameter are defined and then ABC approximates the likelihoods of different parameter values by running the model a large number of times. Each time parameter values are drawn randomly from the prior distributions, and the parameter values from the simulations with results closest to the observations are kept. A fitness function is used to assess the similarity of model results to observations. In this case, the Euclidean difference between the observed number of cases per week and the simulated number of cases per week is calculated. \n",
    "\n",
    "In this script, the predictive model is calibrated once. The model is ran using ABC for 133 days, with ten populations.  \n",
    "\n",
    "\n",
    "### Parameter priors\n",
    "ABC requires prior distributions to be specified for the parameters.\n",
    "\n",
    "<ins>Location hazards</ins> \n",
    " - `Home` (transmission hazard associated with being with an infected individual at home)\n",
    "     - <i>Fixed at 1.0, so all other multipliers are relative to this. This is almost certaintly the most risky activity (i.e. transmission at home is very likely) so no other priors allow values above 1.0. </i>\n",
    " - `Retail` (transmission hazard associated with being with an infected individual in a shop)\n",
    "     - <i> Uniform between 0 and 1 </i>\n",
    " - `PrimarySchool` (transmission hazard associated with being with an infected individual at primary school)\n",
    "     - <i> Uniform between 0 and 1 </i> \n",
    " - `SecondarySchool` (transmission hazard associated with being with an infected individual at secondary school)\n",
    "     - <i> Uniform between 0 and 1 </i> \n",
    " - `Work` (transmission hazard associated with being with an infected individual at work)\n",
    "     - <i> Uniform between 0 and 1 </i> \n",
    " \n",
    "<ins> Individual hazards</ins> \n",
    " - `asymptomatic` (transmission hazard associated with asymptomatic individuals)  \n",
    "      - <i> This is tricky because we don't know the hazard associated with asymptomatic transmission. James Salter used a prior of: N(0.444, 0.155) which gives the middle 95% as [0.138, 0.75] ([0.138 estimated here](https://www.medrxiv.org/content/10.1101/2020.06.04.20121434v2), [0.58 estimated here](https://jammi.utpjournals.press/doi/abs/10.3138/jammi-2020-0030), [0.75 estimated here (Table 1)](https://www.cdc.gov/coronavirus/2019-ncov/hcp/planning-scenarios.html). </i>\n",
    " - `presymptomatic` (transmission hazard associated with presymptomatic individuals)  \n",
    "    - <i> Same as asymptomatic (but abc-2.iypnb fixes them at 1 ? </i>\n",
    " - `symptomatic` (transmission hazard associated with symptomatic individuals)   \n",
    "    - <i> Same as asymptomatic (but abc-2.iypnb fixes them at 1 ?)</i>       \n",
    "\n",
    "\n",
    "<ins> Other hazards</ins> \n",
    "- `current_risk_beta`  \n",
    "\n",
    "<!-- To adapt an ABM to allow it to be optimised in response to data emerging in real time. This would mean performing dynamic calibration (i.e. re calibrating at every model time step) using ABC. -->\n",
    "\n",
    "<!-- At the moment, however, such predictive ABMs are generally calibrated once, using historical data to adjust their more flexible parameters such that the model predicts present and past conditions well. The models are then allowed to roll forward in time, independent of the world, to make a prediction. As the systems modelled are usually complex, it is likely that over longer time periods such models diverge from realistic estimates. Even over shorter time periods there is little done to check model performance, let alone constrain it. -->"
   ]
  },
  {
   "cell_type": "markdown",
   "id": "05f926ac",
   "metadata": {},
   "source": [
    "## Import modules"
   ]
  },
  {
   "cell_type": "code",
   "execution_count": 1,
   "id": "0a69fb41",
   "metadata": {},
   "outputs": [
    {
     "name": "stderr",
     "output_type": "stream",
     "text": [
      "C:\\ProgramData\\Anaconda3\\envs\\newenv\\lib\\site-packages\\redis\\connection.py:72: UserWarning: redis-py works best with hiredis. Please consider installing\n",
      "  warnings.warn(msg)\n"
     ]
    }
   ],
   "source": [
    "#### Import modules required\n",
    "import multiprocessing as mp\n",
    "import numpy as np\n",
    "import os\n",
    "import itertools\n",
    "import pandas as pd\n",
    "import pickle\n",
    "import matplotlib.pyplot as plt\n",
    "import sys\n",
    "import datetime\n",
    "from matplotlib import cm\n",
    "\n",
    "# os.chdir(\"C:/Users/gy17m2a/OneDrive - University of Leeds/Project/RAMP-UA/experiments/calibration\")\n",
    "\n",
    "# PYABC (https://pyabc.readthedocs.io/en/latest/)\n",
    "import pyabc\n",
    "from pyabc.transition.multivariatenormal import MultivariateNormalTransition  # For drawing from the posterior\n",
    "# Quieten down the pyopencl info messages (just print errors)\n",
    "import logging\n",
    "\n",
    "logging.getLogger(\"pyopencl\").setLevel(logging.ERROR)\n",
    "\n",
    "# Import arbitrary distribution class for using posterior estimates as new priors\n",
    "from arbitrary_distribution import ArbitraryDistribution, GreaterThanZeroParameterTransition\n",
    "\n",
    "# RAMP model\n",
    "from microsim.initialisation_cache import InitialisationCache\n",
    "\n",
    "# Bespoke RAMP classes for running the model\n",
    "from opencl_runner import OpenCLWrapper  # Some additional functions to simplify running the OpenCL model\n",
    "from opencl_runner import OpenCLRunner\n",
    "\n",
    "# Set this to False to recalculate all results (good on HPC or whatever).\n",
    "# If true then it loads pre-calculated results from pickle files (much quicker)\n",
    "LOAD_PICKLES = True"
   ]
  },
  {
   "cell_type": "markdown",
   "id": "0dbe3208",
   "metadata": {},
   "source": [
    "## Setup Model\n",
    "Read parameters"
   ]
  },
  {
   "cell_type": "code",
   "execution_count": 2,
   "id": "12c329ee",
   "metadata": {},
   "outputs": [
    {
     "name": "stderr",
     "output_type": "stream",
     "text": [
      "c:\\users\\gy17m2a\\onedrive - university of leeds\\project\\ramp-ua\\microsim\\opencl\\ramp\\params.py:58: UserWarning: Params object is being created using hard-coded default values, not those in the parameters file. This warning will not be displayed again.\n",
      "  warnings.warn(\"Params object is being created using hard-coded default values, \"\n"
     ]
    }
   ],
   "source": [
    "PARAMETERS_FILE = os.path.join(\"../../\",\"model_parameters\", \"default.yml\")\n",
    "PARAMS = OpenCLRunner.create_parameters(parameters_file=PARAMETERS_FILE)"
   ]
  },
  {
   "cell_type": "markdown",
   "id": "07d29ff1",
   "metadata": {},
   "source": [
    "#### Initialise the population\n",
    "Define path to snapshot (i.e. an already-initialised model)"
   ]
  },
  {
   "cell_type": "code",
   "execution_count": 3,
   "id": "a0992424",
   "metadata": {},
   "outputs": [],
   "source": [
    "OPENCL_DIR = os.path.join(\"..\", \"..\", \"microsim\", \"opencl\")\n",
    "SNAPSHOT_FILEPATH = os.path.join(OPENCL_DIR, \"snapshots\", \"cache.npz\")\n",
    "assert os.path.isfile(SNAPSHOT_FILEPATH), f\"Snapshot doesn't exist: {SNAPSHOT_FILEPATH}\""
   ]
  },
  {
   "cell_type": "markdown",
   "id": "6a4ecfed",
   "metadata": {},
   "source": [
    "### Create observed cases data\n",
    "Cases_devon_weekly is based on government data recording the number of new cases each week, per MSOA. It has been corrected to account for lags and other shortcomings in the testing process, and summed up to cover the whole of Devon. Full details are here: http://localhost:8888/notebooks/Users/gy17m2a/OneDrive%20-%20University%20of%20Leeds/Project/RAMP-UA/experiments/calibration/observation_data/CreatingObservations-Daily-InterpolateSecond.ipynb\n",
    "\n",
    "Cases_devon_daily is created through linear interpolation of the weekly data. This daily data is required for seeding the model. Because the interpolation is carried out for each MSOA seperately, when the data is joined back together for the whole of Devon it is not exactly equivalent to cases_devon_weekly. \n",
    "\n",
    "Currently, we are using the original cases_devon_weekly data in the distance function to evaluate the performance of the model. This makes sense because it is the most accurate weekly data that we have. However, it means when comparing the weekly model results to the observations, the model doesn't seem to be exactly the same as the observations, even during the seeding process. (Within the distance function all particles will be equally far from the observations during the seeding process, so shouldn't negatively affect things in this sense)."
   ]
  },
  {
   "cell_type": "code",
   "execution_count": 4,
   "id": "4a9a3673",
   "metadata": {},
   "outputs": [],
   "source": [
    "## Get dataframe with totals for whole of Devon\n",
    "cases_devon_weekly = pd.read_csv(\"observation_data/weekly_cases_devon.csv\")\n",
    "# Add column with cumulative sums rather than cases per week\n",
    "cases_devon_weekly['CumulativeCases'] = cases_devon_weekly['OriginalCases'].cumsum()\n",
    "# Keep just cumulative cases\n",
    "cases_devon_weekly = cases_devon_weekly['CumulativeCases'].values"
   ]
  },
  {
   "cell_type": "code",
   "execution_count": 5,
   "id": "5a134949",
   "metadata": {},
   "outputs": [],
   "source": [
    "# Read in daily devon case data (interpolated from weekly)\n",
    "cases_devon_daily = pd.read_csv(\"observation_data/daily_cases_devon.csv\")\n",
    "# Add column with cumulative sums rather than cases per day\n",
    "cases_devon_daily['CumulativeCases'] = cases_devon_daily['OriginalCases'].cumsum()\n",
    "# Keep just cumulative cases\n",
    "cases_devon_daily = cases_devon_daily['CumulativeCases'].values"
   ]
  },
  {
   "cell_type": "code",
   "execution_count": 6,
   "id": "e9115140",
   "metadata": {},
   "outputs": [],
   "source": [
    "# Convert this interpolated data used in seeding back to weekly\n",
    "# List the index matching the end day of each week (e.g. 7, 14, 21 etc (minus 1 for indexing starting at 0)\n",
    "n_days = len(cases_devon_daily)\n",
    "week_end_days = list(range(6,n_days+1,7))\n",
    "\n",
    "# Keep only the values from the end of each week\n",
    "cases_devon_daily_summed_weekly = cases_devon_daily[week_end_days]"
   ]
  },
  {
   "cell_type": "markdown",
   "id": "6b339054",
   "metadata": {},
   "source": [
    "## Run model with default parameter values \n",
    "\n",
    "This shows what happens with the 'default' (manually calibrated) model, i.e. using the parameter values specified in the parameters file"
   ]
  },
  {
   "cell_type": "markdown",
   "id": "ab6462f9",
   "metadata": {},
   "source": [
    "#### Initialise model"
   ]
  },
  {
   "cell_type": "code",
   "execution_count": 7,
   "id": "4d3ba3de",
   "metadata": {},
   "outputs": [],
   "source": [
    "## Define parameters\n",
    "ITERATIONS = 133  # Number of iterations to run for\n",
    "assert (ITERATIONS /7).is_integer() # check it is divisible by 7 \n",
    "NUM_SEED_DAYS = 14  # Number of days to seed the population\n",
    "USE_GPU = True\n",
    "STORE_DETAILED_COUNTS = False\n",
    "REPETITIONS = 5\n",
    "USE_HEALTHIER_POP = True\n",
    "\n",
    "# x by 7 because daily data is used in running model?\n",
    "assert ITERATIONS < len(cases_devon_weekly)*7,     f\"Have more iterations ({ITERATIONS}) than observations ({len(cases_devon_weekly)*7}).\"\n",
    "\n",
    "# Initialise the class so that its ready to run the model.\n",
    "OpenCLRunner.init( iterations = ITERATIONS, repetitions = REPETITIONS, observations = cases_devon_weekly,\n",
    "    use_healthier_pop = USE_HEALTHIER_POP, use_gpu = USE_GPU, store_detailed_counts = STORE_DETAILED_COUNTS,\n",
    "    parameters_file = PARAMETERS_FILE, opencl_dir = OPENCL_DIR,snapshot_filepath = SNAPSHOT_FILEPATH,\n",
    "    num_seed_days = NUM_SEED_DAYS)"
   ]
  },
  {
   "cell_type": "markdown",
   "id": "c377d558",
   "metadata": {},
   "source": [
    "#### Run model"
   ]
  },
  {
   "cell_type": "code",
   "execution_count": 8,
   "id": "722b329c",
   "metadata": {},
   "outputs": [
    {
     "name": "stderr",
     "output_type": "stream",
     "text": [
      "Running models: 100%|████████████████████████████████████████████████████████████████████| 5/5 [03:52<00:00, 46.40s/it]\n"
     ]
    }
   ],
   "source": [
    "OpenCLRunner.update(repetitions=5)  # Temporarily use more repetitions to give a good baseline\n",
    "OpenCLRunner.update(store_detailed_counts=True)  # Temporarily output age breakdowns\n",
    "(fitness_manualcalibration, sim_mc, obs_mc, out_params_mc, summaries_mc) = OpenCLRunner.run_model_with_params_abc({}, return_full_details=True, quiet = False)\n",
    "OpenCLRunner.update(repetitions=REPETITIONS)\n",
    "OpenCLRunner.update(store_detailed_counts=STORE_DETAILED_COUNTS)"
   ]
  },
  {
   "cell_type": "markdown",
   "id": "ec338f70",
   "metadata": {},
   "source": [
    "#### Plot results"
   ]
  },
  {
   "cell_type": "code",
   "execution_count": 9,
   "id": "5ae9e481",
   "metadata": {},
   "outputs": [
    {
     "data": {
      "text/plain": [
       "<matplotlib.legend.Legend at 0x15c8105af88>"
      ]
     },
     "execution_count": 9,
     "metadata": {},
     "output_type": "execute_result"
    },
    {
     "data": {
      "image/png": "[encoded data removed]",
      "text/plain": [
       "<Figure size 432x288 with 1 Axes>"
      ]
     },
     "metadata": {
      "needs_background": "light"
     },
     "output_type": "display_data"
    }
   ],
   "source": [
    "# Check the model returns the observations correctly i.e. that theyre the same length\n",
    "np.array_equal(obs_mc, cases_devon_daily[:len(sim_mc)-1])\n",
    "\n",
    "# Plot\n",
    "fig, ax = plt.subplots(1,1)\n",
    "x = range(len(sim_mc))\n",
    "ax.plot(x, sim_mc, label=\"sim\", color=\"orange\")\n",
    "ax.plot(x, obs_mc, label=\"obs\", color=\"blue\")\n",
    "ax.legend()"
   ]
  },
  {
   "cell_type": "markdown",
   "id": "da6a3764",
   "metadata": {},
   "source": [
    "## Calibrate model with Approximate Bayesian Computation\n",
    "#### Define constants\n",
    "These are not touched by ABC. Include parameters that should not be optimised."
   ]
  },
  {
   "cell_type": "code",
   "execution_count": 10,
   "id": "add4350a",
   "metadata": {},
   "outputs": [],
   "source": [
    "const_params_dict = {\"home\": 1.0}"
   ]
  },
  {
   "cell_type": "markdown",
   "id": "b18e1698",
   "metadata": {},
   "source": [
    "#### Define prior distributions for parameters to be optimised"
   ]
  },
  {
   "cell_type": "code",
   "execution_count": 11,
   "id": "2301f8e9",
   "metadata": {},
   "outputs": [
    {
     "name": "stderr",
     "output_type": "stream",
     "text": [
      "C:\\ProgramData\\Anaconda3\\envs\\newenv\\lib\\site-packages\\ipykernel_launcher.py:32: UserWarning: Matplotlib is currently using module://matplotlib_inline.backend_inline, which is a non-GUI backend, so cannot show the figure.\n"
     ]
    },
    {
     "data": {
      "image/png": "[encoded data removed]",
      "text/plain": [
       "<Figure size 1008x432 with 8 Axes>"
      ]
     },
     "metadata": {
      "needs_background": "light"
     },
     "output_type": "display_data"
    }
   ],
   "source": [
    "# Current risk beta\n",
    "current_risk_beta_rv = pyabc.RV(\"norm\", 0.1, 0.155)\n",
    "\n",
    "# School and retail are all uniform between 0-1\n",
    "retail_rv, primary_school_rv, secondary_school_rv = ( pyabc.RV(\"uniform\", 0, 1) for _ in range(3)  )\n",
    "# Work needs some dampening because we know that workplaces are too big in the current implementation\n",
    "work_rv = pyabc.RV(\"beta\", 0.1, 2)\n",
    "\n",
    "# Individual multipliers (see justification at the start of this notebook).\n",
    "# Asymptomatic is normal such that the middle 95% is the range [0.138, 0.75]\n",
    "presymptomatic_rv, symptomatic_rv, asymptomatic_rv = (pyabc.RV(\"norm\", 0.444, 0.155) for _ in range(3))\n",
    "\n",
    "# Group all random variables together and give them a string name (this is needed for the distribution later)\n",
    "all_rv = { \"retail\": retail_rv, \"primary_school\": primary_school_rv, \"secondary_school\": secondary_school_rv, \"work\": work_rv,\n",
    "    \"presymptomatic\": presymptomatic_rv, \"symptomatic\": symptomatic_rv, \"asymptomatic\": asymptomatic_rv, \n",
    "    \"current_risk_beta\":current_risk_beta_rv}\n",
    "\n",
    "# Plot prior distributions\n",
    "fig, axes = plt.subplots(2, 4, figsize=(14, 6), sharex=True, sharey=True)\n",
    "x = np.linspace(-1, 2, 99)  # (specified so that we have some whole numbers)\n",
    "marker = itertools.cycle((',', '+', '.', 'o', '*'))\n",
    "for i, (var_name, variable) in enumerate(all_rv.items()):\n",
    "    # var_name = [ k for k,v in locals().items() if v is variable][0]  # Hack to get the name of the variable\n",
    "    ax = axes.flatten()[i]\n",
    "    # ax.plot(x, pyabc.Distribution(param=variable).pdf({\"param\": x}), label = var_name, marker=next(marker), ms=3)\n",
    "    ax.plot(x, pyabc.Distribution(param=variable).pdf({\"param\": x}))\n",
    "    ax.set_title(var_name)\n",
    "    ax.axvline(x=0.0, ls='--', color=\"grey\", label=\"x=0\")\n",
    "    ax.axvline(x=1.0, ls='--', color=\"grey\", label=\"x=1\")\n",
    "fig.tight_layout()\n",
    "fig.suptitle(\"Priors\")\n",
    "fig.show()\n",
    "\n",
    "# Can decorate normal distributions later to make sure they are positive\n",
    "decorated_rvs = {name: pyabc.LowerBoundDecorator(rv, 0.0) for name, rv in all_rv.items()}\n",
    "\n",
    "# Create a distrubtion from these random variables\n",
    "original_priors = pyabc.Distribution(**decorated_rvs)"
   ]
  },
  {
   "cell_type": "markdown",
   "id": "500b327c",
   "metadata": {},
   "source": [
    "### Initialise the ABC algorithm."
   ]
  },
  {
   "cell_type": "code",
   "execution_count": 12,
   "id": "04ef8414",
   "metadata": {},
   "outputs": [
    {
     "name": "stdout",
     "output_type": "stream",
     "text": [
      "Activity locations: {'Home': <Home ActivityLocation>, 'Retail': <Retail ActivityLocation>, 'PrimarySchool': <PrimarySchool ActivityLocation>, 'SecondarySchool': <SecondarySchool ActivityLocation>, 'Work': <Work ActivityLocation>}\n"
     ]
    }
   ],
   "source": [
    "# Run length\n",
    "run_length =133\n",
    "\n",
    "# Initialise the population\n",
    "DATA_DIR = os.path.join(\"..\", \"..\", \"devon_data\")\n",
    "cache_dir = os.path.join(DATA_DIR, \"caches\")\n",
    "cache = InitialisationCache(cache_dir=cache_dir)\n",
    "if cache.is_empty():\n",
    "    raise Exception(f\"The cache in {cache_dir} has not been initialised. Probably need to run the code a\",\n",
    "                    \"few cells up that initialises the population\")\n",
    "\n",
    "individuals_df, activity_locations = cache.read_from_cache()\n",
    "print(f\"Activity locations: {activity_locations}\")\n",
    "\n",
    "\n",
    "# Dictionary with parameters for running model\n",
    "admin_params = {\"quiet\": True, \"use_gpu\": True, \"store_detailed_counts\": True, \"start_day\": 0,  \"run_length\": run_length,\n",
    "                \"current_particle_pop_df\": None,  \"parameters_file\": PARAMETERS_FILE, \"snapshot_file\": SNAPSHOT_FILEPATH, \n",
    "                \"opencl_dir\": OPENCL_DIR, \"individuals_df\": individuals_df, \"observations_weekly_array\": cases_devon_weekly,\n",
    "                'num_seed_days' :14}"
   ]
  },
  {
   "cell_type": "markdown",
   "id": "d535af6b",
   "metadata": {},
   "source": [
    "### Set-up ABC"
   ]
  },
  {
   "cell_type": "code",
   "execution_count": 14,
   "id": "e2472963",
   "metadata": {},
   "outputs": [
    {
     "name": "stderr",
     "output_type": "stream",
     "text": [
      "ABC.History INFO: Start <ABCSMC id=1, start_time=2022-03-22 16:12:07>\n"
     ]
    }
   ],
   "source": [
    "# Create template for model\n",
    "template = OpenCLWrapper(const_params_dict, **admin_params)\n",
    "# Not sure why this is needed. Wthout it we get an error when passing the template object to ABCSMC below\n",
    "template.__name__ = OpenCLWrapper.__name__\n",
    "\n",
    "# Set up model\n",
    "abc = pyabc.ABCSMC(models=template, parameter_priors=original_priors, distance_function=OpenCLWrapper.dummy_distance, \n",
    "    sampler=pyabc.sampler.SingleCoreSampler(), transitions=GreaterThanZeroParameterTransition())\n",
    "\n",
    "# Prepare to run the model\n",
    "db_path = (\"sqlite:///\" + \"test3.db\")  # Path to database\n",
    "\n",
    "# abc.new() needs the database location and any observations that we will use (these are passed to the distance_function\n",
    "# provided to pyabc.ABCSMC above). Currently the observations are provided to the model when it is initialised and \n",
    "# these are then used at the end of the model run() function. So they don't need to be provided here.\n",
    "abc_history = abc.new(db=db_path,observed_sum_stat=None)  # {'observation': observations_array, \"individuals\": individuals_df}\n",
    "run_id = abc_history.id"
   ]
  },
  {
   "cell_type": "markdown",
   "id": "e57b1730",
   "metadata": {},
   "source": [
    "### Run ABC"
   ]
  },
  {
   "cell_type": "code",
   "execution_count": 17,
   "id": "4bb74352",
   "metadata": {},
   "outputs": [],
   "source": [
    "# Run model\n",
    "abc_history = abc.run(max_nr_populations=10)"
   ]
  },
  {
   "cell_type": "markdown",
   "id": "f91a7a3d",
   "metadata": {},
   "source": [
    "### Resume ABC run"
   ]
  },
  {
   "cell_type": "code",
   "execution_count": 19,
   "id": "daf01585",
   "metadata": {},
   "outputs": [
    {
     "name": "stderr",
     "output_type": "stream",
     "text": [
      "ABC INFO: t: 4, eps: 2.90985000e+04.\n",
      "ABC INFO: Accepted: 100 / 149 = 6.7114e-01, ESS: 1.3217e+00.\n",
      "ABC INFO: t: 5, eps: 2.34814403e+04.\n",
      "ABC INFO: Accepted: 100 / 129 = 7.7519e-01, ESS: 3.4103e+00.\n",
      "ABC INFO: t: 6, eps: 2.20403405e+04.\n",
      "ABC INFO: Accepted: 100 / 149 = 6.7114e-01, ESS: 3.9987e+00.\n",
      "ABC INFO: Stop: Maximum number of generations.\n",
      "ABC.History INFO: Done <ABCSMC id=1, duration=1 day, 15:34:38.498984, end_time=2022-03-24 07:46:46>\n"
     ]
    },
    {
     "data": {
      "text/plain": [
       "<pyabc.storage.history.History at 0x15ca0bfab48>"
      ]
     },
     "execution_count": 19,
     "metadata": {},
     "output_type": "execute_result"
    }
   ],
   "source": [
    "# Set up model\n",
    "abc_continued = pyabc.ABCSMC(models=template, parameter_priors=original_priors, distance_function=OpenCLWrapper.dummy_distance,  \n",
    "    sampler=pyabc.sampler.SingleCoreSampler(),transitions=GreaterThanZeroParameterTransition())\n",
    "# To resume a run, use the load method to load the necessary data. We pass to this method the id of the run we want to continue\n",
    "abc_continued.load(db_path, run_id)\n",
    "# run it\n",
    "abc_continued.run(max_nr_populations=3)"
   ]
  },
  {
   "cell_type": "code",
   "execution_count": null,
   "id": "fd9affbd",
   "metadata": {},
   "outputs": [
    {
     "name": "stderr",
     "output_type": "stream",
     "text": [
      "ABC INFO: t: 7, eps: 1.24102845e+04.\n",
      "ABC INFO: Accepted: 100 / 258 = 3.8760e-01, ESS: 7.1706e+00.\n",
      "ABC INFO: t: 8, eps: 9.19637745e+03.\n"
     ]
    }
   ],
   "source": [
    "# Set up model\n",
    "abc_continued = pyabc.ABCSMC(models=template, parameter_priors=original_priors, distance_function=OpenCLWrapper.dummy_distance,  \n",
    "    sampler=pyabc.sampler.SingleCoreSampler(),transitions=GreaterThanZeroParameterTransition())\n",
    "# To resume a run, use the load method to load the necessary data. We pass to this method the id of the run we want to continue\n",
    "abc_continued.load(db_path, run_id)\n",
    "# run it\n",
    "abc_continued.run(max_nr_populations=3)"
   ]
  },
  {
   "cell_type": "markdown",
   "id": "e3b9cbc3",
   "metadata": {},
   "source": [
    "#### Check number of populations"
   ]
  },
  {
   "cell_type": "code",
   "execution_count": 18,
   "id": "a0eb0bc3",
   "metadata": {},
   "outputs": [
    {
     "data": {
      "text/plain": [
       "4"
      ]
     },
     "execution_count": 18,
     "metadata": {},
     "output_type": "execute_result"
    }
   ],
   "source": [
    "abc_history.n_populations"
   ]
  },
  {
   "cell_type": "markdown",
   "id": "7ebf1aed",
   "metadata": {},
   "source": [
    "### Save ABC model results"
   ]
  },
  {
   "cell_type": "code",
   "execution_count": null,
   "id": "ce94adbd",
   "metadata": {},
   "outputs": [],
   "source": [
    "# fname = \"abc-2_105days_7seeddays_v2.pkl\"\n",
    "# with open( fname, \"wb\" ) as f:\n",
    "#         pickle.dump( history, f)"
   ]
  },
  {
   "cell_type": "markdown",
   "id": "7acadf04",
   "metadata": {},
   "source": [
    "### Analyse the posterior parameter distribution\n",
    "Have a look at the posterior distribution for the final population. This is made up of the posterior estimates for each particle in the popualtion and the associated weight.\n",
    "\n",
    "Note about the distrubtion returned by get_distribution: With each iteration, the algorithm decreases epsilon. So in the end all particles should be within some small distance, epsilon, of the observations. However, within this range, the particles will be randomly distributed. The weight of the particle is a function of the prior and of the number of other particles that are close by, so we wouldn't necessarily expect that particles with high weight should have better fitness than those of low weight. It's just looking at the wrong thing."
   ]
  },
  {
   "cell_type": "code",
   "execution_count": null,
   "id": "782d8f02",
   "metadata": {},
   "outputs": [],
   "source": [
    "_df, _w = abc_history.get_distribution(m=0, t=abc_history.max_t)\n",
    "# Merge dataframe and weights and sort by weight (highest weight at the top)\n",
    "_df['weight'] = _w\n",
    "posterior_df = _df.sort_values('weight', ascending=False).reset_index()\n",
    "posterior_df"
   ]
  },
  {
   "cell_type": "markdown",
   "id": "f1197b21",
   "metadata": {},
   "source": [
    "#### Plot the marginal posteriors  \n",
    "The estimates of the optimal values for each parameter individually"
   ]
  },
  {
   "cell_type": "code",
   "execution_count": null,
   "id": "c322f4e2",
   "metadata": {},
   "outputs": [],
   "source": [
    "fig, axes = plt.subplots(3,3, figsize=(12,10))\n",
    "# define colour map\n",
    "evenly_spaced_interval = np.linspace(0.35, 1, 10)\n",
    "colors = [cm.Greens(x) for x in evenly_spaced_interval]\n",
    "\n",
    "for i, param in enumerate(original_priors.keys()):\n",
    "    ax = axes.flat[i]\n",
    "    # Add parameter priors\n",
    "    priors_x = np.linspace(-1, 2, 99)  # (specified so that we have some whole numbers)\n",
    "    ax.plot(priors_x, pyabc.Distribution(param=all_rv[param]).pdf({\"param\": priors_x}), \n",
    "            color = 'black', label = 'Prior', linewidth  = 1, linestyle ='dashed')\n",
    "    # Add distributions\n",
    "    for t in range(abc_history.max_t + 1):\n",
    "        color = colors[t]\n",
    "        df, w = abc_history.get_distribution(m=0, t=t)\n",
    "        pyabc.visualization.plot_kde_1d(df, w, x=param, ax=ax, \n",
    "            label=f\"t={t}\", \n",
    "            #alpha=1.0 if t==0 else float(t)/history.max_t, # Make earlier populations transparent\n",
    "            color= 'black' if t==abc_history.max_t else color) # Make the last one black\n",
    "        if param!=\"work\":\n",
    "            ax.set_xlim(-0.5,1.5)\n",
    "        if param =='work':\n",
    "             ax.set_xlim(-0.2,0.5)          \n",
    "        if param =='current_risk_beta':\n",
    "             ax.set_xlim(-0.2,0.5)                   \n",
    "        ax.legend(fontsize=\"small\")\n",
    "        #ax.axvline(x=posterior_df.loc[1,param], color=\"grey\", linestyle=\"dashed\")\n",
    "        #ax.set_title(f\"{param}: {posterior_df.loc[0,param]}\")\n",
    "        ax.set_title(f\"{param}\")\n",
    "axes[2,2].set_axis_off()        \n",
    "fig.tight_layout()"
   ]
  },
  {
   "cell_type": "markdown",
   "id": "7723e96a",
   "metadata": {},
   "source": [
    "### Analyse the model predictions within each ABC calibration population"
   ]
  },
  {
   "cell_type": "markdown",
   "id": "96770dc7",
   "metadata": {},
   "source": [
    "#### Store predictions and distances for each particle in each population "
   ]
  },
  {
   "cell_type": "code",
   "execution_count": null,
   "id": "b65368d5",
   "metadata": {},
   "outputs": [],
   "source": [
    "# Create dictionary to store results for each population\n",
    "abc_sum_stats = {}\n",
    "\n",
    "# Loop through each population\n",
    "for t in range(0,abc_history.max_t+1):\n",
    "    # Create lists to store values for each particle\n",
    "    data_daily_l = []\n",
    "    distances_l = []\n",
    "\n",
    "    # Get the summary stats for this population\n",
    "    # ([1] means keep just the dataframe and not the array of weights)\n",
    "    weighted_sum_stats = abc_history.get_weighted_sum_stats_for_model(t=t)[1]\n",
    "\n",
    "    # Loop through each particle and save their distance and predictions into the lists\n",
    "    for particle_no in range(0,100):\n",
    "        # Get data for just this particle\n",
    "        particle_x_dict = weighted_sum_stats[particle_no]\n",
    "        # Get daily predictions\n",
    "        data_daily = particle_x_dict[\"model_daily_cumulative_infections\"]     \n",
    "        # Add daily msoa predictions for this particle to list\n",
    "        data_daily_l.append(data_daily)\n",
    "        \n",
    "        # Add distances to list\n",
    "        distances_l.append(particle_x_dict['distance'])\n",
    "    \n",
    "    # Add lists to dictionaries    \n",
    "    abc_sum_stats[\"t{}_distances\".format(t)] = distances_l\n",
    "    abc_sum_stats[\"t{}_dailydata\".format(t)] = data_daily_l"
   ]
  },
  {
   "cell_type": "markdown",
   "id": "837b659e",
   "metadata": {},
   "source": [
    "#### Create plot of daily cumulative infections with one subplot per population and one line per particle"
   ]
  },
  {
   "cell_type": "code",
   "execution_count": null,
   "id": "ff0473fd",
   "metadata": {},
   "outputs": [],
   "source": [
    "# Create figure\n",
    "fig, axs = plt.subplots(nrows=2, ncols=5, figsize=(15, 6), sharex=True)\n",
    "# for ticker, ax in zip(tickers, axs.ravel()):\n",
    "for t,ax in zip(range(0,abc_history.max_t+1),axs.ravel()):\n",
    "        \n",
    "    data_daily_l = abc_sum_stats[\"t{}_dailydata\".format(t)]\n",
    "    distance_l = abc_sum_stats[\"t{}_distances\".format(t)]\n",
    "    \n",
    "    # Normalise distance to 0-1 to calculate transparency\n",
    "    _distance = np.array(distance_l)  # Easier to do maths on np.array\n",
    "    distance_norm = (_distance - min(_distance)) / (max(_distance) - min(_distance))\n",
    "        \n",
    "    x = range(0,len(data_daily_l[i])) \n",
    "    # For each particle, plot the predictions, coloured by distance\n",
    "    for i in range(0,len(data_daily_l[i])):\n",
    "        ax.plot(x, data_daily_l[i],color=\"black\", alpha=1-distance_norm[i])  # (1-x because high distance is bad)\n",
    "\n",
    "    # Add observations\n",
    "    ax.plot(x, cases_devon_daily[0:len(data_daily_l[0])], label=\"Observations\",\n",
    "                           linewidth = 3, color=\"darkred\")\n",
    "\n",
    "    # Apply labels\n",
    "    ax.set_title(\"Pop {}\".format(t))\n",
    "    ax.set_xlabel(\"Day\")\n",
    "\n",
    "    # Set full plot title\n",
    "    fig.suptitle('Number of infections predicted by each particle within each window')\n",
    "\n",
    "axes[0].set_ylabel(\"Number infections\")\n",
    "axes[0].legend(fontsize=\"medium\")"
   ]
  },
  {
   "cell_type": "markdown",
   "id": "f0fb8c8b",
   "metadata": {},
   "source": [
    "#### Create plot of daily cumulative infections with one subplot per population and the line showing the predictions of the best performing particle"
   ]
  },
  {
   "cell_type": "code",
   "execution_count": null,
   "id": "112e9dcb",
   "metadata": {
    "scrolled": true
   },
   "outputs": [],
   "source": [
    "# Create figure\n",
    "fig, axs = plt.subplots(nrows=2, ncols=5, figsize=(15, 6), sharex=True)\n",
    "# for ticker, ax in zip(tickers, axs.ravel()):\n",
    "for t,ax in zip(range(0,abc_history.max_t+1),axs.ravel()):\n",
    "        \n",
    "    data_daily_l = abc_sum_stats[\"t{}_dailydata\".format(t)]\n",
    "    distance_l = abc_sum_stats[\"t{}_distances\".format(t)]\n",
    "\n",
    "    # Find the best particle\n",
    "    best_particle_idx = distance_l.index(min(distance_l))\n",
    "        \n",
    "    # Add observations\n",
    "    ax.plot(x, cases_devon_daily[0:len(data_daily_l[0])], label=\"Observations\",\n",
    "                           linewidth = 3, color=\"darkred\")\n",
    "\n",
    "    # Add the best particle\n",
    "    ax.plot(x, data_daily_l[best_particle_idx], color=\"green\", linewidth = 3,\n",
    "                          label = 'Best particle')  # (1-x because high distance is bad)\n",
    "    \n",
    "    # Apply labels\n",
    "    ax.set_xlabel(\"Day\")\n",
    "    ax.set_ylabel(\"Number infections\")\n",
    "    ax.set_title(\"Pop {}\".format(t))"
   ]
  },
  {
   "cell_type": "markdown",
   "id": "7d63f81a",
   "metadata": {},
   "source": [
    "## Find the optimal value for Current Risk Beta (and other parameters)\n",
    "For the final population find the best performing particle (i.e. the one with the minimum distance value) and get the parameter values associated with this particle"
   ]
  },
  {
   "cell_type": "code",
   "execution_count": null,
   "id": "6db43fc1",
   "metadata": {},
   "outputs": [],
   "source": [
    "# Get the list of distances for the final population\n",
    "distance_l = abc_sum_stats[\"t{}_distances\".format(abc_history.max_t )]\n",
    "\n",
    "# Find the best particle (i.e. the minimum distance)\n",
    "best_particle_idx = distance_l.index(min(distance_l))\n",
    "\n",
    "# Get the parameter values associated with each particle in final population\n",
    "params_df, _w = abc_history.get_distribution(m=0, t=abc_history.max_t)\n",
    "\n",
    "# Find the parameters associated with the best particle\n",
    "params_df.iloc[best_particle_idx]"
   ]
  }
 ],
 "metadata": {
  "kernelspec": {
   "display_name": "Python 3 (ipykernel)",
   "language": "python",
   "name": "python3"
  },
  "language_info": {
   "codemirror_mode": {
    "name": "ipython",
    "version": 3
   },
   "file_extension": ".py",
   "mimetype": "text/x-python",
   "name": "python",
   "nbconvert_exporter": "python",
   "pygments_lexer": "ipython3",
   "version": "3.7.12"
  }
 },
 "nbformat": 4,
 "nbformat_minor": 5
}
