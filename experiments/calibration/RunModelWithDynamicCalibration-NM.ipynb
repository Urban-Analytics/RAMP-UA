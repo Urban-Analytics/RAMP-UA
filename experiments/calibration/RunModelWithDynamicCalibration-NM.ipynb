{
 "cells": [
  {
   "cell_type": "markdown",
   "id": "9b0cd769",
   "metadata": {},
   "source": [
    "# Running RAMP OpenCL model with dynamic calibration\n",
    "\n",
    "### Parameter definitions\n",
    "The OpenCL RAMP model creates a synthetic population and simulates the movements of individuals between various locations (home, work, school, shops). If an individual is infected then they impart an infection risk on to the locations that they visit. The severity of this infection risk is determined by whether the individual is presymptomatic, asymptomatic or symptomatic (the **individual's hazard rating**). The locations in the model thus come to have an infection risk, based upon how many infected individuals from each infection status have visited. When susceptible individuals without the disease visit these locations their risk of being infected is determined by the location's infection risk, alongside the transmission hazard associated with that kind of location (the location's hazard rating). An additional hazard rating, the current risk beta, is used to control the general transmissability of the disease (?) \n",
    "\n",
    "### Parameter calibration\n",
    "The current risk beta parameter is calibrated in [this notebook](http://localhost:8888/notebooks/Users/gy17m2a/OneDrive%20-%20University%20of%20Leeds/Project/RAMP-UA/experiments/calibration/abc-2-NewObs.ipynb). This involves determining a prior distribution for both the current risk beta parameter, and for the individual and location hazard parameters. Approximate Bayesian Computation (ABC) is then used to approximate the likelihood of different parameter values by running the model a large number of times. Each time parameter values are drawn randomly from the prior distributions, and the parameter values from the simulations with results closest to the observations are kept. A fitness function is used to assess the similarity of model results to observations. In this case, the Euclidean difference between the observed number of cases per week and the simulated number of cases per week is calculated. In this script, the model is ran using ABC for 105 days, with two populations. \n",
    "\n",
    "In this notebook, the current risk beta parameter value which was associated with the highest fitness in the final population in the calibration process above is set as a constant, and assumed not to change over the life of the disease. However, as the disease evolves, it is expected that the other parameters pertaining to the hazard associated with individuals and locations will change. If a model is calibrated just once using historical data then it will be unable to account for this parameter evolution. However, if it is dynamically calibrated, then it can be optimised in response to changes in parameter values in real time. Dynamic calibration involves re-calibrating the model at each time-step (e.g. after one day, one week etc), and using the best performing parameter value from the previous time-step for the next time-step. \n",
    "\n",
    "### Parameter priors\n",
    "ABC requires prior distributions to be specified for the parameters.\n",
    "\n",
    "<ins>Location hazards</ins> \n",
    " - `Home` (transmission hazard associated with being with an infected individual at home)\n",
    "     - <i>Fixed at 1.0, so all other multipliers are relative to this. This is almost certaintly the most risky activity (i.e. transmission at home is very likely) so no other priors allow values above 1.0. </i>\n",
    " - `Retail` (transmission hazard associated with being with an infected individual in a shop)\n",
    "     - <i> Uniform between 0 and 1 </i>\n",
    " - `PrimarySchool` (transmission hazard associated with being with an infected individual at primary school)\n",
    "     - <i> Uniform between 0 and 1 </i> \n",
    " - `SecondarySchool` (transmission hazard associated with being with an infected individual at secondary school)\n",
    "     - <i> Uniform between 0 and 1 </i> \n",
    " - `Work` (transmission hazard associated with being with an infected individual at work)\n",
    "     - <i> Uniform between 0 and 1 </i> \n",
    " \n",
    "<ins> Individual hazards</ins> \n",
    " - `asymptomatic` (transmission hazard associated with asymptomatic individuals)  \n",
    "      - <i> This is tricky because we don't know the hazard associated with asymptomatic transmission. James Salter used a prior of: N(0.444, 0.155) which gives the middle 95% as [0.138, 0.75] ([0.138 estimated here](https://www.medrxiv.org/content/10.1101/2020.06.04.20121434v2), [0.58 estimated here](https://jammi.utpjournals.press/doi/abs/10.3138/jammi-2020-0030), [0.75 estimated here (Table 1)](https://www.cdc.gov/coronavirus/2019-ncov/hcp/planning-scenarios.html). </i>\n",
    " - `presymptomatic` (transmission hazard associated with presymptomatic individuals)  \n",
    "    - <i> Same as asymptomatic (but abc-2.iypnb fixes them at 1 ? </i>\n",
    " - `symptomatic` (transmission hazard associated with symptomatic individuals)   \n",
    "    - <i> Same as asymptomatic (but abc-2.iypnb fixes them at 1 ?)</i>       "
   ]
  },
  {
   "cell_type": "markdown",
   "id": "05f926ac",
   "metadata": {},
   "source": [
    "### Import modules"
   ]
  },
  {
   "cell_type": "code",
   "execution_count": 1,
   "id": "0a69fb41",
   "metadata": {},
   "outputs": [],
   "source": [
    "#### Import modules required\n",
    "import multiprocessing as mp\n",
    "import numpy as np\n",
    "import os\n",
    "import itertools\n",
    "import pandas as pd\n",
    "import pickle\n",
    "import matplotlib.pyplot as plt\n",
    "import sys\n",
    "import datetime\n",
    "from matplotlib import cm\n",
    "\n",
    "#os.chdir(\"C:/Users/gy17m2a/OneDrive - University of Leeds/Project/RAMP-UA/experiments/calibration\")\n",
    "\n",
    "# PYABC (https://pyabc.readthedocs.io/en/latest/)\n",
    "import pyabc\n",
    "from pyabc.transition.multivariatenormal import MultivariateNormalTransition  # For drawing from the posterior\n",
    "# Quieten down the pyopencl info messages (just print errors)\n",
    "import logging\n",
    "\n",
    "logging.getLogger(\"pyopencl\").setLevel(logging.ERROR)\n",
    "\n",
    "# Import arbitrary distribution class for using posterior estimates as new priors\n",
    "sys.path.append('..')\n",
    "from arbitrary_distribution import ArbitraryDistribution, GreaterThanZeroParameterTransition\n",
    "\n",
    "# RAMP model\n",
    "from microsim.initialisation_cache import InitialisationCache\n",
    "\n",
    "# Bespoke RAMP classes for running the model\n",
    "import sys\n",
    "\n",
    "sys.path.append('..')\n",
    "from opencl_runner import OpenCLWrapper  # Some additional functions to simplify running the OpenCL model\n",
    "from opencl_runner import OpenCLRunner\n",
    "\n",
    "# Set this to False to recalculate all results (good on HPC or whatever).\n",
    "# If true then it loads pre-calculated results from pickle files (much quicker)\n",
    "LOAD_PICKLES = True"
   ]
  },
  {
   "cell_type": "markdown",
   "id": "6a4ecfed",
   "metadata": {},
   "source": [
    "#### Create observed cases data"
   ]
  },
  {
   "cell_type": "code",
   "execution_count": 2,
   "id": "4a9a3673",
   "metadata": {},
   "outputs": [],
   "source": [
    "# Observed cases data\n",
    "cases_msoa_weekly = pd.read_csv(\"observation_data/weekly_cases_msoas_shifted_mpld_smoothed_IS.csv\")\n",
    "# remove date column\n",
    "cases_msoa_weekly = cases_msoa_weekly.iloc[:, 1:]\n",
    "# Transpose\n",
    "cases_msoa_weekly = cases_msoa_weekly.T\n",
    "\n",
    "# Observations are cases per msoa.\n",
    "# Store as an array for us in model (more efficient?)\n",
    "# (first axis is the msoa number, second is the day)\n",
    "observations_weekly_array = cases_msoa_weekly.to_numpy()\n",
    "\n",
    "## Get dataframe with totals for whole of Devon\n",
    "cases_devon_weekly = pd.read_csv(\"observation_data/weekly_cases_devon_shifted_mpld_smoothed_IS.csv\")\n",
    "# Create new dataframe with cumulative sums rather than cases per day\n",
    "cases_devon_weekly['CumulativeCases'] = cases_devon_weekly['OriginalCases'].cumsum()\n",
    "\n",
    "# Read in daily devon case data (interpoalted from weekly)\n",
    "cases_devon_daily = pd.read_csv(\"observation_data/daily_cases_devon_shifted_mpld_smoothed_IS.csv\")\n",
    "# Create new dataframe with cumulative sums rather than cases per day\n",
    "cases_devon_daily['CumulativeCases'] = cases_devon_daily['OriginalCases'].cumsum()\n",
    "\n",
    "# Read in daily msoa case data (interpoalted from weekly)\n",
    "cases_msoa_daily = pd.read_csv(\"observation_data/daily_cases_msoas_shifted_mpld_smoothed_IS.csv\")\n",
    "#Create new dataframe with cumulative sums rather than cases per day\n",
    "#cases_msoa_daily['CumulativeCases'] = cases_msoa_daily['OriginalCases'].cumsum()\n",
    "# remove date column\n",
    "cases_msoa_daily = cases_msoa_daily.iloc[:, 1:]\n",
    "cases_msoa_daily = cases_msoa_daily.T\n",
    "cases_msoa_daily.columns = range(1,(cases_msoa_daily.shape[1])+1)\n",
    "cases_msoa_daily = cases_msoa_daily.add_prefix('Day')\n"
   ]
  },
  {
   "cell_type": "markdown",
   "id": "0dbe3208",
   "metadata": {},
   "source": [
    "#### Setup Model"
   ]
  },
  {
   "cell_type": "markdown",
   "id": "e5baedf2",
   "metadata": {},
   "source": [
    " Read in parameters"
   ]
  },
  {
   "cell_type": "code",
   "execution_count": 3,
   "id": "12c329ee",
   "metadata": {},
   "outputs": [
    {
     "name": "stderr",
     "output_type": "stream",
     "text": [
      "/Users/nick/research_not_syncd/git_projects/RAMP-UA/microsim/opencl/ramp/params.py:58: UserWarning: Params object is being created using hard-coded default values, not those in the parameters file. This warning will not be displayed again.\n",
      "  warnings.warn(\"Params object is being created using hard-coded default values, \"\n"
     ]
    }
   ],
   "source": [
    "PARAMETERS_FILE = os.path.join(\"../../\",\"model_parameters\", \"default.yml\")\n",
    "PARAMS = OpenCLRunner.create_parameters(parameters_file=PARAMETERS_FILE)"
   ]
  },
  {
   "cell_type": "markdown",
   "id": "07d29ff1",
   "metadata": {},
   "source": [
    "Optionally initialise the population, delete the old OpenCL model snapshot (i.e. an already-initialised model) and\n",
    "re-create a new one. Useful if something may have changed (e.g. changed the lockdown file)."
   ]
  },
  {
   "cell_type": "code",
   "execution_count": 4,
   "id": "a0992424",
   "metadata": {},
   "outputs": [],
   "source": [
    "OPENCL_DIR = os.path.join(\"..\", \"..\", \"microsim\", \"opencl\")\n",
    "SNAPSHOT_FILEPATH = os.path.join(OPENCL_DIR, \"snapshots\", \"cache.npz\")\n",
    "assert os.path.isfile(SNAPSHOT_FILEPATH), f\"Snapshot doesn't exist: {SNAPSHOT_FILEPATH}\""
   ]
  },
  {
   "cell_type": "markdown",
   "id": "6b339054",
   "metadata": {},
   "source": [
    "## Run model with default parameter values \n",
    "\n",
    "This shows what happens with the 'default' (manually calibrated) model, i.e. using the parameter values specified in the parameters file"
   ]
  },
  {
   "cell_type": "markdown",
   "id": "ab6462f9",
   "metadata": {},
   "source": [
    "#### Initialise model"
   ]
  },
  {
   "cell_type": "code",
   "execution_count": 5,
   "id": "4d3ba3de",
   "metadata": {},
   "outputs": [],
   "source": [
    "## Define parameters\n",
    "ITERATIONS = 105  # Number of iterations to run for\n",
    "assert (ITERATIONS /7).is_integer() # check it is divisible by 7 \n",
    "NUM_SEED_DAYS = 7  # Number of days to seed the population\n",
    "USE_GPU = False\n",
    "STORE_DETAILED_COUNTS = False\n",
    "REPETITIONS = 5\n",
    "USE_HEALTHIER_POP = True\n",
    "\n",
    "# Think x by 7 because daily data is used in running model?\n",
    "assert ITERATIONS < len(cases_devon_weekly)*7,     f\"Have more iterations ({ITERATIONS}) than observations ({len(cases_devon_weekly)*7}).\"\n",
    "\n",
    "# Initialise the class so that its ready to run the model.\n",
    "OpenCLRunner.init( iterations = ITERATIONS, repetitions = REPETITIONS, observations = cases_devon_weekly,\n",
    "    use_healthier_pop = USE_HEALTHIER_POP, use_gpu = USE_GPU, store_detailed_counts = STORE_DETAILED_COUNTS,\n",
    "    parameters_file = PARAMETERS_FILE, opencl_dir = OPENCL_DIR,snapshot_filepath = SNAPSHOT_FILEPATH,\n",
    "    num_seed_days = NUM_SEED_DAYS)"
   ]
  },
  {
   "cell_type": "markdown",
   "id": "c377d558",
   "metadata": {},
   "source": [
    "#### Run model"
   ]
  },
  {
   "cell_type": "code",
   "execution_count": 6,
   "id": "722b329c",
   "metadata": {},
   "outputs": [
    {
     "name": "stderr",
     "output_type": "stream",
     "text": [
      "Running models: 100%|██████████| 5/5 [01:08<00:00, 13.66s/it]\n"
     ]
    }
   ],
   "source": [
    "OpenCLRunner.update(repetitions=5)  # Temporarily use more repetitions to give a good baseline\n",
    "OpenCLRunner.update(store_detailed_counts=True)  # Temporarily output age breakdowns\n",
    "(fitness_manualcalibration, sim_manualcalibration, obs_manualcalibration, out_params_manualcalibration, summaries_manualcalibration) = OpenCLRunner.run_model_with_params_abc({}, return_full_details=True, quiet = False)\n",
    "OpenCLRunner.update(repetitions=REPETITIONS)\n",
    "OpenCLRunner.update(store_detailed_counts=STORE_DETAILED_COUNTS)"
   ]
  },
  {
   "cell_type": "markdown",
   "id": "750fd9e2",
   "metadata": {},
   "source": [
    "#### With parameters from best performing particle from intial model calibration (rather than just CRB)"
   ]
  },
  {
   "cell_type": "code",
   "execution_count": 7,
   "id": "1c753523",
   "metadata": {},
   "outputs": [
    {
     "name": "stderr",
     "output_type": "stream",
     "text": [
      "Running models: 100%|██████████| 5/5 [01:05<00:00, 13.01s/it]\n"
     ]
    }
   ],
   "source": [
    "best_params = {'retail': 0.5234169902075426, 'primary_school': 0.8189852636000965, 'secondary_school': 1.1516441210574122, \n",
    "               'work': 0.07179707294863724, 'presymptomatic': 0.3870375860336805, 'symptomatic': 0.6581503001512558, \n",
    "               'asymptomatic': 0.2609686051991401, 'current_risk_beta': 0.01786588871820107}\n",
    "const_params_dict = {\"home\": 1.0}\n",
    "OpenCLRunner.set_constants(const_params_dict)\n",
    "\n",
    "## Run model with these best parameters\n",
    "OpenCLRunner.update(store_detailed_counts=True)  # Temporarily output age breakdowns\n",
    "(distance_mc2, sim_mc2, obs_mc2, out_params_mc2, summaries_mc2) = OpenCLRunner.run_model_with_params_abc(\n",
    "    best_params, return_full_details=True, quiet = False)\n",
    "OpenCLRunner.update(store_detailed_counts=STORE_DETAILED_COUNTS)"
   ]
  },
  {
   "cell_type": "markdown",
   "id": "ec338f70",
   "metadata": {},
   "source": [
    "#### Plot results"
   ]
  },
  {
   "cell_type": "code",
   "execution_count": 8,
   "id": "5ae9e481",
   "metadata": {},
   "outputs": [
    {
     "data": {
      "text/plain": [
       "<matplotlib.legend.Legend at 0x7f7e99643dd0>"
      ]
     },
     "execution_count": 8,
     "metadata": {},
     "output_type": "execute_result"
    },
    {
     "data": {
      "image/png": "[encoded data removed]",
      "text/plain": [
       "<Figure size 432x288 with 1 Axes>"
      ]
     },
     "metadata": {
      "needs_background": "light"
     },
     "output_type": "display_data"
    }
   ],
   "source": [
    "# Check the model returns the observations correctly i.e. that theyre the same length\n",
    "np.array_equal(obs_manualcalibration, cases_devon_daily.loc[:len(sim_manualcalibration)-1,\"CumulativeCases\"])\n",
    "\n",
    "# Plot\n",
    "fig, ax = plt.subplots(1,1)\n",
    "x = range(len(sim_manualcalibration))\n",
    "# ax.plot(x, sim_manualcalibration, label=\"sim\", color=\"orange\")\n",
    "ax.plot(x, sim_mc2, label=\"sim_BestPerfoming\", color=\"green\")\n",
    "ax.plot(x, obs_manualcalibration, label=\"obs\", color=\"blue\")\n",
    "ax.legend()\n"
   ]
  },
  {
   "cell_type": "markdown",
   "id": "da6a3764",
   "metadata": {},
   "source": [
    "## Run model with dynamic calibration\n",
    "### Define parameter values\n",
    "#### Define constants\n",
    "These are not touched by ABC. Include parameters that should not be optimised."
   ]
  },
  {
   "cell_type": "code",
   "execution_count": 13,
   "id": "add4350a",
   "metadata": {},
   "outputs": [],
   "source": [
    "const_params_dict = { \"current_risk_beta\": 0.025239665550846085,\"home\": 1.0}\n",
    "OpenCLRunner.set_constants(const_params_dict)"
   ]
  },
  {
   "cell_type": "markdown",
   "id": "b18e1698",
   "metadata": {},
   "source": [
    "#### Define random variables and the prior distributions\n",
    "Random variables are the global parameters."
   ]
  },
  {
   "cell_type": "code",
   "execution_count": 14,
   "id": "2301f8e9",
   "metadata": {},
   "outputs": [
    {
     "name": "stderr",
     "output_type": "stream",
     "text": [
      "/Users/nick/opt/anaconda3/envs/ramp-ua/lib/python3.7/site-packages/ipykernel_launcher.py:31: UserWarning: Matplotlib is currently using module://ipykernel.pylab.backend_inline, which is a non-GUI backend, so cannot show the figure.\n"
     ]
    },
    {
     "data": {
      "image/png": "[encoded data removed]",
      "text/plain": [
       "<Figure size 1008x432 with 8 Axes>"
      ]
     },
     "metadata": {
      "needs_background": "light"
     },
     "output_type": "display_data"
    }
   ],
   "source": [
    "# School and retail multipliers are uniform between 0-1\n",
    "retail_rv, primary_school_rv, secondary_school_rv = (pyabc.RV(\"uniform\", 0, 1) for _ in range(3))\n",
    "# Work needs some dampening because we know that workplaces are too big in the current implementation\n",
    "work_rv = pyabc.RV(\"beta\", 0.1, 2)\n",
    "\n",
    "# Individual multipliers\n",
    "# Asymptomatic is normal such that the middle 95% is the range [0.138, 0.75]  (see justification in abc)\n",
    "# No idea about (pre)symptomatic, so use same distribution as asymptomatic\n",
    "presymptomatic_rv, symptomatic_rv, asymptomatic_rv = (pyabc.RV(\"norm\", 0.444, 0.155) for _ in range(3))\n",
    "\n",
    "# Group all random variables together and give them a string name (this is needed for the distribution later)\n",
    "all_rv = {\n",
    "    \"retail\": retail_rv, \"primary_school\": primary_school_rv, \"secondary_school\": secondary_school_rv, \"work\": work_rv,\n",
    "    \"presymptomatic\": presymptomatic_rv, \"symptomatic\": symptomatic_rv, \"asymptomatic\": asymptomatic_rv\n",
    "}\n",
    "\n",
    "# Plot priors\n",
    "fig, axes = plt.subplots(2, 4, figsize=(14, 6), sharex=True, sharey=True)\n",
    "x = np.linspace(-1, 2, 99)  # (specified so that we have some whole numbers)\n",
    "marker = itertools.cycle((',', '+', '.', 'o', '*'))\n",
    "for i, (var_name, variable) in enumerate(all_rv.items()):\n",
    "    # var_name = [ k for k,v in locals().items() if v is variable][0]  # Hack to get the name of the variable\n",
    "    ax = axes.flatten()[i]\n",
    "    # ax.plot(x, pyabc.Distribution(param=variable).pdf({\"param\": x}), label = var_name, marker=next(marker), ms=3)\n",
    "    ax.plot(x, pyabc.Distribution(param=variable).pdf({\"param\": x}))\n",
    "    ax.set_title(var_name)\n",
    "    ax.axvline(x=0.0, ls='--', color=\"grey\", label=\"x=0\")\n",
    "    ax.axvline(x=1.0, ls='--', color=\"grey\", label=\"x=1\")\n",
    "# fig.tight_layout()\n",
    "fig.suptitle(\"Priors\")\n",
    "fig.show()\n",
    "\n",
    "## Create a distrubtion from these random variables\n",
    "decorated_rvs = {name: pyabc.LowerBoundDecorator(rv, 0.0) for name, rv in all_rv.items()}\n",
    "\n",
    "# Define the original priors\n",
    "original_priors = pyabc.Distribution(**decorated_rvs)"
   ]
  },
  {
   "cell_type": "markdown",
   "id": "500b327c",
   "metadata": {},
   "source": [
    "#### Define parameters for running model"
   ]
  },
  {
   "cell_type": "code",
   "execution_count": 15,
   "id": "04ef8414",
   "metadata": {},
   "outputs": [
    {
     "name": "stdout",
     "output_type": "stream",
     "text": [
      "Activity locations: {'Home': <Home ActivityLocation>, 'Retail': <Retail ActivityLocation>, 'PrimarySchool': <PrimarySchool ActivityLocation>, 'SecondarySchool': <SecondarySchool ActivityLocation>, 'Work': <Work ActivityLocation>}\n"
     ]
    }
   ],
   "source": [
    "# Set the size of a data assimilation window in days:\n",
    "da_window_size =14\n",
    "\n",
    "# Initialise the population\n",
    "DATA_DIR = os.path.join(\"..\", \"..\", \"devon_data\")\n",
    "cache_dir = os.path.join(DATA_DIR, \"caches\")\n",
    "cache = InitialisationCache(cache_dir=cache_dir)\n",
    "if cache.is_empty():\n",
    "    raise Exception(f\"The cache in {cache_dir} has not been initialised. Probably need to run the code a\",\n",
    "                    \"few cells up that initialises the population\")\n",
    "\n",
    "individuals_df, activity_locations = cache.read_from_cache()\n",
    "print(f\"Activity locations: {activity_locations}\")\n",
    "\n",
    "\n",
    "# Dictionary with parameters for running model\n",
    "admin_params = {\"quiet\": True, \"use_gpu\": USE_GPU, \"store_detailed_counts\": True, \"start_day\": 0,  \"run_length\": da_window_size,\n",
    "                \"current_particle_pop_df\": None,  \"parameters_file\": PARAMETERS_FILE, \"snapshot_file\": SNAPSHOT_FILEPATH, \n",
    "                \"opencl_dir\": OPENCL_DIR, \"individuals_df\": individuals_df, \n",
    "                \"observations_weekly_array\": observations_weekly_array,'num_seed_days' :7}"
   ]
  },
  {
   "cell_type": "markdown",
   "id": "f3aaf831",
   "metadata": {},
   "source": [
    "#### Define dynamic calibration loop"
   ]
  },
  {
   "cell_type": "code",
   "execution_count": 16,
   "id": "4bb74352",
   "metadata": {},
   "outputs": [
    {
     "name": "stdout",
     "output_type": "stream",
     "text": [
      "Window number:  1\n",
      "Running for 14 days\n"
     ]
    },
    {
     "ename": "Exception",
     "evalue": "A parameter 'current_risk_beta' has been provided, but it has also been set as a constant.\n\tconstants are: dict_keys(['current_risk_beta', 'home'])",
     "output_type": "error",
     "traceback": [
      "\u001b[0;31m---------------------------------------------------------------------------\u001b[0m",
      "\u001b[0;31mException\u001b[0m                                 Traceback (most recent call last)",
      "\u001b[0;32m<ipython-input-16-b05142022ccb>\u001b[0m in \u001b[0;36m<module>\u001b[0;34m\u001b[0m\n\u001b[1;32m     21\u001b[0m \u001b[0;34m\u001b[0m\u001b[0m\n\u001b[1;32m     22\u001b[0m     \u001b[0;31m# Create template for model\u001b[0m\u001b[0;34m\u001b[0m\u001b[0;34m\u001b[0m\u001b[0;34m\u001b[0m\u001b[0m\n\u001b[0;32m---> 23\u001b[0;31m     \u001b[0mtemplate\u001b[0m \u001b[0;34m=\u001b[0m \u001b[0mOpenCLWrapper\u001b[0m\u001b[0;34m(\u001b[0m\u001b[0mconst_params_dict\u001b[0m\u001b[0;34m,\u001b[0m \u001b[0;34m**\u001b[0m\u001b[0madmin_params\u001b[0m\u001b[0;34m)\u001b[0m\u001b[0;34m\u001b[0m\u001b[0;34m\u001b[0m\u001b[0m\n\u001b[0m\u001b[1;32m     24\u001b[0m     \u001b[0;31m# Not sure why this is needed. Wthout it we get an error when passing the template object to ABCSMC below\u001b[0m\u001b[0;34m\u001b[0m\u001b[0;34m\u001b[0m\u001b[0;34m\u001b[0m\u001b[0m\n\u001b[1;32m     25\u001b[0m     \u001b[0mtemplate\u001b[0m\u001b[0;34m.\u001b[0m\u001b[0m__name__\u001b[0m \u001b[0;34m=\u001b[0m \u001b[0mOpenCLWrapper\u001b[0m\u001b[0;34m.\u001b[0m\u001b[0m__name__\u001b[0m\u001b[0;34m\u001b[0m\u001b[0;34m\u001b[0m\u001b[0m\n",
      "\u001b[0;32m~/research_not_syncd/git_projects/RAMP-UA/experiments/opencl_runner.py\u001b[0m in \u001b[0;36m__init__\u001b[0;34m(self, const_params_dict, quiet, use_gpu, store_detailed_counts, start_day, run_length, current_particle_pop_df, parameters_file, snapshot_file, opencl_dir, individuals_df, observations_weekly_array, num_seed_days, _random_params_dict)\u001b[0m\n\u001b[1;32m    572\u001b[0m             \u001b[0mself\u001b[0m\u001b[0;34m.\u001b[0m\u001b[0mparams\u001b[0m \u001b[0;34m=\u001b[0m \u001b[0mOpenCLRunner\u001b[0m\u001b[0;34m.\u001b[0m\u001b[0mcreate_parameters\u001b[0m\u001b[0;34m(\u001b[0m\u001b[0;34m**\u001b[0m\u001b[0mfinal_params\u001b[0m\u001b[0;34m)\u001b[0m\u001b[0;34m\u001b[0m\u001b[0;34m\u001b[0m\u001b[0m\n\u001b[1;32m    573\u001b[0m         \u001b[0;32melse\u001b[0m\u001b[0;34m:\u001b[0m\u001b[0;34m\u001b[0m\u001b[0;34m\u001b[0m\u001b[0m\n\u001b[0;32m--> 574\u001b[0;31m             \u001b[0mself\u001b[0m\u001b[0;34m.\u001b[0m\u001b[0mparams\u001b[0m \u001b[0;34m=\u001b[0m \u001b[0mOpenCLRunner\u001b[0m\u001b[0;34m.\u001b[0m\u001b[0mcreate_parameters\u001b[0m\u001b[0;34m(\u001b[0m\u001b[0mparameters_file\u001b[0m\u001b[0;34m=\u001b[0m\u001b[0mself\u001b[0m\u001b[0;34m.\u001b[0m\u001b[0mparameters_file\u001b[0m\u001b[0;34m,\u001b[0m \u001b[0;34m**\u001b[0m\u001b[0mfinal_params\u001b[0m\u001b[0;34m)\u001b[0m\u001b[0;34m\u001b[0m\u001b[0;34m\u001b[0m\u001b[0m\n\u001b[0m\u001b[1;32m    575\u001b[0m \u001b[0;34m\u001b[0m\u001b[0m\n\u001b[1;32m    576\u001b[0m     \u001b[0;32mdef\u001b[0m \u001b[0m__call__\u001b[0m\u001b[0;34m(\u001b[0m\u001b[0mself\u001b[0m\u001b[0;34m,\u001b[0m \u001b[0mrandom_params_dict\u001b[0m\u001b[0;34m)\u001b[0m \u001b[0;34m->\u001b[0m \u001b[0mdict\u001b[0m\u001b[0;34m:\u001b[0m\u001b[0;34m\u001b[0m\u001b[0;34m\u001b[0m\u001b[0m\n",
      "\u001b[0;32m~/research_not_syncd/git_projects/RAMP-UA/experiments/opencl_runner.py\u001b[0m in \u001b[0;36mcreate_parameters\u001b[0;34m(parameters_file, current_risk_beta, infection_log_scale, infection_mode, presymptomatic, asymptomatic, symptomatic, retail, primary_school, secondary_school, home, work)\u001b[0m\n\u001b[1;32m    193\u001b[0m         \u001b[0;31m# current_risk_beta needs to be set first as the OpenCL model pre-multiplies the hazard multipliers by it\u001b[0m\u001b[0;34m\u001b[0m\u001b[0;34m\u001b[0m\u001b[0;34m\u001b[0m\u001b[0m\n\u001b[1;32m    194\u001b[0m         current_risk_beta = OpenCLRunner._check_if_none(\"current_risk_beta\", current_risk_beta,\n\u001b[0;32m--> 195\u001b[0;31m                                                         disease_params['current_risk_beta'])\n\u001b[0m\u001b[1;32m    196\u001b[0m \u001b[0;34m\u001b[0m\u001b[0m\n\u001b[1;32m    197\u001b[0m         \u001b[0;31m# Location hazard multipliers can be passed straight through to the LocationHazardMultipliers object.\u001b[0m\u001b[0;34m\u001b[0m\u001b[0;34m\u001b[0m\u001b[0;34m\u001b[0m\u001b[0m\n",
      "\u001b[0;32m~/research_not_syncd/git_projects/RAMP-UA/experiments/opencl_runner.py\u001b[0m in \u001b[0;36m_check_if_none\u001b[0;34m(cls, param_name, param_value, default_value)\u001b[0m\n\u001b[1;32m    274\u001b[0m             \u001b[0;31m# (it's unlikely that someone would set a constant and then also provide a value for the same parameter)\u001b[0m\u001b[0;34m\u001b[0m\u001b[0;34m\u001b[0m\u001b[0;34m\u001b[0m\u001b[0m\n\u001b[1;32m    275\u001b[0m             \u001b[0;32mif\u001b[0m \u001b[0mparam_name\u001b[0m \u001b[0;32min\u001b[0m \u001b[0mcls\u001b[0m\u001b[0;34m.\u001b[0m\u001b[0mconstants\u001b[0m\u001b[0;34m.\u001b[0m\u001b[0mkeys\u001b[0m\u001b[0;34m(\u001b[0m\u001b[0;34m)\u001b[0m\u001b[0;34m:\u001b[0m\u001b[0;34m\u001b[0m\u001b[0;34m\u001b[0m\u001b[0m\n\u001b[0;32m--> 276\u001b[0;31m                 raise Exception(f\"A parameter '{param_name}' has been provided, but it has also been set as a constant.\"\n\u001b[0m\u001b[1;32m    277\u001b[0m                                 f\"\\n\\tConstants are: {cls.constants.keys()}\")\n\u001b[1;32m    278\u001b[0m             \u001b[0;32mreturn\u001b[0m \u001b[0mparam_value\u001b[0m\u001b[0;34m\u001b[0m\u001b[0;34m\u001b[0m\u001b[0m\n",
      "\u001b[0;31mException\u001b[0m: A parameter 'current_risk_beta' has been provided, but it has also been set as a constant.\n\tconstants are: dict_keys(['current_risk_beta', 'home'])"
     ]
    }
   ],
   "source": [
    "sys.path.append('..')\n",
    "from opencl_runner import OpenCLWrapper  # Some additional functions to simplify running the OpenCL model\n",
    "from opencl_runner import OpenCLRunner\n",
    "\n",
    "# Create dictionaries to store the dfs, weights or history from each window (don't need all of these, but testing for now)\n",
    "dfs_dict, weights_dict, history_dict = {}, {},{}\n",
    "\n",
    "# Store starting time to use to calculate how long processing the whole window has taken\n",
    "starting_windows_time = datetime.datetime.now()\n",
    "\n",
    "# Define number of windows to run for\n",
    "windows = 2\n",
    "\n",
    "# Loop through each window\n",
    "for window_number in range(1, windows + 1):\n",
    "    print(\"Window number: \", window_number)\n",
    "\n",
    "    # Edit the da_window size in the admin params\n",
    "    admin_params['run_length'] = admin_params['run_length'] * window_number\n",
    "    print(\"Running for {} days\".format(da_window_size * window_number))\n",
    "\n",
    "    # Create template for model\n",
    "    template = OpenCLWrapper(const_params_dict, **admin_params)\n",
    "    # Not sure why this is needed. Wthout it we get an error when passing the template object to ABCSMC below\n",
    "    template.__name__ = OpenCLWrapper.__name__\n",
    "\n",
    "    # Define priors\n",
    "    # If first window, then use user-specified (original) priors\n",
    "    if window_number == 1:\n",
    "        priors = original_priors\n",
    "    # If a subsequent window, then generate distribution from posterior from previous window\n",
    "    else:\n",
    "        priors = ArbitraryDistribution(abc_history)\n",
    "\n",
    "    # Set up model\n",
    "    abc = pyabc.ABCSMC(\n",
    "        models=template,  # Model (could be a list)\n",
    "        parameter_priors=priors,  # Priors (could be a list)\n",
    "        # summary_statistics=OpenCLWrapper.summary_stats,  # Summary statistics function (output passed to 'distance')\n",
    "        distance_function=OpenCLWrapper.dummy_distance,  # Distance function\n",
    "        #sampler=pyabc.sampler.SingleCoreSampler(),\n",
    "        transitions=GreaterThanZeroParameterTransition())\n",
    "        # Single core because the model is parallelised anyway (and easier to debug)\n",
    "        # sampler=pyabc.sampler.MulticoreEvalParallelSampler()  # The default sampler\n",
    "        #transition=transition,  # Define how to transition from one population to the next\n",
    "\n",
    "    # Prepare to run the model\n",
    "    db_path = (\"sqlite:///\" + \"ramp_da.db\")  # Path to database\n",
    "\n",
    "    # abc.new() needs the database location and any observations that we will use (these are passed to the\n",
    "    # distance_function provided to pyabc.ABCSMC above). Currently the observations are provided to the model\n",
    "    # when it is initialised and these are then used at the end of the model run() function. So they don't\n",
    "    # need to be provided here.\n",
    "    run_id = abc.new(db=db_path,observed_sum_stat=None)  # {'observation': observations_array, \"individuals\": individuals_df}\n",
    "\n",
    "    # Run model\n",
    "    abc_history = abc.run(max_nr_populations=10)\n",
    "\n",
    "    # Save some info on the posterior parameter distributions.\n",
    "    for t in range(0, abc.history.max_t + 1):\n",
    "\n",
    "        # for this t (population) extract the 100 particle parameter values, and their weights\n",
    "        df_t1, w_t1 = abc.history.get_distribution(m=0, t=t)\n",
    "\n",
    "        # Save these for use in plotting the prior on the plot of parameter values in each population\n",
    "        dfs_dict[\"w{},pop{}\".format(window_number, t)] = df_t1\n",
    "        weights_dict[\"w{}, pop{}\".format(window_number, t)] = w_t1\n",
    "        history_dict[\"w{}\".format(window_number)] = abc_history\n"
   ]
  },
  {
   "cell_type": "markdown",
   "id": "7acadf04",
   "metadata": {},
   "source": [
    "#### Save abc_history object"
   ]
  },
  {
   "cell_type": "code",
   "execution_count": null,
   "id": "782d8f02",
   "metadata": {},
   "outputs": [],
   "source": [
    "fname = \"mollytest_2windows_7seeddays_olddist_new2.pkl\"\n",
    "with open( fname, \"wb\" ) as f:\n",
    "        pickle.dump( history_dict, f)\n",
    "# with open(fname, \"rb\") as f:\n",
    "#             history_dict = pickle.load(f)"
   ]
  },
  {
   "cell_type": "markdown",
   "id": "da0c798a",
   "metadata": {},
   "source": [
    "## Assess how parameter values change over time with dynamic calibration"
   ]
  },
  {
   "cell_type": "markdown",
   "id": "2ccb906c",
   "metadata": {},
   "source": [
    "### Parameter values of final population for each window"
   ]
  },
  {
   "cell_type": "code",
   "execution_count": null,
   "id": "5e84a66f",
   "metadata": {},
   "outputs": [],
   "source": [
    "# define colour map\n",
    "evenly_spaced_interval = np.linspace(0.35, 1, 3)\n",
    "colors = [cm.Greens(x) for x in evenly_spaced_interval]\n",
    "\n",
    "fig, axes = plt.subplots(3,int(len(original_priors)/2), figsize=(12,10))\n",
    "for i, param in enumerate(original_priors.keys()):\n",
    "    color_i =0\n",
    "    ax = axes.flat[i]\n",
    "    # Add parameter priors\n",
    "    priors_x = np.linspace(-1, 2, 99)  # (specified so that we have some whole numbers)\n",
    "    ax.plot(priors_x, pyabc.Distribution(param=all_rv[param]).pdf({\"param\": priors_x}), \n",
    "            color = 'black', label = 'Prior', linewidth  = 1, linestyle ='dashed')\n",
    "    \n",
    "    for history_name, history in history_dict.items():\n",
    "        color = colors[color_i]\n",
    "        df, w = history.get_distribution(m=0, t=history.max_t)\n",
    "        pyabc.visualization.plot_kde_1d(df, w, x=param, ax=ax,\n",
    "                label=history_name, linewidth = 4,\n",
    "                color= color)\n",
    "        ax.legend(fontsize=\"small\")\n",
    "        ax.set_title(f\"{param}\")\n",
    "        handles, labels = ax.get_legend_handles_labels()\n",
    "        ax.get_legend().remove()\n",
    "        color_i = color_i +1\n",
    "fig.legend(handles, labels, loc='center right', fontsize = 17,\n",
    "            bbox_to_anchor=(1.01, 0.17))\n",
    "          # ncol = 8, bbox_to_anchor=(0.5, -0.07))\n",
    "axes[2,2].set_axis_off()\n",
    "axes[2,1].set_axis_off()\n",
    "fig.tight_layout()\n",
    "fig.show()\n",
    "# fig.savefig(\"Plots/8windows_14days_each_finalpop.jpg\")"
   ]
  },
  {
   "cell_type": "markdown",
   "id": "f1197b21",
   "metadata": {},
   "source": [
    "### Parameter values for all populations for each window"
   ]
  },
  {
   "cell_type": "code",
   "execution_count": null,
   "id": "f1931df5",
   "metadata": {},
   "outputs": [],
   "source": [
    "# define colour map and line style to use in intermediate populations\n",
    "evenly_spaced_interval = np.linspace(0.35, 1, 3)\n",
    "colors = [cm.Greens(x) for x in evenly_spaced_interval]\n",
    "linestyles = ['dotted','solid'] # check this is same length as n populations\n",
    "linewidths = [3,4]\n",
    "\n",
    "# Set up plot\n",
    "fig, axes = plt.subplots(3,int(len(original_priors)/2), figsize=(12,10))\n",
    "for i, param in enumerate(original_priors.keys()):\n",
    "    color_i =0\n",
    "    ax = axes.flat[i]\n",
    "    # Add parameter priors\n",
    "    priors_x = np.linspace(-1, 2, 99)  # (specified so that we have some whole numbers)\n",
    "    ax.plot(priors_x, pyabc.Distribution(param=all_rv[param]).pdf({\"param\": priors_x}), \n",
    "            color = 'black', label = 'Prior', linewidth  = 1, linestyle ='dashed')\n",
    "    for history_name, history in history_dict.items():\n",
    "        color = colors[color_i]\n",
    "        for t in range(history.max_t + 1):\n",
    "            df, w = history.get_distribution(m=0, t=t)\n",
    "            pyabc.visualization.plot_kde_1d(df, w, x=param, ax=ax,\n",
    "                label=\"{}, pop {}\".format(history_name, t),\n",
    "                color = color, linestyle = linestyles[t],linewidth = linewidths[t])\n",
    "            ax.legend(fontsize=\"small\")\n",
    "            ax.set_title(f\"{param}\")\n",
    "            handles, labels = ax.get_legend_handles_labels()\n",
    "            ax.get_legend().remove()\n",
    "        color_i = color_i +1\n",
    "        \n",
    "fig.legend(handles, labels, loc='center right', fontsize = 17,\n",
    "            bbox_to_anchor=(1.01, 0.17))\n",
    "axes[2,2].set_axis_off()\n",
    "axes[2,1].set_axis_off()\n",
    "fig.tight_layout()\n",
    "fig.show()"
   ]
  },
  {
   "cell_type": "markdown",
   "id": "d17e9129",
   "metadata": {},
   "source": [
    "## Compare model predictions from dynamically calibrated model against observations"
   ]
  },
  {
   "cell_type": "markdown",
   "id": "1e585e90",
   "metadata": {},
   "source": [
    "### Model predictions from within dynamic calibration window\n",
    "#### Get model predictions, and particle distances for each particle in the final population "
   ]
  },
  {
   "cell_type": "code",
   "execution_count": null,
   "id": "7bf57656",
   "metadata": {},
   "outputs": [],
   "source": [
    "# Create dictionary to store results for each window\n",
    "abc_sum_stats = {}\n",
    "\n",
    "# Loop through each calibration window, defining the number of days it covered\n",
    "for window, n_days in { \"w1\": 14, \"w2\":28}.items():\n",
    "    \n",
    "    # Create lists to store values for each particle\n",
    "    distance_l, daily_preds_l, params_l, daily_preds_msoa_l = [],[],[],[]\n",
    "    \n",
    "    # get the history for this window    \n",
    "    history_wx  = history_dict[window]   \n",
    "    \n",
    "    # Get parameter values\n",
    "    parameter_vals_df, w = history_wx.get_distribution(m=0, t=history_wx.max_t)\n",
    "\n",
    "    # Get the summary stats for the final population for this window ([1] means keep just the \n",
    "    # dataframe and not the array of weights)\n",
    "    weighted_sum_stats_t0 = history_wx.get_weighted_sum_stats_for_model(t=history_wx.max_t)[1]\n",
    "    \n",
    "    # Loop through each particle and save their distance and predictions into the lists\n",
    "    for particle_no in range(0,100):\n",
    "        # Get data for just this particle\n",
    "        particle_x_dict = weighted_sum_stats_t0[particle_no]\n",
    "        \n",
    "        # Get daily predictions\n",
    "        cumulative_model_diseased_by_area = particle_x_dict[\"cumulative_model_diseased_by_area\"]     \n",
    "        cumulative_model_diseased_by_area = cumulative_model_diseased_by_area.iloc[:,0:n_days]\n",
    "        # Add daily msoa predictions for this particle to list\n",
    "        daily_preds_msoa_l.append(cumulative_model_diseased_by_area)\n",
    "        \n",
    "        # Sum over Devon\n",
    "        cumulative_model_diseased_by_area_devon_sum = cumulative_model_diseased_by_area.sum(axis=0)\n",
    "    \n",
    "        # Add daily predictions for this particle to list\n",
    "        daily_preds_l.append(cumulative_model_diseased_by_area_devon_sum.values)\n",
    "        \n",
    "        # Add distance to list\n",
    "        distance_l.append(particle_x_dict['distance'])\n",
    "        \n",
    "        # Add parameter values to list\n",
    "        params_l.append(parameter_vals_df.iloc[particle_no])\n",
    "        \n",
    "    # Add to dictionary for this window\n",
    "    abc_sum_stats[window] = {'distance_l':distance_l, 'daily_preds_ls' :daily_preds_l,\n",
    "                             'params_ls':params_l, 'daily_preds_msoa_l' : daily_preds_msoa_l}"
   ]
  },
  {
   "cell_type": "markdown",
   "id": "da538708",
   "metadata": {},
   "source": [
    "#### For each window, plot the number of infections predicted over time by each particle in the final population"
   ]
  },
  {
   "cell_type": "code",
   "execution_count": null,
   "id": "a8b6b638",
   "metadata": {},
   "outputs": [],
   "source": [
    "# Read in initial cases data (ued in seeding)\n",
    "initial_cases = pd.read_csv(\"../../microsim/opencl/data/daily_cases_devon_shifted_mpld_smoothed_IS.csv\")\n",
    "initial_cases['CumulativeCases'] = initial_cases['num_cases'].cumsum()\n",
    "initial_cases_weekly = pd.DataFrame({'OriginalCases':\n",
    "                                    initial_cases['num_cases'].groupby(initial_cases['num_cases'].index // 7).sum()})\n",
    "initial_cases_weekly['CumulativeCases'] = initial_cases_weekly.cumsum()\n",
    "\n",
    "# Create figure\n",
    "fig, axes = plt.subplots(1, 2, figsize=(12,4))\n",
    "axes_number = 0\n",
    "for window, n_days in { \"w1\": 14, \"w2\":28}.items():\n",
    "    \n",
    "    # Find the best particle\n",
    "    best_particle_idx = abc_sum_stats[window]['distance_l'].index(max(abc_sum_stats[window]['distance_l']))\n",
    "    \n",
    "    # Get data for this window\n",
    "    daily_preds_ls  = abc_sum_stats[window]['daily_preds_ls']   \n",
    "    distance_l = abc_sum_stats[window]['distance_l']   \n",
    "\n",
    "    # Normalise distance to 0-1 to calculate transparency\n",
    "    _distance = np.array(distance_l)  # Easier to do maths on np.array\n",
    "    distance_norm = (_distance - min(_distance)) / (max(_distance) - min(_distance))\n",
    "    \n",
    "    # define number of days these results relate to\n",
    "    x=range(1,n_days+1)    \n",
    "    \n",
    "    # For each particle, plot the predictions, coloured by distance\n",
    "    for i in range(0,len(daily_preds_l)):\n",
    "        axes[axes_number].plot(x, daily_preds_ls[i],\n",
    "                color=\"black\", alpha=1-distance_norm[i])  # (1-x because high distance is bad)\n",
    "   \n",
    "    # Add the best particle\n",
    "    axes[axes_number].plot(x, daily_preds_ls[best_particle_idx], color=\"green\", linewidth = 3,\n",
    "                          label = 'Best particle')  # (1-x because high distance is bad)\n",
    "   \n",
    "    # Add observations\n",
    "    axes[axes_number].plot(x, initial_cases['CumulativeCases'][0:len(daily_preds_ls[0])], label=\"Observations\",\n",
    "                           linewidth = 3, color=\"darkred\")\n",
    "\n",
    "    # Apply labels\n",
    "    axes[axes_number].set_xlabel(\"Day\")\n",
    "    axes[axes_number].set_ylabel(\"Number infections\")\n",
    "    axes[axes_number].set_title(\"{}\".format(window))\n",
    "    \n",
    "    # Apply legend\n",
    "    axes[axes_number].legend(fontsize=\"large\")\n",
    "    \n",
    "    axes_number =axes_number +1\n",
    "    \n",
    "# Set full plot title\n",
    "fig.suptitle('Number of infections predicted by each particle within each window')"
   ]
  },
  {
   "cell_type": "markdown",
   "id": "91134e1b",
   "metadata": {},
   "source": [
    "#### For 2nd window, compare spatial distribution of total infections over final model window period across different particles "
   ]
  },
  {
   "cell_type": "code",
   "execution_count": null,
   "id": "7dcdbce9",
   "metadata": {
    "scrolled": true
   },
   "outputs": [],
   "source": [
    "# # Set up plotting\n",
    "# %matplotlib notebook\n",
    "\n",
    "# # Get statisitcis from final population of final window\n",
    "# weighted_sum_stats = abc_sum_stats['w2']\n",
    "\n",
    "# fig, ax = plt.subplots(figsize=(8,5))\n",
    "# frames = 100 #Number of frames\n",
    "# def draw(frame):\n",
    "#     # plt.clf()\n",
    "#     diseased_by_area =  weighted_sum_stats_t0[frame]['cumulative_model_diseased_by_area'].copy()\n",
    "#     # Add a column containing the cumulative total over all the days\n",
    "#     diseased_by_area['CumulativeTotal_model'] = diseased_by_area.sum(axis=1)\n",
    "#     diseased_by_area['Code'] = diseased_by_area.index\n",
    "#     diseased_by_area_shape = pd.merge(devon_msoa_shapes, diseased_by_area, on=\"Code\")\n",
    "#     base = diseased_by_area_shape.plot(column=\"CumulativeTotal_model\", legend=False, ax=ax)\n",
    "#     title = 'Total numer of infections over 28 days: Particle {}'.format(frame)\n",
    "#     plt.axis('off')\n",
    "#     plt.title(title)\n",
    "#     return base\n",
    "    \n",
    "# def init():\n",
    "#     return draw(0)\n",
    "\n",
    "# def animate(frame):\n",
    "#     return draw(frame)\n",
    "\n",
    "# # Not sure what, if anything, this does\n",
    "# from matplotlib import rc, animation\n",
    "# rc('animation', html='html5')\n",
    "# plt.rcParams['animation.ffmpeg_path'] = '/usr/bin/ffmpeg'\n",
    "# ani = animation.FuncAnimation(fig, animate, frames, interval=200, save_count=50, blit=False, init_func=init,repeat=False)\n",
    "# # ani.save('basic_animation.gif', fps=1)\n",
    "\n",
    "# # from IPython.display import HTML\n",
    "# # HTML(ani.to_jshtml())\n"
   ]
  },
  {
   "cell_type": "markdown",
   "id": "03ce6446",
   "metadata": {},
   "source": [
    "#### Plot spatial distribution of cases over time for best performing particle"
   ]
  },
  {
   "cell_type": "code",
   "execution_count": null,
   "id": "0260c15b",
   "metadata": {},
   "outputs": [],
   "source": [
    "# ## Load required spatial data\n",
    "# from microsim.load_msoa_locations import load_osm_shapefile, load_msoa_shapes\n",
    "# gis_data_dir = (\"../../devon_data\")\n",
    "# devon_msoa_shapes = load_msoa_shapes(gis_data_dir, visualize=False)    \n",
    "\n",
    "# ### Load observations data\n",
    "# cases_msoa_daily['Code'] = cases_msoa_daily.index\n",
    "# cases_msoa_daily_shape = pd.merge(devon_msoa_shapes, cases_msoa_daily, on=\"Code\")\n",
    "\n",
    "# ### Load model data\n",
    "# daily_preds_msoa = daily_preds_msoa_l[best_particle_idx]\n",
    "# daily_preds_msoa['Code'] = daily_preds_msoa.index\n",
    "# daily_preds_msoa_shape = pd.merge(devon_msoa_shapes[['geometry', 'Code']], daily_preds_msoa, on=\"Code\")"
   ]
  },
  {
   "cell_type": "code",
   "execution_count": null,
   "id": "a4b5f0f6",
   "metadata": {
    "scrolled": true
   },
   "outputs": [],
   "source": [
    "# # Set up plotting\n",
    "# %matplotlib notebook\n",
    "# fig, [ax1, ax2] = plt.subplots(nrows=1, ncols=2, figsize=(8, 5))\n",
    "# frames = daily_preds_msoa_shape.shape[1] -2\n",
    "# def animate(frame):\n",
    "#     cases_msoa_daily_shape.plot(column='Day' + str(frame+1), legend=False, ax=ax1)\n",
    "#     ax1.set_title('Observations: Day {}'.format(frame))\n",
    "#     ax1.axis('off')\n",
    "#     daily_preds_msoa_shape.plot(column='Day' + str(frame+1), legend=False, ax=ax2)\n",
    "#     ax2.set_title('Model: Day {}'.format(frame))\n",
    "#     ax2.axis('off')\n",
    "\n",
    "# def init():\n",
    "#     return animate(0)\n",
    "       \n",
    "# # Not sure what, if anything, this does\n",
    "# from matplotlib import rc, animation\n",
    "# rc('animation', html='html5')\n",
    "# plt.rcParams['animation.ffmpeg_path'] = '/usr/bin/ffmpeg'\n",
    "# ani = matplotlib.animation.FuncAnimation(fig, animate, frames=frames, interval=200, save_count=50, blit=False,\n",
    "#                               init_func=init,repeat=True)\n",
    "# # from IPython.display import HTML\n",
    "# # HTML(ani.to_jshtml())"
   ]
  },
  {
   "cell_type": "markdown",
   "id": "b9e552ac",
   "metadata": {},
   "source": []
  },
  {
   "cell_type": "markdown",
   "id": "91db9105",
   "metadata": {},
   "source": [
    "### Model predictions for future"
   ]
  },
  {
   "cell_type": "markdown",
   "id": "d1c9148d",
   "metadata": {},
   "source": [
    "#### Set up OpenCL runner"
   ]
  },
  {
   "cell_type": "code",
   "execution_count": null,
   "id": "39e98abe",
   "metadata": {},
   "outputs": [],
   "source": [
    "# Initialise the class so that its ready to run the model.\n",
    "OpenCLRunner.init(iterations = 105,  repetitions = 5,observations = cases_devon_weekly, use_healthier_pop = True, \n",
    "    use_gpu = USE_GPU, store_detailed_counts = False, parameters_file = PARAMETERS_FILE,opencl_dir = OPENCL_DIR,\n",
    "    snapshot_filepath = SNAPSHOT_FILEPATH,num_seed_days = 7) \n",
    "# Set constants \n",
    "const_params_dict = { \"current_risk_beta\": 0.025239665550846085,\"home\": 1.0}\n",
    "OpenCLRunner.set_constants(const_params_dict)"
   ]
  },
  {
   "cell_type": "markdown",
   "id": "a1b87444",
   "metadata": {},
   "source": [
    "### Use parameters from dynamic calibration process to run model for 105 days - new method"
   ]
  },
  {
   "cell_type": "code",
   "execution_count": null,
   "id": "80468df0",
   "metadata": {},
   "outputs": [],
   "source": [
    "# # Create dictionary to store results for each window\n",
    "# windows_dict_new ={}\n",
    "\n",
    "# for window in ['w1', 'w2']:\n",
    "\n",
    "#     # Define abc_history object from final window\n",
    "#     abc_history = history_dict[window]\n",
    "\n",
    "#     # Get dataframe of posterior parameter values\n",
    "#     df, w = abc_history.get_distribution(m=0, t=abc_history.max_t)\n",
    "\n",
    "#     # Now run N models and store the results of each one\n",
    "#     distance_l, sim_l, obs_l, out_params_l,out_calibrated_params_l, summaries_l = [],[],[],[],[],[] \n",
    "#     negative_count = 0  # Count the number of negatives returned in the KDE posterior\n",
    "#     for i in range(1,df.shape[0]):\n",
    "#         # this sample\n",
    "#         param_values = df.iloc[i].to_dict()\n",
    "#         # If all values are more than 0 \n",
    "#         if all(v > 0 for v in param_values.values()):\n",
    "#             (_distance, _sim, _obs, _out_params, _summaries) = \\\n",
    "#                 OpenCLRunner.run_model_with_params_abc(param_values, return_full_details=True)\n",
    "#             distance_l.append(_distance)\n",
    "#             sim_l.append(_sim)\n",
    "#             obs_l.append(_obs)\n",
    "#             out_params_l.append(_out_params)\n",
    "#             out_calibrated_params_l.append(param_values)\n",
    "#             summaries_l.append(_summaries)\n",
    "#         else:\n",
    "#             negative_count += 1\n",
    "            \n",
    "#         #  Add to dictionary \n",
    "#         windows_dict_new[window] = {'distance': distance_l, 'sim': sim_l, 'obs':obs_l, 'summaries': summaries_l,\n",
    "#                            'out_calibrated_params': out_calibrated_params_l, 'out_params': out_params_l}\n",
    "\n",
    "# print(f\"Finished sampling. Ignored {negative_count} negative samples.\")"
   ]
  },
  {
   "cell_type": "code",
   "execution_count": null,
   "id": "0fb905c5",
   "metadata": {},
   "outputs": [],
   "source": [
    "# # create 3x1 subplots\n",
    "# fig, axs = plt.subplots(nrows=2, ncols=1, constrained_layout=True, figsize = (12,8))\n",
    "# fig.suptitle('Figure title')\n",
    "\n",
    "# # clear subplots\n",
    "# for ax in axs:\n",
    "#     ax.remove()\n",
    "\n",
    "# # add subfigure per subplot\n",
    "# gridspec = axs[0].get_subplotspec().get_gridspec()\n",
    "# subfigs = [fig.add_subfigure(gs) for gs in gridspec]\n",
    "\n",
    "# windows= ['w1','w2']\n",
    "# windows_i = 0\n",
    "# for row, subfig in enumerate(subfigs):\n",
    "#     subfig.suptitle('Window {}'.format(row+1), fontsize = 15)\n",
    "#     this_windows_dict = windows_dict_new[windows[windows_i]]\n",
    "#     # create 1x3 subplots per subfig\n",
    "#     axs = subfig.subplots(nrows=1, ncols=2, sharey= True)\n",
    "#     for col, ax in enumerate(axs):\n",
    "        \n",
    "#         # Plot model values\n",
    "#         _distance = np.array(this_windows_dict['distance'])  # Easier to do maths on np.array\n",
    "#         distance_norm = (_distance - min(_distance)) / (max(_distance) - min(_distance))\n",
    "        \n",
    "#         # Plot observations\n",
    "#         if col == 0:\n",
    "#             x = range(len(this_windows_dict['sim'][0]))\n",
    "#             for i in range(len(this_windows_dict['summaries'])):\n",
    "#                 ax.plot(x, this_windows_dict['sim'][i],\n",
    "#                 color=\"black\", alpha=1 - distance_norm[i]) # (1-x because high distance is bad)\n",
    "#             ax.plot(x, initial_cases_weekly['CumulativeCases'][0:int((105/7))], label=\"Observations\", linewidth=5, color=\"blue\")\n",
    "#             ax.set_title('Weekly')    \n",
    "#         elif col ==1:\n",
    "#             x = range(len(OpenCLRunner.get_cumulative_new_infections(this_windows_dict['summaries'][1])))\n",
    "#             for i in range(len(this_windows_dict['summaries'])):\n",
    "#                 ax.plot(x, OpenCLRunner.get_cumulative_new_infections(this_windows_dict['summaries'][i]),\n",
    "#                 color=\"black\", alpha=1 - distance_norm[i]) # (1-x because high distance is bad)\n",
    "#             ax.plot(x, initial_cases['CumulativeCases'][0:105], label=\"Observations\", linewidth = 5, color=\"blue\")    \n",
    "#             ax.set_title('Daily')\n",
    "    \n",
    "#     # move on to next window\n",
    "#     windows_i = windows_i+1"
   ]
  },
  {
   "cell_type": "markdown",
   "id": "a596f4a7",
   "metadata": {},
   "source": [
    "### Use parameters from dynamic calibration process to run model for 105 days - old method"
   ]
  },
  {
   "cell_type": "code",
   "execution_count": null,
   "id": "aeeaccd9",
   "metadata": {},
   "outputs": [],
   "source": [
    "# Define the number of samples to take from the posterior distribution of parameters\n",
    "N_samples = 30\n",
    "\n",
    "# # Create dictionary to store results for each window\n",
    "windows_dict ={}\n",
    "\n",
    "for window in ['w1', 'w2']:\n",
    "\n",
    "    # Define abc_history object from final window\n",
    "    abc_history = history_dict[window]\n",
    "\n",
    "    # Get dataframe of posterior parameter values\n",
    "    df, w = abc_history.get_distribution(m=0, t=abc_history.max_t)\n",
    "\n",
    "    # Sample from the dataframe of posteriors using KDE\n",
    "    kde = MultivariateNormalTransition(scaling=1)\n",
    "    kde.fit(df, w)\n",
    "    samples = kde.rvs(N_samples)\n",
    "\n",
    "    # Now run N models and store the results of each one\n",
    "    distance_l, sim_l, obs_l, out_params_l,out_calibrated_params_l, summaries_l = [],[],[],[],[],[] \n",
    "\n",
    "    negative_count = 0  # Count the number of negatives returned in the KDE posterior\n",
    "    for i, sample in samples.iterrows():\n",
    "        # Check for negatives. If needed, resample\n",
    "        while (sample < 0).values.any():\n",
    "            #print(\"Found negatives. Resampling\")\n",
    "            negative_count += 1\n",
    "            sample = kde.rvs()\n",
    "            # Added in this line as the sample was in the wrong format for the while loop\n",
    "            sample = pd.Series(sample)\n",
    "\n",
    "        # Create a dictionary with the parameters and their values for this sample\n",
    "        param_values = sample.to_dict()\n",
    "        #print(param_values)\n",
    "\n",
    "        # _summaries = \n",
    "        (_distance, _sim, _obs, _out_params, _summaries) = \\\n",
    "            OpenCLRunner.run_model_with_params_abc(param_values, return_full_details=True)\n",
    "        #print(f\"distance: {_distance}.\")\n",
    "\n",
    "        distance_l.append(_distance)\n",
    "        sim_l.append(_sim)\n",
    "        obs_l.append(_obs)\n",
    "        out_params_l.append(_out_params)\n",
    "        out_calibrated_params_l.append(param_values)\n",
    "        summaries_l.append(_summaries)\n",
    "\n",
    "    print(f\"Finished sampling. Ignored {negative_count} negative samples.\")\n",
    "\n",
    "    # add to dictionary\n",
    "    windows_dict[window] = {'distance': distance_l, 'sim': sim_l, 'obs':obs_l, 'summaries': summaries_l, \n",
    "                           'out_calibrated_params': out_calibrated_params_l, 'out_params': out_params_l}\n"
   ]
  },
  {
   "cell_type": "markdown",
   "id": "53e75266",
   "metadata": {},
   "source": [
    "#### Plot the individual results for each sample and compare to observations"
   ]
  },
  {
   "cell_type": "code",
   "execution_count": null,
   "id": "2055982f",
   "metadata": {},
   "outputs": [],
   "source": [
    "windows= ['w1','w2']\n",
    "\n",
    "# create 3x1 subplots\n",
    "fig, axs = plt.subplots(nrows=2, ncols=1, constrained_layout=True, figsize = (12,8))\n",
    "fig.suptitle('Figure title')\n",
    "\n",
    "# clear subplots\n",
    "for ax in axs:\n",
    "    ax.remove()\n",
    "\n",
    "# add subfigure per subplot\n",
    "gridspec = axs[0].get_subplotspec().get_gridspec()\n",
    "subfigs = [fig.add_subfigure(gs) for gs in gridspec]\n",
    "\n",
    "windows_i = 0\n",
    "for row, subfig in enumerate(subfigs):\n",
    "    subfig.suptitle('Window {}'.format(row+1), fontsize = 15)\n",
    "    this_windows_dict = windows_dict[windows[windows_i]]\n",
    "    # create 1x3 subplots per subfig\n",
    "    axs = subfig.subplots(nrows=1, ncols=2, sharey= True)\n",
    "    for col, ax in enumerate(axs):\n",
    "        \n",
    "        # Plot model values\n",
    "        _distance = np.array(this_windows_dict['distance'])  # Easier to do maths on np.array\n",
    "        distance_norm = (_distance - min(_distance)) / (max(_distance) - min(_distance))\n",
    "        \n",
    "        # Plot observations\n",
    "        if col == 0:\n",
    "            x = range(len(this_windows_dict['sim'][0]))\n",
    "            for i in range(len(this_windows_dict['summaries'])):\n",
    "                ax.plot(x, this_windows_dict['sim'][i],\n",
    "                color=\"black\", alpha=1 - distance_norm[i]) # (1-x because high distance is bad)\n",
    "            ax.plot(x, initial_cases_weekly['CumulativeCases'][0:int((105/7))], label=\"Observations\", linewidth=5, color=\"blue\")\n",
    "            ax.set_title('Weekly')    \n",
    "        elif col ==1:\n",
    "            x = range(len(OpenCLRunner.get_cumulative_new_infections(this_windows_dict['summaries'][1])))\n",
    "            for i in range(len(this_windows_dict['summaries'])):\n",
    "                ax.plot(x, OpenCLRunner.get_cumulative_new_infections(this_windows_dict['summaries'][i]),\n",
    "                color=\"black\", alpha=1 - distance_norm[i]) # (1-x because high distance is bad)\n",
    "            ax.plot(x, initial_cases['CumulativeCases'][0:105], label=\"Observations\", linewidth = 5, color=\"blue\")\n",
    "            ax.set_title('Daily')\n",
    "    \n",
    "    # move on to next window\n",
    "    windows_i = windows_i+1"
   ]
  },
  {
   "cell_type": "markdown",
   "id": "287d058e",
   "metadata": {},
   "source": [
    "### Run model with single 'best' estimate of parameter values "
   ]
  },
  {
   "cell_type": "markdown",
   "id": "508d07d6",
   "metadata": {},
   "source": [
    "#### Find the sample drawn from the posterior distribution which has the smallest distance (best performing!)"
   ]
  },
  {
   "cell_type": "code",
   "execution_count": null,
   "id": "5bfcddc6",
   "metadata": {},
   "outputs": [],
   "source": [
    "# Find the index of the lowest distance value\n",
    "best_params_dict = {}\n",
    "best_sim_dict = {}\n",
    "\n",
    "for method, my_dict in zip(['old method', 'new method'], [windows_dict, windows_dict_new]):\n",
    "    # check if dict works (i.e. if run new method)\n",
    "    if bool(my_dict)== True:\n",
    "        for window in ['w1', 'w2']:\n",
    "            # Find the index of the lowest distance value\n",
    "            best_model_idx = np.argmin(my_dict[window]['distance'])\n",
    "            # Find the corresponding parameter values\n",
    "            best_params = my_dict[window]['out_calibrated_params'][best_model_idx]\n",
    "\n",
    "            ## Run model with these best parameters\n",
    "            OpenCLRunner.update(store_detailed_counts=True)  # Temporarily output age breakdowns\n",
    "            (distance_bestparams, sim_bestparams, obs_bestparams, out_params_bestparams, summaries_bestparams) = OpenCLRunner.run_model_with_params_abc(\n",
    "                best_params, return_full_details=True, quiet = True)\n",
    "            OpenCLRunner.update(store_detailed_counts=STORE_DETAILED_COUNTS)\n",
    "\n",
    "            # Add to dictionary\n",
    "            best_params_dict['{} - {}'.format(method, window)]= best_params\n",
    "            best_sim_dict['{} - {}'.format(method, window)] = sim_bestparams"
   ]
  },
  {
   "cell_type": "markdown",
   "id": "096bb5e0",
   "metadata": {},
   "source": [
    "#### See how the parameters from the particle with the lowest distance relate to the marginal posteriors"
   ]
  },
  {
   "cell_type": "code",
   "execution_count": null,
   "id": "35822676",
   "metadata": {},
   "outputs": [],
   "source": [
    "# define colour map\n",
    "evenly_spaced_interval = np.linspace(0.35, 1, 3)\n",
    "colors = [cm.Greens(x) for x in evenly_spaced_interval]\n",
    "\n",
    "fig, axes = plt.subplots(3,int(len(original_priors)/2), figsize=(12,10))\n",
    "for i, param in enumerate(original_priors.keys()):\n",
    "    color_i =0\n",
    "    ax = axes.flat[i]  \n",
    "    for history_name, history in history_dict.items():\n",
    "        color = colors[color_i]\n",
    "        df, w = history.get_distribution(m=0, t=history.max_t)\n",
    "        pyabc.visualization.plot_kde_1d(df, w, x=param, ax=ax,\n",
    "                label=history_name, linewidth = 4,\n",
    "                color= color)\n",
    "        ax.legend(fontsize=\"small\")\n",
    "        ax.set_title(f\"{param}\")\n",
    "        handles, labels = ax.get_legend_handles_labels()\n",
    "        ax.get_legend().remove()\n",
    "        color_i = color_i +1\n",
    "        ax.axvline(x=best_params[param], color=\"grey\", linestyle=\"solid\")\n",
    "    ax.text(x=best_params[param], y=0.9*ax.get_ylim()[1], s=str(round(best_params[param],3)), fontsize=12)\n",
    "    ax.set_title(f\"{param}\")    \n",
    "fig.legend(handles, labels, loc='center right', fontsize = 17,\n",
    "            bbox_to_anchor=(1.01, 0.17))\n",
    "          # ncol = 8, bbox_to_anchor=(0.5, -0.07))\n",
    "axes[2,2].set_axis_off()\n",
    "axes[2,1].set_axis_off()\n",
    "fig.tight_layout()\n",
    "fig.show()\n",
    "# fig.savefig(\"Plots/8windows_14days_each_finalpop.jpg\")"
   ]
  },
  {
   "cell_type": "markdown",
   "id": "86791ae5",
   "metadata": {},
   "source": [
    "#### Run model with 'best' parameter values"
   ]
  },
  {
   "cell_type": "code",
   "execution_count": null,
   "id": "e8e625a6",
   "metadata": {},
   "outputs": [],
   "source": [
    "# Create figure\n",
    "fig, axes = plt.subplots(1, 2, figsize=(12,4))\n",
    "for axes_number in [0,1]:\n",
    "    if axes_number == 1:\n",
    "        axes[axes_number].plot(range(len(sim_manualcalibration)), sim_manualcalibration, label=\"manual_calibration\", color=\"black\")\n",
    "    axes[axes_number].plot(range(len(initial_cases_weekly['CumulativeCases'][0:(int(ITERATIONS/7))])), \n",
    "            initial_cases_weekly['CumulativeCases'][0:(int(ITERATIONS/7))], label=\"obs\", color=\"blue\")\n",
    "    \n",
    "    axes[axes_number].plot(x, sim_mc2, label=\"sim_BestPerfoming\", color=\"black\")\n",
    "    \n",
    "    # for method in ['old method', 'new method']:\n",
    "    for method in ['old method']:\n",
    "        linestyle = 'dashed' if method == 'old method' else 'solid'\n",
    "        for window in ['w1', 'w2']:\n",
    "            best_sim = best_sim_dict[\"{} - {}\".format(method, window)]\n",
    "            col = 'red' if window == 'w1' else 'green'\n",
    "            # Add to plot\n",
    "            axes[axes_number].plot(range(len(best_sim)), best_sim, label=\"BestParams - {} - {}\".format(window, method), color=col,\n",
    "                   linestyle=linestyle)\n",
    "            axes[axes_number].legend()"
   ]
  },
  {
   "cell_type": "markdown",
   "id": "cb1418bb",
   "metadata": {},
   "source": [
    "### Compare spatial distribution\n",
    "\n",
    "Can't do this currently as OpenCLRunner doesn't return a breakdown by MSOA"
   ]
  },
  {
   "cell_type": "markdown",
   "id": "e64fb91b",
   "metadata": {},
   "source": [
    "### Save/pickle"
   ]
  },
  {
   "cell_type": "code",
   "execution_count": null,
   "id": "4f484240",
   "metadata": {},
   "outputs": [],
   "source": [
    "fname = \"2windows_7seeds_OldDistance_abc.pkl\"\n",
    "with open( fname, \"wb\" ) as f:\n",
    "        pickle.dump( history, f)"
   ]
  }
 ],
 "metadata": {
  "kernelspec": {
   "display_name": "Python 3",
   "language": "python",
   "name": "python3"
  },
  "language_info": {
   "codemirror_mode": {
    "name": "ipython",
    "version": 3
   },
   "file_extension": ".py",
   "mimetype": "text/x-python",
   "name": "python",
   "nbconvert_exporter": "python",
   "pygments_lexer": "ipython3",
   "version": "3.7.10"
  }
 },
 "nbformat": 4,
 "nbformat_minor": 5
}
