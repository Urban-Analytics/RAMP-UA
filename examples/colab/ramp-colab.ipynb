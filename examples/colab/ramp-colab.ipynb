{
  "nbformat": 4,
  "nbformat_minor": 0,
  "metadata": {
    "kernelspec": {
      "display_name": "Python 3",
      "language": "python",
      "name": "python3"
    },
    "language_info": {
      "codemirror_mode": {
        "name": "ipython",
        "version": 3
      },
      "file_extension": ".py",
      "mimetype": "text/x-python",
      "name": "python",
      "nbconvert_exporter": "python",
      "pygments_lexer": "ipython3",
      "version": "3.7.8"
    },
    "colab": {
      "name": "analyse_opencl_results.ipynb",
      "provenance": []
    }
  },
  "cells": [
    {
      "cell_type": "markdown",
      "metadata": {
        "id": "G-fcTIf19LQ6"
      },
      "source": [
        "# Sensitivity Analysis with the OpenCL RAMP model\n",
        "\n",
        "This is an example notebook that runs on Google Colab that makes use of the RAMP-UA OpenCL model.\n"
      ]
    },
    {
      "cell_type": "code",
      "metadata": {
        "id": "RUpJ6lyH9N7t"
      },
      "source": [
        "! git clone --single-branch --branch examples-section https://github.com/Urban-Analytics/RAMP-UA.git"
      ],
      "execution_count": null,
      "outputs": []
    },
    {
      "cell_type": "code",
      "metadata": {
        "id": "Ey7k_oSy409t"
      },
      "source": [
        "%%bash\n",
        "\n",
        "wget https://repo.continuum.io/miniconda/Miniconda3-4.5.4-Linux-x86_64.sh\n",
        "chmod +x Miniconda3-4.5.4-Linux-x86_64.sh\n",
        "bash ./Miniconda3-4.5.4-Linux-x86_64.sh -b -f -p /usr/local"
      ],
      "execution_count": null,
      "outputs": []
    },
    {
      "cell_type": "code",
      "metadata": {
        "id": "U5qDC7-Q6xRF"
      },
      "source": [
        "%%bash \n",
        "\n",
        "echo \"python 3.6.*\" > /usr/local/conda-meta/pinned\n",
        "\n",
        "#Installing another conda package first something first seems to fix https://github.com/rapidsai/rapidsai-csp-utils/issues/4\n",
        "conda install --channel defaults conda python=3.6 --yes\n",
        "conda update -y -c conda-forge -c defaults --all\n",
        "conda install -y --prefix /usr/local -c conda-forge -c defaults openssl six\n",
        "\n",
        "conda install -y --prefix /usr/local \\\n",
        "        -c conda-forge -c defaults \\\n",
        "        python=3.6 pandas=1.0.3 matplotlib=3.1.3 pyopencl=2020.2.2\n",
        "\n",
        "pip install -r RAMP-UA/microsim/opencl/requirements.txt"
      ],
      "execution_count": null,
      "outputs": []
    },
    {
      "cell_type": "code",
      "metadata": {
        "id": "WxCNMMw79Oft"
      },
      "source": [
        "%%bash\n",
        "\n",
        "cd RAMP-UA/\n",
        "\n",
        "pip install ."
      ],
      "execution_count": null,
      "outputs": []
    },
    {
      "cell_type": "code",
      "metadata": {
        "id": "jTKHc0137kmk"
      },
      "source": [
        "import sys, os\n",
        "\n",
        "dist_package_index = sys.path.index('/usr/local/lib/python3.6/dist-packages')\n",
        "sys.path = sys.path[:dist_package_index] + ['/usr/local/lib/python3.6/site-packages'] + sys.path[dist_package_index:]\n",
        "sys.path"
      ],
      "execution_count": null,
      "outputs": []
    },
    {
      "cell_type": "code",
      "metadata": {
        "id": "D7ZLKb9O-BRL"
      },
      "source": [
        "!python --version"
      ],
      "execution_count": null,
      "outputs": []
    },
    {
      "cell_type": "code",
      "metadata": {
        "id": "y8kMoaEm-yEE"
      },
      "source": [
        "import microsim."
      ],
      "execution_count": null,
      "outputs": []
    },
    {
      "cell_type": "markdown",
      "metadata": {
        "id": "OTFK1Pwt9LQ8"
      },
      "source": [
        "### Import opencl modules"
      ]
    },
    {
      "cell_type": "code",
      "metadata": {
        "id": "InL_e-Xw9LQ9"
      },
      "source": [
        "import multiprocessing as mp\n",
        "import numpy as np\n",
        "#import multiprocess as mp  # A fork of multiprocessing that uses dill rather than pickle\n",
        "import yaml # pyyaml library for reading the parameters.yml file\n",
        "import os\n",
        "\n",
        "import matplotlib.pyplot as plt\n",
        "\n",
        "from microsim.opencl.ramp.run import run_headless\n",
        "from microsim.opencl.ramp.snapshot_convertor import SnapshotConvertor\n",
        "from microsim.opencl.ramp.snapshot import Snapshot\n",
        "from microsim.opencl.ramp.params import Params, IndividualHazardMultipliers, LocationHazardMultipliers\n",
        "from microsim.opencl.ramp.simulator import Simulator\n",
        "from microsim.opencl.ramp.disease_statuses import DiseaseStatus\n",
        "\n",
        "import functions # Some additional notebook-specific functions required (functions.py)\n",
        "\n",
        "# Useful for connecting to this kernel\n",
        "%connect_info"
      ],
      "execution_count": null,
      "outputs": []
    },
    {
      "cell_type": "markdown",
      "metadata": {
        "id": "fVCn35Vi9LRF"
      },
      "source": [
        "### Setup params for all runs"
      ]
    },
    {
      "cell_type": "markdown",
      "metadata": {
        "id": "I6qo0aVT9LRH"
      },
      "source": [
        "Read the parameters file"
      ]
    },
    {
      "cell_type": "code",
      "metadata": {
        "id": "_E1G8__d9LRH"
      },
      "source": [
        "PARAMETERS_FILENAME = \"default.yml\"\n",
        "with open(os.path.join(\"..\",\"model_parameters\", PARAMETERS_FILENAME)) as f:\n",
        "    parameters = yaml.load(f, Loader=yaml.SafeLoader)\n",
        "    \n",
        "sim_params = parameters[\"microsim\"]  # Parameters for the dynamic microsim (python)\n",
        "calibration_params = parameters[\"microsim_calibration\"]\n",
        "disease_params = parameters[\"disease\"]  # Parameters for the disease model (r)"
      ],
      "execution_count": null,
      "outputs": []
    },
    {
      "cell_type": "markdown",
      "metadata": {
        "id": "sYeP5Sph9LRN"
      },
      "source": [
        "Prepare the parameters for the OpenCL model. (See [main.py](https://github.com/Urban-Analytics/RAMP-UA/blob/052861cc51be5bc1827c85bb827209f0df73c685/microsim/main.py#L262) for an example of how this is done in the code). "
      ]
    },
    {
      "cell_type": "code",
      "metadata": {
        "id": "wKKdYIub9LRO"
      },
      "source": [
        "current_risk_beta = disease_params['current_risk_beta']\n",
        "\n",
        "# The OpenCL model incorporates the current risk beta by pre-multiplying the hazard multipliers with it\n",
        "location_hazard_multipliers = LocationHazardMultipliers(\n",
        "    retail=calibration_params[\"hazard_location_multipliers\"][\"Retail\"] * current_risk_beta,\n",
        "    primary_school=calibration_params[\"hazard_location_multipliers\"][\"PrimarySchool\"] * current_risk_beta,\n",
        "    secondary_school=calibration_params[\"hazard_location_multipliers\"][\"SecondarySchool\"] * current_risk_beta,\n",
        "    home=calibration_params[\"hazard_location_multipliers\"][\"Home\"] * current_risk_beta,\n",
        "    work=calibration_params[\"hazard_location_multipliers\"][\"Work\"] * current_risk_beta,\n",
        ")\n",
        "\n",
        "# Individual hazard multipliers can be passed straight through\n",
        "individual_hazard_multipliers = IndividualHazardMultipliers(\n",
        "    presymptomatic=calibration_params[\"hazard_individual_multipliers\"][\"presymptomatic\"],\n",
        "    asymptomatic=calibration_params[\"hazard_individual_multipliers\"][\"asymptomatic\"],\n",
        "    symptomatic=calibration_params[\"hazard_individual_multipliers\"][\"symptomatic\"]\n",
        ")\n",
        "\n",
        "proportion_asymptomatic = disease_params[\"asymp_rate\"]\n",
        "\n",
        "params = Params(\n",
        "    location_hazard_multipliers=location_hazard_multipliers,\n",
        "    individual_hazard_multipliers=individual_hazard_multipliers,\n",
        "    proportion_asymptomatic=proportion_asymptomatic\n",
        ")"
      ],
      "execution_count": null,
      "outputs": []
    },
    {
      "cell_type": "markdown",
      "metadata": {
        "id": "Pqmfu06v9LRS"
      },
      "source": [
        "### Get snapshot path\n",
        "**NB** this is the path to the OpenCL snapshot file generated by running `microsim/main.py`. To run with new population data just re-run `main.py --opencl` without the `--use-cache` option, so that it regenerates a new snapshot file and writes it to this location."
      ]
    },
    {
      "cell_type": "code",
      "metadata": {
        "id": "uK83xm_c9LRT"
      },
      "source": [
        "opencl_dir = \"../microsim/opencl\"\n",
        "snapshot_filepath = os.path.join(opencl_dir, \"snapshots\", \"cache.npz\")"
      ],
      "execution_count": null,
      "outputs": []
    },
    {
      "cell_type": "markdown",
      "metadata": {
        "id": "LuTBfRpv9LRY"
      },
      "source": [
        "## Run OpenCL simulation for multiple repetitions"
      ]
    },
    {
      "cell_type": "code",
      "metadata": {
        "id": "Em-0jq9q9LRY"
      },
      "source": [
        "iterations = 120\n",
        "repetitions = 10\n",
        "num_seed_days = 10\n",
        "use_gpu=False\n",
        "\n",
        "summaries = []\n",
        "final_results = []\n",
        "# Prepare the function arguments as lists for starmap\n",
        "l_i = [i for i in range(repetitions)]\n",
        "l_iterations = [iterations] * repetitions\n",
        "l_snapshot_filepath = [snapshot_filepath] * repetitions\n",
        "l_params = [params] * repetitions\n",
        "l_opencl_dir = [opencl_dir] * repetitions\n",
        "l_num_seed_days = [num_seed_days] * repetitions\n",
        "l_use_gpu = [use_gpu] * repetitions\n",
        "\n",
        "#results = functions.run_opencl_model_multiprocess(\n",
        "#    l_i, l_iterations, l_snapshot_filepath, l_params, l_opencl_dir, l_num_seed_days, l_use_gpu)\n",
        "\n",
        "import itertools  # (only while I can't get multiprocessing to work)\n",
        "try:\n",
        "    with mp.Pool(processes=int(os.cpu_count())) as pool:\n",
        "        #results = pool.starmap(\n",
        "        results = itertools.starmap(\n",
        "            functions._run_opencl_model, zip(\n",
        "                l_i, l_iterations, l_snapshot_filepath, l_params, l_opencl_dir, l_num_seed_days, l_use_gpu\n",
        "        ))\n",
        "finally:  # Make sure they get closed (shouldn't be necessary)\n",
        "    pool.close()\n",
        "\n",
        "summaries = [x[0] for x in results]\n",
        "final_results = [x[1] for x in results]\n",
        "\n",
        "# Conver the summaries "
      ],
      "execution_count": null,
      "outputs": []
    },
    {
      "cell_type": "markdown",
      "metadata": {
        "id": "pSuNVvR-9LRd"
      },
      "source": [
        "## Plot output summary data\n",
        "\n",
        "### Total counts of disease status"
      ]
    },
    {
      "cell_type": "code",
      "metadata": {
        "id": "FBPHqDTH9LRe"
      },
      "source": [
        "def plot_summaries(summaries, plot_type=\"error_bars\"):\n",
        "\n",
        "    #fig, ax = plt.subplots(1, len(DiseaseStatus), sharey=True)\n",
        "    fig, ax = plt.subplots(1, 1, figsize=(10,7))\n",
        "    \n",
        "    # Work out the number of repetitions and iterations\n",
        "    iters, reps = _get_iters_and_reps(summaries)\n",
        "    x = range(iters)\n",
        "\n",
        "    for d, disease_status in enumerate(DiseaseStatus):\n",
        "        if disease_status==DiseaseStatus.Susceptible or disease_status==DiseaseStatus.Recovered:\n",
        "            continue\n",
        "        # Calculate the mean and standard deviation\n",
        "        matrix = np.zeros(shape=(reps,iters))\n",
        "        for rep in range(reps):\n",
        "            matrix[rep] = summaries[rep].total_counts[d]\n",
        "        mean = np.mean(matrix, axis=0)\n",
        "        sd = np.std(matrix, axis=0)\n",
        "        if plot_type == \"error_bars\":\n",
        "            ax.errorbar(x, mean, sd, label=f\"{disease_status}\" )\n",
        "        elif plot_type == \"lines\":\n",
        "            for rep in range(reps):\n",
        "                ax.plot(x, matrix[rep], label=f\"{disease_status} {rep}\", \n",
        "                        color=plt.cm.get_cmap(\"hsv\", len(DiseaseStatus))(d) )\n",
        "                \n",
        "    ax.legend() \n",
        "    ax.set_title(\"Disease Status\")\n",
        "    ax.set_xlabel(\"Iteration\")\n",
        "    ax.set_ylabel(\"Number of cases\")\n",
        "\n",
        "def _get_iters_and_reps(summaries):\n",
        "    reps = len(summaries)\n",
        "    iters = len(summaries[0].total_counts[0])\n",
        "    return (iters, reps)"
      ],
      "execution_count": null,
      "outputs": []
    },
    {
      "cell_type": "code",
      "metadata": {
        "id": "BYScwl069LRi"
      },
      "source": [
        "plot_summaries(summaries=summaries, plot_type=\"error_bars\")"
      ],
      "execution_count": null,
      "outputs": []
    },
    {
      "cell_type": "code",
      "metadata": {
        "id": "qs0qXFce9LRm"
      },
      "source": [
        "#plot_summaries(summaries=summaries, plot_type=\"lines\")"
      ],
      "execution_count": null,
      "outputs": []
    },
    {
      "cell_type": "markdown",
      "metadata": {
        "id": "S-6QIzvH9LRp"
      },
      "source": [
        "### Disease statuses by age"
      ]
    },
    {
      "cell_type": "code",
      "metadata": {
        "id": "b7mj5L2y9LRq"
      },
      "source": [
        "   \n",
        "def plot_disease_status_by_age(summaries):\n",
        "\n",
        "    #fig, ax = plt.subplots(1, len(DiseaseStatus), sharey=True)\n",
        "    fig, ax = plt.subplots(int(len(DiseaseStatus)/2), int(len(DiseaseStatus)/2), \n",
        "                           figsize=(15,11), tight_layout=True)\n",
        "    iters, reps = _get_iters_and_reps(summaries)\n",
        "    x = range(iters)\n",
        "    age_thresholds = summaries[0].age_thresholds\n",
        "\n",
        "    for d, disease_status in enumerate(DiseaseStatus):\n",
        "        lower_age_bound = 0\n",
        "        for age_idx in range(len(age_thresholds)):\n",
        "            matrix = np.zeros(shape=(reps, iters))\n",
        "            for rep in range(reps):\n",
        "                #matrix[age_idx][rep][it] = summaries[rep].age_counts[str(disease_status)][age_idx][it]\n",
        "                matrix[rep] = summaries[rep].age_counts[str(disease_status)][age_idx]\n",
        "            mean = np.mean(matrix, axis=0)\n",
        "            sd = np.std(matrix, axis=0)\n",
        "            ax.flat[d].errorbar(x, mean, sd, label=f\"{lower_age_bound} - {age_thresholds[age_idx]}\" )\n",
        "            lower_age_bound = age_thresholds[age_idx]\n",
        "                \n",
        "            ax.flat[d].legend() \n",
        "            ax.flat[d].set_title(f\"{str(disease_status)}\")\n",
        "            ax.flat[d].set_xlabel(\"Iteration\")\n",
        "            ax.flat[d].set_ylabel(\"Number of cases\")\n",
        "    #fig.set_title(f\"Num {disease_status} people by age group\")"
      ],
      "execution_count": null,
      "outputs": []
    },
    {
      "cell_type": "code",
      "metadata": {
        "id": "z3grP3x59LRt"
      },
      "source": [
        "plot_disease_status_by_age(summaries)"
      ],
      "execution_count": null,
      "outputs": []
    },
    {
      "cell_type": "markdown",
      "metadata": {
        "id": "6uyBoAHC9LRx"
      },
      "source": [
        "### Plot MSOA geodata"
      ]
    },
    {
      "cell_type": "markdown",
      "metadata": {
        "id": "N9FA2L429LRy"
      },
      "source": [
        "#### Load MSOA shapes"
      ]
    },
    {
      "cell_type": "code",
      "metadata": {
        "id": "l79WhQRz9LRz"
      },
      "source": [
        "from microsim.load_msoa_locations import load_osm_shapefile, load_msoa_shapes\n",
        "import pandas as pd\n",
        "\n",
        "data_dir = (\"../devon_data\")\n",
        "\n",
        "osm_buildings = load_osm_shapefile(data_dir)\n",
        "\n",
        "devon_msoa_shapes = load_msoa_shapes(data_dir, visualize=False)\n",
        "\n",
        "devon_msoa_shapes.plot()\n",
        "plt.show()"
      ],
      "execution_count": null,
      "outputs": []
    },
    {
      "cell_type": "code",
      "metadata": {
        "id": "l84g3B_K9LR5"
      },
      "source": [
        "import pandas as pd\n",
        "\n",
        "def plot_msoa_choropleth(msoa_shapes, summary, disease_status, timestep):\n",
        "    # get dataframes for all statuses\n",
        "    msoa_data = summary.get_area_dataframes()\n",
        "    \n",
        "    msoa_data_for_status = msoa_data[disease_status]\n",
        "\n",
        "    # add \"Code\" column so dataframes can be merged\n",
        "    msoa_data_for_status[\"Code\"] = msoa_data_for_status.index\n",
        "    msoa_shapes = pd.merge(msoa_shapes, msoa_data_for_status, on=\"Code\")\n",
        "\n",
        "    msoa_shapes.plot(column=f\"Day{timestep}\", legend=True)\n",
        "    plt.show()"
      ],
      "execution_count": null,
      "outputs": []
    },
    {
      "cell_type": "markdown",
      "metadata": {
        "id": "o863DsHB9LR8"
      },
      "source": [
        "### Plot disease status by MSOA for a given timestep and status"
      ]
    },
    {
      "cell_type": "code",
      "metadata": {
        "id": "KrkVIToG9LR8"
      },
      "source": [
        "disease_status = \"exposed\"\n",
        "\n",
        "plot_msoa_choropleth(devon_msoa_shapes, summaries[0], disease_status, 99)"
      ],
      "execution_count": null,
      "outputs": []
    }
  ]
}