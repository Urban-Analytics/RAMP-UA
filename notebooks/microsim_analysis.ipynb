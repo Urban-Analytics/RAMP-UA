{
 "cells": [
  {
   "cell_type": "markdown",
   "metadata": {},
   "source": [
    "# Microsim Analysis and dashboard"
   ]
  },
  {
   "cell_type": "markdown",
   "metadata": {},
   "source": [
    "Analysis and visualisation of the outputs from the [microsim_model.py](./microsim_model.py). This includes preprocessing the pickled data about individuals' disease states and the danger scores associated with venues across the time period of the simulation. The user can choose which scenario(s), repetition(s) and days to process and visualise. "
   ]
  },
  {
   "cell_type": "markdown",
   "metadata": {},
   "source": [
    "## Running the script"
   ]
  },
  {
   "cell_type": "markdown",
   "metadata": {},
   "source": [
    "The current script (microsim/dashboard.py) is standalone: it can be run after microsim/microsim_model.py has produced ouput or if the user has third party output. It takes input parameters from a yml file (default: model_parameters/default_dashboard.yml).\n",
    "\n",
    "The script expects the output to be in basedir/datadir/output/scenario_dir. Basedir is Python's current working directory (usually RAMP-UA). Datadir and scenario_dir can be specified in the yml file. Other parameters that can be changed in the yml file include the start and end day of the simulation (default: 0 to last day) and start and end run (default 0 to 'number of folders in scenario_dir - 1').\n",
    "\n",
    "The current version of the script accepts up to 10 scenarios."
   ]
  },
  {
   "cell_type": "markdown",
   "metadata": {},
   "source": [
    "```YAML\n",
    "dashboard: # Parameters for the dashboard (visualisation), all are optional\n",
    "  output_name: test_dashboard # name for dashboard output file (.html will be added)\n",
    "  data_dir: devon_data # Root directory to load data from\n",
    "  start_day: 0    # Start day\n",
    "  end_day: 80      # End day (inclusive)\n",
    "  start_run: 0   # Iteration/run to start\n",
    "  end_run: 1     # Last iteration/run to include\n",
    "\n",
    "  scenario_name: # names for scenario\n",
    "  - Control\n",
    "  - Alternative\n",
    "  scenario_dir: # directory for scenario (subdir of /output), same order as names above\n",
    "  - sc0\n",
    "  - sc1 \n",
    "```"
   ]
  },
  {
   "cell_type": "markdown",
   "metadata": {},
   "source": [
    "To run the script from the command line, navigate to basedir and run:"
   ]
  },
  {
   "cell_type": "markdown",
   "metadata": {},
   "source": [
    " ```python microsim/dashboard.py```"
   ]
  },
  {
   "cell_type": "markdown",
   "metadata": {},
   "source": [
    "The script's behaviour depends on the input parameters. \n",
    "\n",
    "- If only **1 scenario*** was specified, it will generate an output_name (default: dashboard) .html file which should automatically pop up in your default browser. The values displayed in the plots and maps are the average value across the different repetitions.\n",
    "\n",
    "- If **2 scenarios** are specified, the script will generate a output_name.html file as before, but this time the values displayed are the difference between the (averages of the) second and first scenario (Alternative - Control in the yml above). A second dashboard, output_name_scenarios.html, will be created to compare selected summary measures per scenario (these correspond to the values one would obtain when running only one scenario).\n",
    "\n",
    "- If **more than 2 scenarios** are specified, the script will only generate the output_name_scenarios.html file as above.\n",
    "\n",
    "Each interactive dashboard (created using bokeh) allows you to zoom, pan and reset using the toolbar next to (or on top of) each figure. You can get information by hovering over points and hide/unhide points and lines by clicking on their entry in the legend.\n",
    "\n",
    "The html pages are saved in the data directory, so if they don't open automatically you can manually open them in a browser. You can also share the file with others; you do not need Python (or any other software other than a browser) in order to view and interact with the html dashboard."
   ]
  },
  {
   "cell_type": "markdown",
   "metadata": {},
   "source": [
    "## What the script does"
   ]
  },
  {
   "cell_type": "markdown",
   "metadata": {},
   "source": [
    "### Initialisation\n",
    "\n",
    "In addition to bokeh (https://docs.bokeh.org/en/latest/index.html#), the script needs the following libraries:"
   ]
  },
  {
   "cell_type": "code",
   "execution_count": 1,
   "metadata": {},
   "outputs": [],
   "source": [
    "import os\n",
    "import pickle\n",
    "import pandas as pd\n",
    "import numpy as np\n",
    "import geopandas as gpd\n",
    "import imageio\n",
    "from shapely.geometry import Point\n",
    "import json"
   ]
  },
  {
   "cell_type": "markdown",
   "metadata": {},
   "source": [
    "### Reading data\n",
    "\n",
    "Each time the model is run it outputs data into a new sub-directory under (basedir)/data/output/ numbered incrementally. E.g.:\n",
    "\n",
    "- data/output/scenario/0\n",
    "- data/output/scenario/1\n",
    "- ...\n",
    "\n",
    "The script assumes the current working directory is (basedir) and builds the paths from there based on the data and scenario directory named provided in the yml file:"
   ]
  },
  {
   "cell_type": "markdown",
   "metadata": {},
   "source": [
    "In each run folder (/0, /1 etc), it reads in the following data:\n",
    "- individuals.pickle (contains MSOA, condition for each individual and day)\n",
    "- (venue).pickle files (contains danger scores for each venue and day) e.g. Retail.pickle, PrimarySchool.pickle etc\n",
    "\n",
    "The script also reads in the following data (once):\n",
    "- school and retail data (contains ID, postcode/MSOA and lat/lon coordinates)\n",
    "- shp file of England MSOAs (for choropleth)\n",
    "- postcode to MSOA conversion file (PCD_OA_LSOA_MSOA_LAD_AUG19_UK_LU.csv, for retail file)"
   ]
  },
  {
   "cell_type": "markdown",
   "metadata": {},
   "source": [
    "### Preprocessing data\n",
    "\n",
    "The conditions and venues are defined in a dictionary for easy look up and looping across conditions/venues."
   ]
  },
  {
   "cell_type": "code",
   "execution_count": 2,
   "metadata": {},
   "outputs": [],
   "source": [
    "conditions_dict = {\n",
    "      \"susceptible\": 0,\n",
    "      \"exposed\": 1,\n",
    "      \"presymptomatic\": 2,\n",
    "      \"symptomatic\": 3,\n",
    "      \"asymptomatic\": 4,\n",
    "      \"recovered\": 5,\n",
    "      \"dead\": 6,\n",
    "}\n",
    "\n",
    "locations_dict = {\n",
    "  \"PrimarySchool\": \"PrimarySchool\",\n",
    "  \"SecondarySchool\": \"SecondarySchool\",\n",
    "  \"Retail\": \"Retail\",\n",
    "  \"Work\": \"Work\",\n",
    "  \"Home\": \"Home\",\n",
    "}"
   ]
  },
  {
   "cell_type": "markdown",
   "metadata": {},
   "source": [
    "Variables for plotting are read in from pickle files, preprocessed and stored in dictionaries. The dictionary key is either the condition of the venue type, referring to the look up dictionaries above. The stored variable for a given key is a dataframe or series.\n",
    "\n",
    "- msoacounts_dict (2D) - number of people per MSOA and per day (for given condition)\n",
    "- totalcounts_dict (1D) - number of people per day, summed across all MSOAs (for given condition)\n",
    "- cumcounts_dict (1D) - number of people per day, summed across given time period (for given condition)\n",
    "- agecounts (2D) - number of people per age category and per day (for given condition)\n",
    "- uniquecounts (1D) - number of people  with 'final' disease status across time period e.g. someone who is presymptomatic, symptomatic and recoverd is only counted once as recovered\n",
    "\n",
    "- dangers_dict (2D) - danger score per venue and per day (for given venue type)\n",
    "- dangers_msoa_dict (2D) - average danger score per MSOA and per day (for given venue type). Average danger = sum of danger scores in MSOA / nr of venues in MSOA"
   ]
  },
  {
   "cell_type": "markdown",
   "metadata": {},
   "source": [
    "There are 3 version of the above dictionaries: \n",
    "- ending in *dict* (as above): mean value across runs, used for plotting\n",
    "- ending in *dict_3d*: raw data for all runs stored as 3D array (run being the third dimension), could be used to check data\n",
    "- ending *dict_std*: standard deviation across runs, could be used for error bars"
   ]
  },
  {
   "cell_type": "markdown",
   "metadata": {},
   "source": [
    "### Plotting with bokeh"
   ]
  },
  {
   "cell_type": "markdown",
   "metadata": {},
   "source": [
    "Bokeh uses the general structure below:"
   ]
  },
  {
   "cell_type": "code",
   "execution_count": 3,
   "metadata": {},
   "outputs": [
    {
     "ename": "NameError",
     "evalue": "name 'ColumnDataSource' is not defined",
     "output_type": "error",
     "traceback": [
      "\u001b[0;31m---------------------------------------------------------------------------\u001b[0m",
      "\u001b[0;31mNameError\u001b[0m                                 Traceback (most recent call last)",
      "\u001b[0;32m<ipython-input-3-1030b0aeb7d5>\u001b[0m in \u001b[0;36m<module>\u001b[0;34m\u001b[0m\n\u001b[1;32m      3\u001b[0m \u001b[0;34m\u001b[0m\u001b[0m\n\u001b[1;32m      4\u001b[0m \u001b[0;31m# create a column data source: a dictionary that points to the variables to plot, can be shared between plots\u001b[0m\u001b[0;34m\u001b[0m\u001b[0;34m\u001b[0m\u001b[0;34m\u001b[0m\u001b[0m\n\u001b[0;32m----> 5\u001b[0;31m \u001b[0msource\u001b[0m \u001b[0;34m=\u001b[0m \u001b[0mColumnDataSource\u001b[0m\u001b[0;34m(\u001b[0m\u001b[0mdata\u001b[0m\u001b[0;34m=\u001b[0m\u001b[0mdict\u001b[0m\u001b[0;34m(\u001b[0m\u001b[0mx1\u001b[0m\u001b[0;34m=\u001b[0m\u001b[0mx\u001b[0m\u001b[0;34m,\u001b[0m \u001b[0my1\u001b[0m\u001b[0;34m=\u001b[0m\u001b[0my\u001b[0m\u001b[0;34m)\u001b[0m\u001b[0;34m)\u001b[0m\u001b[0;34m\u001b[0m\u001b[0;34m\u001b[0m\u001b[0m\n\u001b[0m\u001b[1;32m      6\u001b[0m \u001b[0;34m\u001b[0m\u001b[0m\n\u001b[1;32m      7\u001b[0m \u001b[0;31m# output to static HTML file\u001b[0m\u001b[0;34m\u001b[0m\u001b[0;34m\u001b[0m\u001b[0;34m\u001b[0m\u001b[0m\n",
      "\u001b[0;31mNameError\u001b[0m: name 'ColumnDataSource' is not defined"
     ]
    }
   ],
   "source": [
    "x = [1, 2, 3, 4, 5]\n",
    "y = [6, 7, 2, 4, 5]\n",
    "\n",
    "# create a column data source: a dictionary that points to the variables to plot, can be shared between plots\n",
    "source = ColumnDataSource(data=dict(x1=x, y1=y))\n",
    "\n",
    "# output to static HTML file\n",
    "output_file(\"outputname.html\")\n",
    "\n",
    "# create a new plot with a title and axis labels\n",
    "p1 = figure(title=\"title\", x_axis_label='x', y_axis_label='y')\n",
    "\n",
    "# add a renderer e.g. line, point..., refer to column data source keys (here x1 and y1)\n",
    "p1.line(x1, y1, source = source, legend_label=\"label\", line_width=2)\n",
    "\n",
    "# show the results\n",
    "show(p1)"
   ]
  },
  {
   "cell_type": "markdown",
   "metadata": {},
   "source": [
    "A toolbar is added by default (and can be customized e.g. to add hover) for each plot, allowing the user to zoom, pan, reset, save etc. \n",
    "\n",
    "The script produces 3 types of plots (at the moment):"
   ]
  },
  {
   "attachments": {},
   "cell_type": "markdown",
   "metadata": {},
   "source": [
    "#### Line plot\n",
    "\n",
    "Different conditions, venue types or age categories are plotted as lines. One of the axes is a count (number of people or danger score), the other can be time (days) or location (msoa or venue). \n",
    "\n",
    "For one scenario, the values are 'raw' data (the mean across repetitions):\n",
    "\n",
    "![title](lineplot.jpg)\n",
    "\n",
    "When 2 scenarios have been specified, the values are the difference between the 'raw' data from both scenarios (scenario 1 - scenario 0). A value of zero means no difference between both scenarios. \n",
    "\n",
    "![title](agecat.jpg)"
   ]
  },
  {
   "cell_type": "markdown",
   "metadata": {},
   "source": [
    "#### Heatmap\n",
    "\n",
    "Counts (number of people or danger score) are plotted as colours. The axes are time (days) and location (msoa or venue).\n",
    "\n",
    "![title](heatmap.jpg)"
   ]
  },
  {
   "cell_type": "markdown",
   "metadata": {},
   "source": [
    "#### Choropleth"
   ]
  },
  {
   "cell_type": "markdown",
   "metadata": {},
   "source": [
    "Map of MSOAs (possibly masked to restrict them to a relevant area) coloured in proportion to daily values (total number of people with given condition, or average danger score of venues) within each area. A slider above the choropleth allows you to select/move between days.\n",
    "\n",
    "![title](choropleth.jpg)"
   ]
  },
  {
   "cell_type": "markdown",
   "metadata": {},
   "source": [
    "#### Histograms"
   ]
  },
  {
   "cell_type": "markdown",
   "metadata": {},
   "source": [
    "For comparison between scenarios, dodged bar charts show counts (number of people or danger score) on the y axis per category (condition or venue) and scenario (different colours). \n",
    "\n",
    "![title](histogram.jpg)"
   ]
  },
  {
   "cell_type": "markdown",
   "metadata": {},
   "source": []
  }
 ],
 "metadata": {
  "interpreter": {
   "hash": "5189e42352497b0ca2f9957f845b08361f94c6e988b05d058a7abb809ed76937"
  },
  "kernelspec": {
   "display_name": "Python 3.7.10 64-bit ('ramp-ua': conda)",
   "name": "python3"
  },
  "language_info": {
   "codemirror_mode": {
    "name": "ipython",
    "version": 3
   },
   "file_extension": ".py",
   "mimetype": "text/x-python",
   "name": "python",
   "nbconvert_exporter": "python",
   "pygments_lexer": "ipython3",
   "version": "3.7.10"
  }
 },
 "nbformat": 4,
 "nbformat_minor": 4
}
